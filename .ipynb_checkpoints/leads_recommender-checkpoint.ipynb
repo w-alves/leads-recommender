{
 "cells": [
  {
   "cell_type": "markdown",
   "metadata": {
    "colab_type": "text",
    "id": "KXTn3DH0X7xC"
   },
   "source": [
    "### Understending the problem\n",
    "\n",
    "**Objective**\n",
    "\n",
    "The purpose of this product is to provide an automated service that recommends leads to a user given their current customer list (Portfolio).\n",
    "\n",
    "**Contextualization**\n",
    "\n",
    "Some companies would like to know who are the other companies in a given market (population) that are most likely to become their next customers. That is, your solution must find in the market who are the most adherent leads given the characteristics of the customers present in the user's portfolio.\n",
    "\n",
    "In addition, your solution must be user agnostic. Any user with a list of customers who want to explore this market can extract value from the service.\n",
    "\n",
    "For the challenge, the following bases should be considered:\n",
    "\n",
    "> Market: Base with information about the companies in the market to be  considered. \n",
    "\n",
    "> Portfolio 1: Company customer ids 1\n",
    "\n",
    "> Portfolio 2: Company customer ids 2\n",
    "\n",
    "> Portfolio 3: Company customer ids 3\n",
    "\n",
    "Note: all companies (ids) in the portfolios are contained in the Market (population base).\n",
    "\n",
    "Link to download the Market, Portfolio 1, Portfolio 2 and Portfolio 3 bases respectively:"
   ]
  },
  {
   "cell_type": "markdown",
   "metadata": {
    "colab_type": "text",
    "id": "4TWN0-rqYADq"
   },
   "source": [
    "# General setup"
   ]
  },
  {
   "cell_type": "markdown",
   "metadata": {
    "colab_type": "text",
    "id": "VQTQZTF3YMTL"
   },
   "source": [
    "## Imports"
   ]
  },
  {
   "cell_type": "code",
   "execution_count": 2,
   "metadata": {
    "colab": {},
    "colab_type": "code",
    "id": "nJ1wNm4VX8Hv"
   },
   "outputs": [
    {
     "name": "stderr",
     "output_type": "stream",
     "text": [
      "C:\\Users\\PC114\\Anaconda3\\lib\\site-packages\\statsmodels\\tools\\_testing.py:19: FutureWarning: pandas.util.testing is deprecated. Use the functions in the public API at pandas.testing instead.\n",
      "  import pandas.util.testing as tm\n"
     ]
    }
   ],
   "source": [
    "#Importing\n",
    "import pandas as pd\n",
    "import numpy as np\n",
    "import matplotlib.pyplot as plt\n",
    "import seaborn as sns\n",
    "import missingno as msno\n",
    "from sklearn.preprocessing import MinMaxScaler, OneHotEncoder"
   ]
  },
  {
   "cell_type": "markdown",
   "metadata": {
    "colab_type": "text",
    "id": "bbnqgSYlYOaz"
   },
   "source": [
    "## Datasets"
   ]
  },
  {
   "cell_type": "code",
   "execution_count": 3,
   "metadata": {
    "colab": {},
    "colab_type": "code",
    "id": "mC84ZaqIYRBz"
   },
   "outputs": [],
   "source": [
    "#Reading main dataframe\n",
    "raw_market = pd.read_csv('data/estaticos_market.csv', index_col='id')"
   ]
  },
  {
   "cell_type": "code",
   "execution_count": 4,
   "metadata": {
    "colab": {
     "base_uri": "https://localhost:8080/",
     "height": 488
    },
    "colab_type": "code",
    "id": "SQ2_7If1YXPK",
    "outputId": "54160753-cef3-4591-8b8b-8385c834be6f"
   },
   "outputs": [
    {
     "data": {
      "text/html": [
       "<div>\n",
       "<style scoped>\n",
       "    .dataframe tbody tr th:only-of-type {\n",
       "        vertical-align: middle;\n",
       "    }\n",
       "\n",
       "    .dataframe tbody tr th {\n",
       "        vertical-align: top;\n",
       "    }\n",
       "\n",
       "    .dataframe thead th {\n",
       "        text-align: right;\n",
       "    }\n",
       "</style>\n",
       "<table border=\"1\" class=\"dataframe\">\n",
       "  <thead>\n",
       "    <tr style=\"text-align: right;\">\n",
       "      <th></th>\n",
       "      <th>fl_matriz</th>\n",
       "      <th>de_natureza_juridica</th>\n",
       "      <th>sg_uf</th>\n",
       "      <th>natureza_juridica_macro</th>\n",
       "      <th>de_ramo</th>\n",
       "      <th>setor</th>\n",
       "      <th>idade_empresa_anos</th>\n",
       "      <th>idade_emp_cat</th>\n",
       "      <th>fl_me</th>\n",
       "      <th>fl_sa</th>\n",
       "      <th>...</th>\n",
       "      <th>media_meses_servicos</th>\n",
       "      <th>max_meses_servicos</th>\n",
       "      <th>min_meses_servicos</th>\n",
       "      <th>qt_funcionarios</th>\n",
       "      <th>qt_funcionarios_12meses</th>\n",
       "      <th>qt_funcionarios_24meses</th>\n",
       "      <th>tx_crescimento_12meses</th>\n",
       "      <th>tx_crescimento_24meses</th>\n",
       "      <th>tx_rotatividade</th>\n",
       "      <th>qt_filiais</th>\n",
       "    </tr>\n",
       "    <tr>\n",
       "      <th>id</th>\n",
       "      <th></th>\n",
       "      <th></th>\n",
       "      <th></th>\n",
       "      <th></th>\n",
       "      <th></th>\n",
       "      <th></th>\n",
       "      <th></th>\n",
       "      <th></th>\n",
       "      <th></th>\n",
       "      <th></th>\n",
       "      <th></th>\n",
       "      <th></th>\n",
       "      <th></th>\n",
       "      <th></th>\n",
       "      <th></th>\n",
       "      <th></th>\n",
       "      <th></th>\n",
       "      <th></th>\n",
       "      <th></th>\n",
       "      <th></th>\n",
       "      <th></th>\n",
       "    </tr>\n",
       "  </thead>\n",
       "  <tbody>\n",
       "    <tr>\n",
       "      <th>a6984c3ae395090e3bee8ad63c3758b110de096d5d819583a784a113726db849</th>\n",
       "      <td>True</td>\n",
       "      <td>SOCIEDADE EMPRESARIA LIMITADA</td>\n",
       "      <td>RN</td>\n",
       "      <td>ENTIDADES EMPRESARIAIS</td>\n",
       "      <td>INDUSTRIA DA CONSTRUCAO</td>\n",
       "      <td>CONSTRUÇÃO CIVIL</td>\n",
       "      <td>14.457534</td>\n",
       "      <td>10 a 15</td>\n",
       "      <td>False</td>\n",
       "      <td>False</td>\n",
       "      <td>...</td>\n",
       "      <td>43.738462</td>\n",
       "      <td>93.266667</td>\n",
       "      <td>19.166667</td>\n",
       "      <td>26.0</td>\n",
       "      <td>26.0</td>\n",
       "      <td>27.0</td>\n",
       "      <td>0.0</td>\n",
       "      <td>-3.703704</td>\n",
       "      <td>0.0</td>\n",
       "      <td>0</td>\n",
       "    </tr>\n",
       "    <tr>\n",
       "      <th>6178f41ade1365e44bc2c46654c2c8c0eaae27dcb476c47fdef50b33f4f56f05</th>\n",
       "      <td>True</td>\n",
       "      <td>EMPRESARIO INDIVIDUAL</td>\n",
       "      <td>PI</td>\n",
       "      <td>OUTROS</td>\n",
       "      <td>SERVICOS DE ALOJAMENTO/ALIMENTACAO</td>\n",
       "      <td>SERVIÇO</td>\n",
       "      <td>1.463014</td>\n",
       "      <td>1 a 5</td>\n",
       "      <td>False</td>\n",
       "      <td>False</td>\n",
       "      <td>...</td>\n",
       "      <td>NaN</td>\n",
       "      <td>NaN</td>\n",
       "      <td>NaN</td>\n",
       "      <td>NaN</td>\n",
       "      <td>NaN</td>\n",
       "      <td>NaN</td>\n",
       "      <td>NaN</td>\n",
       "      <td>NaN</td>\n",
       "      <td>NaN</td>\n",
       "      <td>0</td>\n",
       "    </tr>\n",
       "    <tr>\n",
       "      <th>4a7e5069a397f12fdd7fd57111d6dc5d3ba558958efc02edc5147bc2a2535b08</th>\n",
       "      <td>True</td>\n",
       "      <td>EMPRESARIO INDIVIDUAL</td>\n",
       "      <td>AM</td>\n",
       "      <td>OUTROS</td>\n",
       "      <td>TRANSPORTE, ARMAZENAGEM E CORREIO</td>\n",
       "      <td>SERVIÇO</td>\n",
       "      <td>7.093151</td>\n",
       "      <td>5 a 10</td>\n",
       "      <td>False</td>\n",
       "      <td>False</td>\n",
       "      <td>...</td>\n",
       "      <td>NaN</td>\n",
       "      <td>NaN</td>\n",
       "      <td>NaN</td>\n",
       "      <td>NaN</td>\n",
       "      <td>NaN</td>\n",
       "      <td>NaN</td>\n",
       "      <td>NaN</td>\n",
       "      <td>NaN</td>\n",
       "      <td>NaN</td>\n",
       "      <td>0</td>\n",
       "    </tr>\n",
       "    <tr>\n",
       "      <th>3348900fe63216a439d2e5238c79ddd46ede454df7b9d8c24ac33eb21d4b21ef</th>\n",
       "      <td>True</td>\n",
       "      <td>EMPRESARIO INDIVIDUAL</td>\n",
       "      <td>AM</td>\n",
       "      <td>OUTROS</td>\n",
       "      <td>SERVICOS DIVERSOS</td>\n",
       "      <td>SERVIÇO</td>\n",
       "      <td>6.512329</td>\n",
       "      <td>5 a 10</td>\n",
       "      <td>False</td>\n",
       "      <td>False</td>\n",
       "      <td>...</td>\n",
       "      <td>NaN</td>\n",
       "      <td>NaN</td>\n",
       "      <td>NaN</td>\n",
       "      <td>NaN</td>\n",
       "      <td>NaN</td>\n",
       "      <td>NaN</td>\n",
       "      <td>NaN</td>\n",
       "      <td>NaN</td>\n",
       "      <td>NaN</td>\n",
       "      <td>0</td>\n",
       "    </tr>\n",
       "    <tr>\n",
       "      <th>1f9bcabc9d3173c1fe769899e4fac14b053037b953a1e4b102c769f7611ab29f</th>\n",
       "      <td>True</td>\n",
       "      <td>EMPRESARIO INDIVIDUAL</td>\n",
       "      <td>RN</td>\n",
       "      <td>OUTROS</td>\n",
       "      <td>SERVICOS PROFISSIONAIS, TECNICOS E CIENTIFICOS</td>\n",
       "      <td>SERVIÇO</td>\n",
       "      <td>3.200000</td>\n",
       "      <td>1 a 5</td>\n",
       "      <td>False</td>\n",
       "      <td>False</td>\n",
       "      <td>...</td>\n",
       "      <td>NaN</td>\n",
       "      <td>NaN</td>\n",
       "      <td>NaN</td>\n",
       "      <td>NaN</td>\n",
       "      <td>NaN</td>\n",
       "      <td>NaN</td>\n",
       "      <td>NaN</td>\n",
       "      <td>NaN</td>\n",
       "      <td>NaN</td>\n",
       "      <td>0</td>\n",
       "    </tr>\n",
       "  </tbody>\n",
       "</table>\n",
       "<p>5 rows × 180 columns</p>\n",
       "</div>"
      ],
      "text/plain": [
       "                                                    fl_matriz  \\\n",
       "id                                                              \n",
       "a6984c3ae395090e3bee8ad63c3758b110de096d5d81958...       True   \n",
       "6178f41ade1365e44bc2c46654c2c8c0eaae27dcb476c47...       True   \n",
       "4a7e5069a397f12fdd7fd57111d6dc5d3ba558958efc02e...       True   \n",
       "3348900fe63216a439d2e5238c79ddd46ede454df7b9d8c...       True   \n",
       "1f9bcabc9d3173c1fe769899e4fac14b053037b953a1e4b...       True   \n",
       "\n",
       "                                                             de_natureza_juridica  \\\n",
       "id                                                                                  \n",
       "a6984c3ae395090e3bee8ad63c3758b110de096d5d81958...  SOCIEDADE EMPRESARIA LIMITADA   \n",
       "6178f41ade1365e44bc2c46654c2c8c0eaae27dcb476c47...          EMPRESARIO INDIVIDUAL   \n",
       "4a7e5069a397f12fdd7fd57111d6dc5d3ba558958efc02e...          EMPRESARIO INDIVIDUAL   \n",
       "3348900fe63216a439d2e5238c79ddd46ede454df7b9d8c...          EMPRESARIO INDIVIDUAL   \n",
       "1f9bcabc9d3173c1fe769899e4fac14b053037b953a1e4b...          EMPRESARIO INDIVIDUAL   \n",
       "\n",
       "                                                   sg_uf  \\\n",
       "id                                                         \n",
       "a6984c3ae395090e3bee8ad63c3758b110de096d5d81958...    RN   \n",
       "6178f41ade1365e44bc2c46654c2c8c0eaae27dcb476c47...    PI   \n",
       "4a7e5069a397f12fdd7fd57111d6dc5d3ba558958efc02e...    AM   \n",
       "3348900fe63216a439d2e5238c79ddd46ede454df7b9d8c...    AM   \n",
       "1f9bcabc9d3173c1fe769899e4fac14b053037b953a1e4b...    RN   \n",
       "\n",
       "                                                   natureza_juridica_macro  \\\n",
       "id                                                                           \n",
       "a6984c3ae395090e3bee8ad63c3758b110de096d5d81958...  ENTIDADES EMPRESARIAIS   \n",
       "6178f41ade1365e44bc2c46654c2c8c0eaae27dcb476c47...                  OUTROS   \n",
       "4a7e5069a397f12fdd7fd57111d6dc5d3ba558958efc02e...                  OUTROS   \n",
       "3348900fe63216a439d2e5238c79ddd46ede454df7b9d8c...                  OUTROS   \n",
       "1f9bcabc9d3173c1fe769899e4fac14b053037b953a1e4b...                  OUTROS   \n",
       "\n",
       "                                                                                           de_ramo  \\\n",
       "id                                                                                                   \n",
       "a6984c3ae395090e3bee8ad63c3758b110de096d5d81958...                         INDUSTRIA DA CONSTRUCAO   \n",
       "6178f41ade1365e44bc2c46654c2c8c0eaae27dcb476c47...              SERVICOS DE ALOJAMENTO/ALIMENTACAO   \n",
       "4a7e5069a397f12fdd7fd57111d6dc5d3ba558958efc02e...               TRANSPORTE, ARMAZENAGEM E CORREIO   \n",
       "3348900fe63216a439d2e5238c79ddd46ede454df7b9d8c...                               SERVICOS DIVERSOS   \n",
       "1f9bcabc9d3173c1fe769899e4fac14b053037b953a1e4b...  SERVICOS PROFISSIONAIS, TECNICOS E CIENTIFICOS   \n",
       "\n",
       "                                                               setor  \\\n",
       "id                                                                     \n",
       "a6984c3ae395090e3bee8ad63c3758b110de096d5d81958...  CONSTRUÇÃO CIVIL   \n",
       "6178f41ade1365e44bc2c46654c2c8c0eaae27dcb476c47...           SERVIÇO   \n",
       "4a7e5069a397f12fdd7fd57111d6dc5d3ba558958efc02e...           SERVIÇO   \n",
       "3348900fe63216a439d2e5238c79ddd46ede454df7b9d8c...           SERVIÇO   \n",
       "1f9bcabc9d3173c1fe769899e4fac14b053037b953a1e4b...           SERVIÇO   \n",
       "\n",
       "                                                    idade_empresa_anos  \\\n",
       "id                                                                       \n",
       "a6984c3ae395090e3bee8ad63c3758b110de096d5d81958...           14.457534   \n",
       "6178f41ade1365e44bc2c46654c2c8c0eaae27dcb476c47...            1.463014   \n",
       "4a7e5069a397f12fdd7fd57111d6dc5d3ba558958efc02e...            7.093151   \n",
       "3348900fe63216a439d2e5238c79ddd46ede454df7b9d8c...            6.512329   \n",
       "1f9bcabc9d3173c1fe769899e4fac14b053037b953a1e4b...            3.200000   \n",
       "\n",
       "                                                   idade_emp_cat  fl_me  \\\n",
       "id                                                                        \n",
       "a6984c3ae395090e3bee8ad63c3758b110de096d5d81958...       10 a 15  False   \n",
       "6178f41ade1365e44bc2c46654c2c8c0eaae27dcb476c47...         1 a 5  False   \n",
       "4a7e5069a397f12fdd7fd57111d6dc5d3ba558958efc02e...        5 a 10  False   \n",
       "3348900fe63216a439d2e5238c79ddd46ede454df7b9d8c...        5 a 10  False   \n",
       "1f9bcabc9d3173c1fe769899e4fac14b053037b953a1e4b...         1 a 5  False   \n",
       "\n",
       "                                                    fl_sa  ...  \\\n",
       "id                                                         ...   \n",
       "a6984c3ae395090e3bee8ad63c3758b110de096d5d81958...  False  ...   \n",
       "6178f41ade1365e44bc2c46654c2c8c0eaae27dcb476c47...  False  ...   \n",
       "4a7e5069a397f12fdd7fd57111d6dc5d3ba558958efc02e...  False  ...   \n",
       "3348900fe63216a439d2e5238c79ddd46ede454df7b9d8c...  False  ...   \n",
       "1f9bcabc9d3173c1fe769899e4fac14b053037b953a1e4b...  False  ...   \n",
       "\n",
       "                                                    media_meses_servicos  \\\n",
       "id                                                                         \n",
       "a6984c3ae395090e3bee8ad63c3758b110de096d5d81958...             43.738462   \n",
       "6178f41ade1365e44bc2c46654c2c8c0eaae27dcb476c47...                   NaN   \n",
       "4a7e5069a397f12fdd7fd57111d6dc5d3ba558958efc02e...                   NaN   \n",
       "3348900fe63216a439d2e5238c79ddd46ede454df7b9d8c...                   NaN   \n",
       "1f9bcabc9d3173c1fe769899e4fac14b053037b953a1e4b...                   NaN   \n",
       "\n",
       "                                                    max_meses_servicos  \\\n",
       "id                                                                       \n",
       "a6984c3ae395090e3bee8ad63c3758b110de096d5d81958...           93.266667   \n",
       "6178f41ade1365e44bc2c46654c2c8c0eaae27dcb476c47...                 NaN   \n",
       "4a7e5069a397f12fdd7fd57111d6dc5d3ba558958efc02e...                 NaN   \n",
       "3348900fe63216a439d2e5238c79ddd46ede454df7b9d8c...                 NaN   \n",
       "1f9bcabc9d3173c1fe769899e4fac14b053037b953a1e4b...                 NaN   \n",
       "\n",
       "                                                    min_meses_servicos  \\\n",
       "id                                                                       \n",
       "a6984c3ae395090e3bee8ad63c3758b110de096d5d81958...           19.166667   \n",
       "6178f41ade1365e44bc2c46654c2c8c0eaae27dcb476c47...                 NaN   \n",
       "4a7e5069a397f12fdd7fd57111d6dc5d3ba558958efc02e...                 NaN   \n",
       "3348900fe63216a439d2e5238c79ddd46ede454df7b9d8c...                 NaN   \n",
       "1f9bcabc9d3173c1fe769899e4fac14b053037b953a1e4b...                 NaN   \n",
       "\n",
       "                                                   qt_funcionarios  \\\n",
       "id                                                                   \n",
       "a6984c3ae395090e3bee8ad63c3758b110de096d5d81958...            26.0   \n",
       "6178f41ade1365e44bc2c46654c2c8c0eaae27dcb476c47...             NaN   \n",
       "4a7e5069a397f12fdd7fd57111d6dc5d3ba558958efc02e...             NaN   \n",
       "3348900fe63216a439d2e5238c79ddd46ede454df7b9d8c...             NaN   \n",
       "1f9bcabc9d3173c1fe769899e4fac14b053037b953a1e4b...             NaN   \n",
       "\n",
       "                                                    qt_funcionarios_12meses  \\\n",
       "id                                                                            \n",
       "a6984c3ae395090e3bee8ad63c3758b110de096d5d81958...                     26.0   \n",
       "6178f41ade1365e44bc2c46654c2c8c0eaae27dcb476c47...                      NaN   \n",
       "4a7e5069a397f12fdd7fd57111d6dc5d3ba558958efc02e...                      NaN   \n",
       "3348900fe63216a439d2e5238c79ddd46ede454df7b9d8c...                      NaN   \n",
       "1f9bcabc9d3173c1fe769899e4fac14b053037b953a1e4b...                      NaN   \n",
       "\n",
       "                                                    qt_funcionarios_24meses  \\\n",
       "id                                                                            \n",
       "a6984c3ae395090e3bee8ad63c3758b110de096d5d81958...                     27.0   \n",
       "6178f41ade1365e44bc2c46654c2c8c0eaae27dcb476c47...                      NaN   \n",
       "4a7e5069a397f12fdd7fd57111d6dc5d3ba558958efc02e...                      NaN   \n",
       "3348900fe63216a439d2e5238c79ddd46ede454df7b9d8c...                      NaN   \n",
       "1f9bcabc9d3173c1fe769899e4fac14b053037b953a1e4b...                      NaN   \n",
       "\n",
       "                                                    tx_crescimento_12meses  \\\n",
       "id                                                                           \n",
       "a6984c3ae395090e3bee8ad63c3758b110de096d5d81958...                     0.0   \n",
       "6178f41ade1365e44bc2c46654c2c8c0eaae27dcb476c47...                     NaN   \n",
       "4a7e5069a397f12fdd7fd57111d6dc5d3ba558958efc02e...                     NaN   \n",
       "3348900fe63216a439d2e5238c79ddd46ede454df7b9d8c...                     NaN   \n",
       "1f9bcabc9d3173c1fe769899e4fac14b053037b953a1e4b...                     NaN   \n",
       "\n",
       "                                                   tx_crescimento_24meses  \\\n",
       "id                                                                          \n",
       "a6984c3ae395090e3bee8ad63c3758b110de096d5d81958...              -3.703704   \n",
       "6178f41ade1365e44bc2c46654c2c8c0eaae27dcb476c47...                    NaN   \n",
       "4a7e5069a397f12fdd7fd57111d6dc5d3ba558958efc02e...                    NaN   \n",
       "3348900fe63216a439d2e5238c79ddd46ede454df7b9d8c...                    NaN   \n",
       "1f9bcabc9d3173c1fe769899e4fac14b053037b953a1e4b...                    NaN   \n",
       "\n",
       "                                                   tx_rotatividade qt_filiais  \n",
       "id                                                                             \n",
       "a6984c3ae395090e3bee8ad63c3758b110de096d5d81958...             0.0          0  \n",
       "6178f41ade1365e44bc2c46654c2c8c0eaae27dcb476c47...             NaN          0  \n",
       "4a7e5069a397f12fdd7fd57111d6dc5d3ba558958efc02e...             NaN          0  \n",
       "3348900fe63216a439d2e5238c79ddd46ede454df7b9d8c...             NaN          0  \n",
       "1f9bcabc9d3173c1fe769899e4fac14b053037b953a1e4b...             NaN          0  \n",
       "\n",
       "[5 rows x 180 columns]"
      ]
     },
     "execution_count": 4,
     "metadata": {},
     "output_type": "execute_result"
    }
   ],
   "source": [
    "#Showing the main df\n",
    "market = raw_market.copy().drop(columns = 'Unnamed: 0')\n",
    "market.head()"
   ]
  },
  {
   "cell_type": "code",
   "execution_count": 0,
   "metadata": {
    "colab": {},
    "colab_type": "code",
    "id": "ekqzH4ivYbR-"
   },
   "outputs": [],
   "source": [
    "#Reading portfolios\n",
    "raw_portfolio1 = pd.read_csv('data/estaticos_portfolio1.csv', index_col='id').drop(columns = 'Unnamed: 0')\n",
    "raw_portfolio2 = pd.read_csv('data/estaticos_portfolio2.csv', index_col='id').drop(columns = 'Unnamed: 0')\n",
    "raw_portfolio3 = pd.read_csv('data/estaticos_portfolio3.csv', index_col='id').drop(columns = 'Unnamed: 0')"
   ]
  },
  {
   "cell_type": "markdown",
   "metadata": {
    "colab_type": "text",
    "id": "ENi6fZc-Yfxe"
   },
   "source": [
    "# Exploratory Data Analysis and Data Muning"
   ]
  },
  {
   "cell_type": "markdown",
   "metadata": {
    "colab_type": "text",
    "id": "VcW3R8kbYiU2"
   },
   "source": [
    "### Usefull functions"
   ]
  },
  {
   "cell_type": "code",
   "execution_count": 0,
   "metadata": {
    "colab": {},
    "colab_type": "code",
    "id": "AQIK-h8DYd5L"
   },
   "outputs": [],
   "source": [
    "def drop_col(df, col):\n",
    "  try:\n",
    "    df.drop(columns = col, inplace=True)\n",
    "  except:\n",
    "    print(f'The column {col} does not exist or has lready been removed.')"
   ]
  },
  {
   "cell_type": "code",
   "execution_count": 0,
   "metadata": {
    "colab": {},
    "colab_type": "code",
    "id": "W9xX7vgeYyxC"
   },
   "outputs": [],
   "source": [
    "def encode(df):\n",
    "  categorical_columns = df.select_dtypes(exclude=['int64', 'float64']).columns.tolist()\n",
    "  numerical_columns = df.select_dtypes(include=['int64', 'float64']).columns.tolist()\n",
    "\n",
    "  df_processed = pd.get_dummies(data=df, columns=categorical_columns)\n",
    "\n",
    "  scaler = MinMaxScaler()\n",
    "  scaled_data = scaler.fit_transform(df[numerical_columns])\n",
    "  df_processed[numerical_columns] = scaled_data\n",
    "\n",
    "  return df_processed"
   ]
  },
  {
   "cell_type": "markdown",
   "metadata": {
    "colab_type": "text",
    "id": "gD5OzLoZY19v"
   },
   "source": [
    "### Feature selection"
   ]
  },
  {
   "cell_type": "markdown",
   "metadata": {
    "colab_type": "text",
    "id": "5G7kvVS5ASWe"
   },
   "source": [
    "**In this section, we will analyse the behavior of the features and select wich are usefull to the model.**\n",
    "\n",
    "---\n",
    "\n"
   ]
  },
  {
   "cell_type": "markdown",
   "metadata": {
    "colab_type": "text",
    "id": "37LfKzx0NJd-"
   },
   "source": [
    "First of all, we must analyse the distribution of missing values of the main dataset."
   ]
  },
  {
   "cell_type": "code",
   "execution_count": 115,
   "metadata": {
    "colab": {
     "base_uri": "https://localhost:8080/",
     "height": 334
    },
    "colab_type": "code",
    "id": "pc4sn-iDY0Xe",
    "outputId": "940de0c3-01c4-484e-8d0c-51edfc0e5920"
   },
   "outputs": [
    {
     "data": {
      "image/png": "[encoded data removed]",
      "text/plain": [
       "<Figure size 1080x360 with 1 Axes>"
      ]
     },
     "metadata": {
      "needs_background": "light",
      "tags": []
     },
     "output_type": "display_data"
    }
   ],
   "source": [
    "fig, ax = plt.subplots(figsize=(15, 5))\n",
    "sns.lineplot(x=range(0, market.shape[1]), y=market.isnull().mean())\n",
    "ax.set(xlabel=' Column number', ylabel='Missing values (%)')\n",
    "plt.show()"
   ]
  },
  {
   "cell_type": "markdown",
   "metadata": {
    "colab_type": "text",
    "id": "6oYDGqxAmcEU"
   },
   "source": [
    "As we can see, several columns have most of their values as missing. Therefore, let's remove them, taking the 67% threshold as the minimum of non-missing data in a given variable."
   ]
  },
  {
   "cell_type": "code",
   "execution_count": 0,
   "metadata": {
    "colab": {},
    "colab_type": "code",
    "id": "BvnQDXal88Q3"
   },
   "outputs": [],
   "source": [
    "threshold = 0.70\n",
    "market =  market.loc[:, market.notnull().mean() > threshold]"
   ]
  },
  {
   "cell_type": "markdown",
   "metadata": {
    "colab_type": "text",
    "id": "WEzOvQ4smkob"
   },
   "source": [
    "---\n",
    "The recommendation we seek is independent of whether it is a parent company or not. Thus, the ```fl_matriz``` column  does not have relevance to our model, let's drop it.\n"
   ]
  },
  {
   "cell_type": "code",
   "execution_count": 0,
   "metadata": {
    "colab": {},
    "colab_type": "code",
    "id": "_idXX_I6AfB9"
   },
   "outputs": [],
   "source": [
    "drop_col(market, 'fl_matriz')"
   ]
  },
  {
   "cell_type": "markdown",
   "metadata": {
    "colab_type": "text",
    "id": "TDMtxjoJm04L"
   },
   "source": [
    "----\n",
    "Now we are going to take a look at ```natureza_juridica_macro``` and ```de_natureza_juridica```."
   ]
  },
  {
   "cell_type": "code",
   "execution_count": 118,
   "metadata": {
    "colab": {
     "base_uri": "https://localhost:8080/",
     "height": 153
    },
    "colab_type": "code",
    "id": "8mKC1eS7lPFV",
    "outputId": "a1f94021-01c6-4dcd-c0e4-72267813a2e6"
   },
   "outputs": [
    {
     "name": "stdout",
     "output_type": "stream",
     "text": [
      "OUTROS                            320211\n",
      "ENTIDADES EMPRESARIAIS             99241\n",
      "ENTIDADES SEM FINS LUCRATIVOS      37089\n",
      "ADMINISTRACAO PUBLICA               2912\n",
      "CARGO POLITICO                      1617\n",
      "PESSOAS FISICAS                     1225\n",
      "INSTITUICOES EXTRATERRITORIAIS         3\n",
      "Name: natureza_juridica_macro, dtype: int64\n"
     ]
    }
   ],
   "source": [
    "print(market['natureza_juridica_macro'].value_counts())"
   ]
  },
  {
   "cell_type": "code",
   "execution_count": 119,
   "metadata": {
    "colab": {
     "base_uri": "https://localhost:8080/",
     "height": 221
    },
    "colab_type": "code",
    "id": "zHAtFfFt6GyR",
    "outputId": "b64ef16e-e154-4c4b-bd19-5e212924a576"
   },
   "outputs": [
    {
     "name": "stdout",
     "output_type": "stream",
     "text": [
      "EMPRESARIO INDIVIDUAL                                                     295756\n",
      "SOCIEDADE EMPRESARIA LIMITADA                                              91231\n",
      "ASSOCIACAO PRIVADA                                                         29694\n",
      "EMPRESA INDIVIDUAL DE RESPONSABILIDADE LIMITADA DE NATUREZA EMPRESARIA     15183\n",
      "ORGAO DE DIRECAO LOCAL DE PARTIDO POLITICO                                  7301\n",
      "                                                                           ...  \n",
      "SOCIEDADE SIMPLES EM NOME COLETIVO                                             1\n",
      "CONSORCIO PUBLICO DE DIREITO PRIVADO                                           1\n",
      "FUNDO PRIVADO                                                                  1\n",
      "CONSORCIO DE EMPREGADORES                                                      1\n",
      "ORGAO DE DIRECAO NACIONAL DE PARTIDO POLITICO                                  1\n",
      "Name: de_natureza_juridica, Length: 67, dtype: int64\n"
     ]
    }
   ],
   "source": [
    "print(market['de_natureza_juridica'].value_counts())"
   ]
  },
  {
   "cell_type": "markdown",
   "metadata": {
    "colab_type": "text",
    "id": "4A94uzO95wp2"
   },
   "source": [
    "It is noticeable that ```de_natureza_juridica``` describe the same as ```natureza_juridica_macro```, but in more detail. That said, in order to become more general, we can drop the specificist column."
   ]
  },
  {
   "cell_type": "code",
   "execution_count": 0,
   "metadata": {
    "colab": {},
    "colab_type": "code",
    "id": "hNZSZBV15u43"
   },
   "outputs": [],
   "source": [
    "drop_col(market, 'de_natureza_juridica')"
   ]
  },
  {
   "cell_type": "markdown",
   "metadata": {
    "colab_type": "text",
    "id": "oGS4znshm_le"
   },
   "source": [
    "---\n",
    "Let's inspect now ```setor```, ```nm_divisao```, ```nm_segmento``` and ```de_ramo```."
   ]
  },
  {
   "cell_type": "code",
   "execution_count": 121,
   "metadata": {
    "colab": {
     "base_uri": "https://localhost:8080/",
     "height": 119
    },
    "colab_type": "code",
    "id": "CbBsndupl-gC",
    "outputId": "5b2f4649-b696-4ce2-c22e-c75fd13128ad"
   },
   "outputs": [
    {
     "name": "stdout",
     "output_type": "stream",
     "text": [
      "COMERCIO            211224\n",
      "SERVIÇO             189644\n",
      "INDUSTRIA            30893\n",
      "CONSTRUÇÃO CIVIL     25363\n",
      "AGROPECUARIA          3247\n",
      "Name: setor, dtype: int64\n"
     ]
    }
   ],
   "source": [
    "print(market['setor'].value_counts())"
   ]
  },
  {
   "cell_type": "code",
   "execution_count": 122,
   "metadata": {
    "colab": {
     "base_uri": "https://localhost:8080/",
     "height": 595
    },
    "colab_type": "code",
    "id": "pD7_w9ru88qy",
    "outputId": "f47ffb4b-962c-442b-cab8-dff343bbb3e2"
   },
   "outputs": [
    {
     "name": "stdout",
     "output_type": "stream",
     "text": [
      "COMERCIO VAREJISTA                                   172404\n",
      "SERVICOS DIVERSOS                                     60318\n",
      "SERVICOS DE ALOJAMENTO/ALIMENTACAO                    30180\n",
      "INDUSTRIA DA CONSTRUCAO                               25363\n",
      "COMERCIO E REPARACAO DE VEICULOS                      22356\n",
      "SERVICOS ADMINISTRATIVOS                              21326\n",
      "BENS DE CONSUMO                                       21227\n",
      "SERVICOS PROFISSIONAIS, TECNICOS E CIENTIFICOS        17371\n",
      "COMERCIO POR ATACADO                                  16464\n",
      "TRANSPORTE, ARMAZENAGEM E CORREIO                     15485\n",
      "SERVICOS DE EDUCACAO                                  11311\n",
      "SERVICOS DE SAUDE                                      9788\n",
      "CULTURA, ESPORTE E RECREACAO                           5503\n",
      "SIDERURGICA-METALURGIA                                 3700\n",
      "TELECOM                                                3626\n",
      "PRODUTOS DE AGROPECUARIA                               3247\n",
      "QUIMICA-PETROQUIMICA                                   3131\n",
      "ADMINISTRACAO PUBLICA, DEFESA E SEGURIDADE SOCIAL      2754\n",
      "ATIVIDADES IMOBILIARIAS                                2670\n",
      "PAPEL E CELULOSE                                       2179\n",
      "OUTROS                                                 1927\n",
      "INDUSTRIA DIGITAL                                      1849\n",
      "SEGUROS, PLANOS DE PREVIDENCIA E PLANOS DE SAUDE       1770\n",
      "SERVICOS FINANCEIROS                                   1517\n",
      "SERVICOS DE SANEAMENTO BASICO                          1238\n",
      "TEXTEIS                                                1048\n",
      "INDUSTRIAS EXTRATIVAS                                   896\n",
      "ELETRICIDADE E GAS                                      607\n",
      "INDUSTRIA AUTOMOTIVA                                    410\n",
      "SERVICOS SOCIAIS                                        351\n",
      "ELETROELETRONICOS                                       251\n",
      "FARMACEUTICA                                             22\n",
      "ORGANISMOS INTERNACIONAIS                                 9\n",
      "Name: de_ramo, dtype: int64\n"
     ]
    }
   ],
   "source": [
    "print(market['de_ramo'].value_counts())"
   ]
  },
  {
   "cell_type": "code",
   "execution_count": 123,
   "metadata": {
    "colab": {
     "base_uri": "https://localhost:8080/",
     "height": 221
    },
    "colab_type": "code",
    "id": "SAOBRlTAa32M",
    "outputId": "4e5c6490-bbb6-46c5-8328-10423e529758"
   },
   "outputs": [
    {
     "name": "stdout",
     "output_type": "stream",
     "text": [
      "COMERCIO VAREJISTA                                                   172404\n",
      "ATIVIDADES DE ORGANIZACOES ASSOCIATIVAS                               37984\n",
      "ALIMENTACAO                                                           27540\n",
      "COMERCIO E REPARACAO DE VEICULOS AUTOMOTORES E MOTOCICLETAS           22356\n",
      "COMERCIO POR ATACADO EXCETO VEICULOS AUTOMOTORES E MOTOCICLETAS       16464\n",
      "                                                                      ...  \n",
      "FABRICACAO DE PRODUTOS FARMOQUIMICOS E FARMACEUTICOS                     22\n",
      "DESCONTAMINACAO E OUTROS SERVICOS DE GESTAO DE RESIDUOS                  12\n",
      "ORGANISMOS INTERNACIONAIS E OUTRAS INSTITUICOES EXTRATERRITORIAIS         9\n",
      "FABRICACAO DE PRODUTOS DO FUMO                                            2\n",
      "EXTRACAO DE CARVAO MINERAL                                                1\n",
      "Name: nm_divisao, Length: 87, dtype: int64\n"
     ]
    }
   ],
   "source": [
    "print(market['nm_divisao'].value_counts())"
   ]
  },
  {
   "cell_type": "code",
   "execution_count": 124,
   "metadata": {
    "colab": {
     "base_uri": "https://localhost:8080/",
     "height": 391
    },
    "colab_type": "code",
    "id": "P6wRacc0a5gz",
    "outputId": "9d419313-ccfa-4ab8-ccd5-0a855a90e605"
   },
   "outputs": [
    {
     "name": "stdout",
     "output_type": "stream",
     "text": [
      "COMERCIO; REPARACAO DE VEICULOS AUTOMOTORES E MOTOCICLETAS           211224\n",
      "OUTRAS ATIVIDADES DE SERVICOS                                         59561\n",
      "INDUSTRIAS DE TRANSFORMACAO                                           31968\n",
      "ALOJAMENTO E ALIMENTACAO                                              30180\n",
      "CONSTRUCAO                                                            25363\n",
      "ATIVIDADES ADMINISTRATIVAS E SERVICOS COMPLEMENTARES                  21326\n",
      "ATIVIDADES PROFISSIONAIS CIENTIFICAS E TECNICAS                       17371\n",
      "TRANSPORTE ARMAZENAGEM E CORREIO                                      15485\n",
      "EDUCACAO                                                              11311\n",
      "SAUDE HUMANA E SERVICOS SOCIAIS                                       10139\n",
      "ARTES CULTURA ESPORTE E RECREACAO                                      5503\n",
      "INFORMACAO E COMUNICACAO                                               5475\n",
      "ATIVIDADES FINANCEIRAS DE SEGUROS E SERVICOS RELACIONADOS              3287\n",
      "AGRICULTURA PECUARIA PRODUCAO FLORESTAL PESCA E AQUICULTURA            3247\n",
      "ADMINISTRACAO PUBLICA DEFESA E SEGURIDADE SOCIAL                       2754\n",
      "ATIVIDADES IMOBILIARIAS                                                2670\n",
      "AGUA ESGOTO ATIVIDADES DE GESTAO DE RESIDUOS E DESCONTAMINACAO         1238\n",
      "INDUSTRIAS EXTRATIVAS                                                   896\n",
      "SERVICOS DOMESTICOS                                                     757\n",
      "ELETRICIDADE E GAS                                                      607\n",
      "ORGANISMOS INTERNACIONAIS E OUTRAS INSTITUICOES EXTRATERRITORIAIS         9\n",
      "Name: nm_segmento, dtype: int64\n"
     ]
    }
   ],
   "source": [
    "print(market['nm_segmento'].value_counts())"
   ]
  },
  {
   "cell_type": "markdown",
   "metadata": {
    "colab_type": "text",
    "id": "Xwql5CKq9AMa"
   },
   "source": [
    "As before, here we have some variables that differ in the degree of specificity. We will remain with a intermediate one, ```nm_segmento``` sounds a good choice."
   ]
  },
  {
   "cell_type": "code",
   "execution_count": 0,
   "metadata": {
    "colab": {},
    "colab_type": "code",
    "id": "1arjl44T9mbE"
   },
   "outputs": [],
   "source": [
    "drop_col(market, 'setor')\n",
    "drop_col(market, 'de_ramo')\n",
    "drop_col(market, 'nm_divisao')"
   ]
  },
  {
   "cell_type": "markdown",
   "metadata": {
    "colab_type": "text",
    "id": "ufh3-oAins3L"
   },
   "source": [
    "---\n",
    "The next ones to be analysed is ```idade_empresa_anos``` and ```idade_emp_cat```."
   ]
  },
  {
   "cell_type": "code",
   "execution_count": 126,
   "metadata": {
    "colab": {
     "base_uri": "https://localhost:8080/",
     "height": 297
    },
    "colab_type": "code",
    "id": "TF095xO8nVRx",
    "outputId": "0c160d82-0fc8-4bc1-adfe-ea515812cff0"
   },
   "outputs": [
    {
     "data": {
      "text/plain": [
       "<matplotlib.axes._subplots.AxesSubplot at 0x7fa67f530630>"
      ]
     },
     "execution_count": 126,
     "metadata": {
      "tags": []
     },
     "output_type": "execute_result"
    },
    {
     "data": {
      "image/png": "[encoded data removed]",
      "text/plain": [
       "<Figure size 432x288 with 1 Axes>"
      ]
     },
     "metadata": {
      "needs_background": "light",
      "tags": []
     },
     "output_type": "display_data"
    }
   ],
   "source": [
    "fig, axes = plt.subplots()\n",
    "sns.distplot(market['idade_empresa_anos'])"
   ]
  },
  {
   "cell_type": "code",
   "execution_count": 127,
   "metadata": {
    "colab": {
     "base_uri": "https://localhost:8080/",
     "height": 297
    },
    "colab_type": "code",
    "id": "NWGWp63CngIK",
    "outputId": "55004482-3877-4b18-b0f0-3cda6848bb86"
   },
   "outputs": [
    {
     "data": {
      "text/plain": [
       "<matplotlib.axes._subplots.AxesSubplot at 0x7fa67f1e66a0>"
      ]
     },
     "execution_count": 127,
     "metadata": {
      "tags": []
     },
     "output_type": "execute_result"
    },
    {
     "data": {
      "image/png": "[encoded data removed]",
      "text/plain": [
       "<Figure size 432x288 with 1 Axes>"
      ]
     },
     "metadata": {
      "needs_background": "light",
      "tags": []
     },
     "output_type": "display_data"
    }
   ],
   "source": [
    "sns.countplot(market['idade_emp_cat'], order=['<= 1','1 a 5', '5 a 10', '10 a 15', '15 a 20', '> 20'])"
   ]
  },
  {
   "cell_type": "markdown",
   "metadata": {
    "colab_type": "text",
    "id": "Cav-Mjup_jIM"
   },
   "source": [
    "To avoid a increase the dimensionality of our data, let's choose ```idade_empresas_anos``` to work with."
   ]
  },
  {
   "cell_type": "code",
   "execution_count": 0,
   "metadata": {
    "colab": {},
    "colab_type": "code",
    "id": "R7r8TXpoAuco"
   },
   "outputs": [],
   "source": [
    "drop_col(market, 'idade_emp_cat')"
   ]
  },
  {
   "cell_type": "markdown",
   "metadata": {
    "colab_type": "text",
    "id": "bIj7rXEdpAwM"
   },
   "source": [
    "---\n",
    "The following variables tell us, primarily about the name of the companies and, in a second level, about the size of it. Although the second information may be relevant, there are other variables in the dataset that are better for this purpose."
   ]
  },
  {
   "cell_type": "code",
   "execution_count": 0,
   "metadata": {
    "colab": {},
    "colab_type": "code",
    "id": "1QpBjhaRodzo"
   },
   "outputs": [],
   "source": [
    "drop_col(market, 'fl_me')\n",
    "drop_col(market, 'fl_sa')\n",
    "drop_col(market, 'fl_epp')\n",
    "drop_col(market, 'fl_mei')\n",
    "drop_col(market, 'fl_ltda')"
   ]
  },
  {
   "cell_type": "markdown",
   "metadata": {
    "colab_type": "text",
    "id": "0tFD_eVgZru9"
   },
   "source": [
    "----\n",
    "To our purpose, information about a possible extraordinary situation is identified by the IRS is not relevant. Thus, we will drop ```dt_situacao``` and ```fl_st_especial```."
   ]
  },
  {
   "cell_type": "code",
   "execution_count": 0,
   "metadata": {
    "colab": {},
    "colab_type": "code",
    "id": "Nb3rh756ZnWu"
   },
   "outputs": [],
   "source": [
    "drop_col(market, 'dt_situacao')\n",
    "drop_col(market, 'fl_st_especial')"
   ]
  },
  {
   "cell_type": "markdown",
   "metadata": {
    "colab_type": "text",
    "id": "tVSauyr1ecvT"
   },
   "source": [
    "The next one is about if the companies performs any activity that is taxable under ISS and, also, is not relevant. "
   ]
  },
  {
   "cell_type": "code",
   "execution_count": 0,
   "metadata": {
    "colab": {},
    "colab_type": "code",
    "id": "iRl31-9JedC5"
   },
   "outputs": [],
   "source": [
    "drop_col(market, 'fl_passivel_iss')"
   ]
  },
  {
   "cell_type": "markdown",
   "metadata": {
    "colab_type": "text",
    "id": "lDbHSXgkapva"
   },
   "source": [
    "\n",
    "In addition, ```fl_email``` and ```fl__telefone``` are not relevant because they just tell us about if there is a email or phone number registred in IRS database."
   ]
  },
  {
   "cell_type": "code",
   "execution_count": 0,
   "metadata": {
    "colab": {},
    "colab_type": "code",
    "id": "qVKeaEt3afIb"
   },
   "outputs": [],
   "source": [
    "drop_col(market, 'fl_email')\n",
    "drop_col(market, 'fl_telefone')"
   ]
  },
  {
   "cell_type": "markdown",
   "metadata": {
    "colab_type": "text",
    "id": "yE0SHVD1Bc42"
   },
   "source": [
    "---\n",
    "Now, let's take a look at ```fl_spa```, ```fl_ant```, ```fl_veiculo```, ```vl_total_veiculos_leves_grupo``` and ```vl_total_veiculos_pesados_grupo```."
   ]
  },
  {
   "cell_type": "code",
   "execution_count": 133,
   "metadata": {
    "colab": {
     "base_uri": "https://localhost:8080/",
     "height": 68
    },
    "colab_type": "code",
    "id": "0t9FthowcTjj",
    "outputId": "922ee738-5f34-4195-b76b-0a3b96b06bdf"
   },
   "outputs": [
    {
     "name": "stdout",
     "output_type": "stream",
     "text": [
      "False    460091\n",
      "True        280\n",
      "Name: fl_spa, dtype: int64\n"
     ]
    }
   ],
   "source": [
    "print(market['fl_spa'].value_counts())"
   ]
  },
  {
   "cell_type": "code",
   "execution_count": 134,
   "metadata": {
    "colab": {
     "base_uri": "https://localhost:8080/",
     "height": 68
    },
    "colab_type": "code",
    "id": "w1P71AB7cUaZ",
    "outputId": "8d409d29-3bad-4aad-fcee-4d6665b7af36"
   },
   "outputs": [
    {
     "name": "stdout",
     "output_type": "stream",
     "text": [
      "False    457095\n",
      "True       3276\n",
      "Name: fl_antt, dtype: int64\n"
     ]
    }
   ],
   "source": [
    "print(market['fl_antt'].value_counts())"
   ]
  },
  {
   "cell_type": "code",
   "execution_count": 135,
   "metadata": {
    "colab": {
     "base_uri": "https://localhost:8080/",
     "height": 68
    },
    "colab_type": "code",
    "id": "l-yb1a8IcVKR",
    "outputId": "24f4135e-eef1-4fe4-c225-585fb8f495e1"
   },
   "outputs": [
    {
     "name": "stdout",
     "output_type": "stream",
     "text": [
      "False    429687\n",
      "True      30684\n",
      "Name: fl_veiculo, dtype: int64\n"
     ]
    }
   ],
   "source": [
    "print(market['fl_veiculo'].value_counts())"
   ]
  },
  {
   "cell_type": "code",
   "execution_count": 136,
   "metadata": {
    "colab": {
     "base_uri": "https://localhost:8080/",
     "height": 221
    },
    "colab_type": "code",
    "id": "-DHNqI47d4nR",
    "outputId": "d5da8ee2-11a9-4842-a0e7-07331ec92a00"
   },
   "outputs": [
    {
     "name": "stdout",
     "output_type": "stream",
     "text": [
      "0.0       424180\n",
      "1.0        15738\n",
      "2.0         5232\n",
      "3.0         2610\n",
      "4.0         1569\n",
      "           ...  \n",
      "601.0          1\n",
      "353.0          1\n",
      "9713.0         1\n",
      "229.0          1\n",
      "218.0          1\n",
      "Name: vl_total_veiculos_leves_grupo, Length: 310, dtype: int64\n"
     ]
    }
   ],
   "source": [
    "print(market['vl_total_veiculos_leves_grupo'].value_counts())"
   ]
  },
  {
   "cell_type": "code",
   "execution_count": 137,
   "metadata": {
    "colab": {
     "base_uri": "https://localhost:8080/",
     "height": 221
    },
    "colab_type": "code",
    "id": "7cKP9Uvxd6KP",
    "outputId": "75ca45d9-97c9-44c7-84fe-85d22e445de8"
   },
   "outputs": [
    {
     "name": "stdout",
     "output_type": "stream",
     "text": [
      "0.0       441360\n",
      "1.0         6785\n",
      "2.0         2585\n",
      "3.0         1301\n",
      "4.0          827\n",
      "           ...  \n",
      "136.0          1\n",
      "681.0          1\n",
      "341.0          1\n",
      "191.0          1\n",
      "1495.0         1\n",
      "Name: vl_total_veiculos_pesados_grupo, Length: 296, dtype: int64\n"
     ]
    }
   ],
   "source": [
    "print(market['vl_total_veiculos_pesados_grupo'].value_counts())"
   ]
  },
  {
   "cell_type": "markdown",
   "metadata": {
    "colab_type": "text",
    "id": "9yLc777LcusC"
   },
   "source": [
    "We will drop all five variables because they have at least 90% of the distribution as a single value."
   ]
  },
  {
   "cell_type": "code",
   "execution_count": 0,
   "metadata": {
    "colab": {},
    "colab_type": "code",
    "id": "eFb95DTuBe5E"
   },
   "outputs": [],
   "source": [
    "drop_col(market, 'fl_spa')\n",
    "drop_col(market, 'fl_antt')\n",
    "drop_col(market, 'fl_veiculo')\n",
    "drop_col(market, 'vl_total_veiculos_leves_grupo')\n",
    "drop_col(market, 'vl_total_veiculos_pesados_grupo')"
   ]
  },
  {
   "cell_type": "markdown",
   "metadata": {
    "colab_type": "text",
    "id": "e_0vGnBKB-Xp"
   },
   "source": [
    "----\n",
    "The following variables deal with the company's financial health and the date of the last update of this item.For our purpose, they are disposable.\n"
   ]
  },
  {
   "cell_type": "code",
   "execution_count": 0,
   "metadata": {
    "colab": {},
    "colab_type": "code",
    "id": "pXTL5AmrBWQb"
   },
   "outputs": [],
   "source": [
    "drop_col(market, 'de_saude_tributaria')\n",
    "drop_col(market, 'de_saude_rescencia')\n",
    "drop_col(market, 'nu_meses_rescencia')"
   ]
  },
  {
   "cell_type": "markdown",
   "metadata": {
    "colab_type": "text",
    "id": "9ljHo0TWG7_f"
   },
   "source": [
    "---\n",
    "Let's take a look at ```nm_meso_regiao``` ,```nm_micro_regiao``` and ```sg_uf```."
   ]
  },
  {
   "cell_type": "code",
   "execution_count": 140,
   "metadata": {
    "colab": {
     "base_uri": "https://localhost:8080/",
     "height": 357
    },
    "colab_type": "code",
    "id": "NVBqdvSIct_K",
    "outputId": "9cd4c119-ba52-42a3-d28c-15af2a8655d5"
   },
   "outputs": [
    {
     "name": "stdout",
     "output_type": "stream",
     "text": [
      "CENTRO AMAZONENSE         71469\n",
      "NORTE MARANHENSE          61331\n",
      "LESTE POTIGUAR            58762\n",
      "CENTRO NORTE PIAUIENSE    42244\n",
      "OESTE MARANHENSE          26796\n",
      "OESTE POTIGUAR            20860\n",
      "LESTE MARANHENSE          17651\n",
      "VALE DO ACRE              16539\n",
      "CENTRO MARANHENSE         13755\n",
      "SUDOESTE PIAUIENSE        12180\n",
      "NORTE PIAUIENSE           11919\n",
      "CENTRAL POTIGUAR          10681\n",
      "SUDESTE PIAUIENSE         10049\n",
      "AGRESTE POTIGUAR           7845\n",
      "SUL MARANHENSE             7382\n",
      "SUL AMAZONENSE             4931\n",
      "VALE DO JURUA              3900\n",
      "SUDOESTE AMAZONENSE        3738\n",
      "NORTE AMAZONENSE           1568\n",
      "Name: nm_meso_regiao, dtype: int64\n"
     ]
    }
   ],
   "source": [
    "print(market['nm_meso_regiao'].value_counts())"
   ]
  },
  {
   "cell_type": "code",
   "execution_count": 141,
   "metadata": {
    "colab": {
     "base_uri": "https://localhost:8080/",
     "height": 221
    },
    "colab_type": "code",
    "id": "S-aRReH-csPE",
    "outputId": "37095adf-0601-4272-fff4-58f0386a1faa"
   },
   "outputs": [
    {
     "name": "stdout",
     "output_type": "stream",
     "text": [
      "MANAUS                            60008\n",
      "NATAL                             46745\n",
      "AGLOMERACAO URBANA DE SAO LUIS    45875\n",
      "TERESINA                          33887\n",
      "IMPERATRIZ                        15912\n",
      "                                  ...  \n",
      "BERTOLINIA                          854\n",
      "PIO IX                              823\n",
      "PURUS                               757\n",
      "MEDIO OESTE                         562\n",
      "JAPURA                              190\n",
      "Name: nm_micro_regiao, Length: 73, dtype: int64\n"
     ]
    }
   ],
   "source": [
    "print(market['nm_micro_regiao'].value_counts())"
   ]
  },
  {
   "cell_type": "code",
   "execution_count": 142,
   "metadata": {
    "colab": {
     "base_uri": "https://localhost:8080/",
     "height": 136
    },
    "colab_type": "code",
    "id": "GT-IdERScvVr",
    "outputId": "a75324a9-32be-4480-defa-139017e8441b"
   },
   "outputs": [
    {
     "name": "stdout",
     "output_type": "stream",
     "text": [
      "MA    127654\n",
      "RN     98837\n",
      "AM     82114\n",
      "PI     76686\n",
      "RO     56469\n",
      "AC     20538\n",
      "Name: sg_uf, dtype: int64\n"
     ]
    }
   ],
   "source": [
    "print(market['sg_uf'].value_counts())"
   ]
  },
  {
   "cell_type": "markdown",
   "metadata": {
    "colab_type": "text",
    "id": "PnpDdP3CczHD"
   },
   "source": [
    "As has already happened, here we have the case of variables that deal strictly with the same issue (location), but with different degrees of specificity. Let's stay with the most generalist, which is the ```sg_uf```."
   ]
  },
  {
   "cell_type": "code",
   "execution_count": 0,
   "metadata": {
    "colab": {},
    "colab_type": "code",
    "id": "KqTL_Yg6cznL"
   },
   "outputs": [],
   "source": [
    "drop_col(market, 'nm_meso_regiao')\n",
    "drop_col(market, 'nm_micro_regiao')"
   ]
  },
  {
   "cell_type": "markdown",
   "metadata": {
    "colab_type": "text",
    "id": "M7tcR_q-Hp5F"
   },
   "source": [
    "---\n",
    "All of the variables below inform us about the company's partners. This kind of data is irrelevant, let's drop these columns."
   ]
  },
  {
   "cell_type": "code",
   "execution_count": 0,
   "metadata": {
    "colab": {},
    "colab_type": "code",
    "id": "bKk8MajIBiuT"
   },
   "outputs": [],
   "source": [
    "drop_col(market, 'qt_socios')\n",
    "drop_col(market, 'qt_socios_pf')\n",
    "drop_col(market, 'qt_socios_pj')"
   ]
  },
  {
   "cell_type": "markdown",
   "metadata": {
    "colab_type": "text",
    "id": "U-ZHjdr0H2L4"
   },
   "source": [
    "---\n",
    "Here we have another group of variables to be analyzed: ```vl_faturamento_estimado_grupo_aux``` and  ```de_faixa_faturamento_estimado_grupo```."
   ]
  },
  {
   "cell_type": "markdown",
   "metadata": {
    "colab_type": "text",
    "id": "LRZvqteYio_2"
   },
   "source": [
    "As we want to recommend leads, data about the group in which a company belongs is not important to us. Let's drop ```vl_faturamento_estimado_grupo_aux```,  ```de_faixa_faturamento_estimado_grupo``` and ```sg_uf_matriz```."
   ]
  },
  {
   "cell_type": "code",
   "execution_count": 0,
   "metadata": {
    "colab": {},
    "colab_type": "code",
    "id": "68SQQGLEinvx"
   },
   "outputs": [],
   "source": [
    "drop_col(market, 'vl_faturamento_estimado_grupo_aux')\n",
    "drop_col(market, 'de_faixa_faturamento_estimado_grupo')\n",
    "drop_col(market, 'sg_uf_matriz')"
   ]
  },
  {
   "cell_type": "markdown",
   "metadata": {
    "colab_type": "text",
    "id": "LM5tKK4gjb4k"
   },
   "source": [
    "---\n",
    "Now, let's see ```vl_faturamento_estimado_aux``` and ```de_faixa_faturamento_estimado```."
   ]
  },
  {
   "cell_type": "code",
   "execution_count": 146,
   "metadata": {
    "colab": {
     "base_uri": "https://localhost:8080/",
     "height": 361
    },
    "colab_type": "code",
    "id": "E_Xx1VuNIBLN",
    "outputId": "b6c173f8-789d-4dbe-c4eb-2cc008ac1c06"
   },
   "outputs": [
    {
     "data": {
      "text/plain": [
       "<matplotlib.axes._subplots.AxesSubplot at 0x7fa67f1bbcc0>"
      ]
     },
     "execution_count": 146,
     "metadata": {
      "tags": []
     },
     "output_type": "execute_result"
    },
    {
     "data": {
      "image/png": "[encoded data removed]",
      "text/plain": [
       "<Figure size 720x360 with 1 Axes>"
      ]
     },
     "metadata": {
      "needs_background": "light",
      "tags": []
     },
     "output_type": "display_data"
    }
   ],
   "source": [
    "fig, axes = plt.subplots(figsize=(10, 5))\n",
    "sns.kdeplot(market['vl_faturamento_estimado_aux'], shade=True)"
   ]
  },
  {
   "cell_type": "code",
   "execution_count": 147,
   "metadata": {
    "colab": {
     "base_uri": "https://localhost:8080/",
     "height": 623
    },
    "colab_type": "code",
    "id": "igmmh2zQjTPV",
    "outputId": "38330ab9-5ca0-4229-b4c7-dfbe6f784c96"
   },
   "outputs": [
    {
     "data": {
      "text/plain": [
       "<matplotlib.axes._subplots.AxesSubplot at 0x7fa67f11bcf8>"
      ]
     },
     "execution_count": 147,
     "metadata": {
      "tags": []
     },
     "output_type": "execute_result"
    },
    {
     "data": {
      "image/png": "[encoded data removed]",
      "text/plain": [
       "<Figure size 720x720 with 1 Axes>"
      ]
     },
     "metadata": {
      "needs_background": "light",
      "tags": []
     },
     "output_type": "display_data"
    }
   ],
   "source": [
    "fig, axes = plt.subplots(figsize=(10, 10))\n",
    "sns.countplot(y=market['de_faixa_faturamento_estimado'])"
   ]
  },
  {
   "cell_type": "markdown",
   "metadata": {
    "colab_type": "text",
    "id": "E6z8h_bkhuX4"
   },
   "source": [
    "The two variables previously plotted are the same thing, ```de_faixa_faturamento_estimado``` being a categorical version of ```vl_faturamento_estimado_aux```. In order not to increase the dimensionality, we will keep the numeric one."
   ]
  },
  {
   "cell_type": "code",
   "execution_count": 0,
   "metadata": {
    "colab": {},
    "colab_type": "code",
    "id": "1tnbDaDKgANx"
   },
   "outputs": [],
   "source": [
    "drop_col(market, 'de_faixa_faturamento_estimado')"
   ]
  },
  {
   "cell_type": "markdown",
   "metadata": {
    "colab_type": "text",
    "id": "YaWA_VomIbnY"
   },
   "source": [
    "---\n",
    "The ```qt_filiais``` column have a low variance, because approximately\n",
    "90% of companies have 0 subsidiaries."
   ]
  },
  {
   "cell_type": "code",
   "execution_count": 149,
   "metadata": {
    "colab": {
     "base_uri": "https://localhost:8080/",
     "height": 221
    },
    "colab_type": "code",
    "id": "tr08pJsSIWsJ",
    "outputId": "a9850365-a58e-4b20-fd52-62d4edd8079c"
   },
   "outputs": [
    {
     "name": "stdout",
     "output_type": "stream",
     "text": [
      "0      418043\n",
      "1       19561\n",
      "2        5943\n",
      "3        2884\n",
      "4        1772\n",
      "        ...  \n",
      "173         1\n",
      "148         1\n",
      "209         1\n",
      "215         1\n",
      "404         1\n",
      "Name: qt_filiais, Length: 304, dtype: int64\n"
     ]
    }
   ],
   "source": [
    "print(market['qt_filiais'].value_counts())"
   ]
  },
  {
   "cell_type": "markdown",
   "metadata": {
    "colab_type": "text",
    "id": "hCofLJCBmlvW"
   },
   "source": [
    "Thus, let's drop it."
   ]
  },
  {
   "cell_type": "code",
   "execution_count": 0,
   "metadata": {
    "colab": {},
    "colab_type": "code",
    "id": "rnieYwe_UNrW"
   },
   "outputs": [],
   "source": [
    "drop_col(market, 'qt_filiais')"
   ]
  },
  {
   "cell_type": "markdown",
   "metadata": {
    "colab_type": "text",
    "id": "j3ffAaKHphZ0"
   },
   "source": [
    "---\n",
    "The following variables are about the company's tax regime and this information is irrelevant to the problem in question."
   ]
  },
  {
   "cell_type": "code",
   "execution_count": 0,
   "metadata": {
    "colab": {},
    "colab_type": "code",
    "id": "xtr45K4Jpmrd"
   },
   "outputs": [],
   "source": [
    "drop_col(market, 'fl_optante_simei')\n",
    "drop_col(market, 'fl_optante_simples')\n",
    "drop_col(market, 'fl_simples_irregular')"
   ]
  },
  {
   "cell_type": "markdown",
   "metadata": {
    "colab_type": "text",
    "id": "I7DATk49r2Ne"
   },
   "source": [
    "---\n",
    "The probability of company being operating is irrelevant by now, so we can drop```de_nivel_atividade```."
   ]
  },
  {
   "cell_type": "code",
   "execution_count": 0,
   "metadata": {
    "colab": {},
    "colab_type": "code",
    "id": "SRA5QelbsIbN"
   },
   "outputs": [],
   "source": [
    "drop_col(market, 'de_nivel_atividade')"
   ]
  },
  {
   "cell_type": "markdown",
   "metadata": {
    "colab_type": "text",
    "id": "UT_ed_1sHwsw"
   },
   "source": [
    "--- \n",
    "**Overview of selected columns**\n",
    "\n"
   ]
  },
  {
   "cell_type": "code",
   "execution_count": 153,
   "metadata": {
    "colab": {
     "base_uri": "https://localhost:8080/",
     "height": 558
    },
    "colab_type": "code",
    "id": "xgLX5IIRcLvb",
    "outputId": "1458c733-de78-4856-cf1a-207346b005af"
   },
   "outputs": [
    {
     "data": {
      "text/plain": [
       "<matplotlib.axes._subplots.AxesSubplot at 0x7fa67f2709e8>"
      ]
     },
     "execution_count": 153,
     "metadata": {
      "tags": []
     },
     "output_type": "execute_result"
    },
    {
     "data": {
      "image/png": "[encoded data removed]",
      "text/plain": [
       "<Figure size 1728x720 with 3 Axes>"
      ]
     },
     "metadata": {
      "needs_background": "light",
      "tags": []
     },
     "output_type": "display_data"
    }
   ],
   "source": [
    "msno.bar(market)"
   ]
  },
  {
   "cell_type": "markdown",
   "metadata": {
    "colab_type": "text",
    "id": "zK6Z3DJldaGr"
   },
   "source": [
    "We have little missing values, let's check if we can drop them without considerably impact."
   ]
  },
  {
   "cell_type": "code",
   "execution_count": 154,
   "metadata": {
    "colab": {
     "base_uri": "https://localhost:8080/",
     "height": 34
    },
    "colab_type": "code",
    "id": "PE995ElEdOoX",
    "outputId": "9e88c71a-e0aa-4f99-9e2e-13dc1d23a724"
   },
   "outputs": [
    {
     "data": {
      "text/plain": [
       "0.9363224586738425"
      ]
     },
     "execution_count": 154,
     "metadata": {
      "tags": []
     },
     "output_type": "execute_result"
    }
   ],
   "source": [
    "market.dropna(how='any').shape[0]/market.shape[0]"
   ]
  },
  {
   "cell_type": "markdown",
   "metadata": {
    "colab_type": "text",
    "id": "jQDgxcaC804t"
   },
   "source": [
    "Our dataset is a very large dataset and these 7% of observations with a missing value will not be missed."
   ]
  },
  {
   "cell_type": "code",
   "execution_count": 0,
   "metadata": {
    "colab": {},
    "colab_type": "code",
    "id": "ydjAOudw88MO"
   },
   "outputs": [],
   "source": [
    "market = market.dropna(how='any')"
   ]
  },
  {
   "cell_type": "code",
   "execution_count": 156,
   "metadata": {
    "colab": {
     "base_uri": "https://localhost:8080/",
     "height": 556
    },
    "colab_type": "code",
    "id": "t6oODFjid8ye",
    "outputId": "5098a0f6-0fed-45c5-c3da-1835b9189a82"
   },
   "outputs": [
    {
     "data": {
      "text/plain": [
       "<matplotlib.axes._subplots.AxesSubplot at 0x7fa67f0b6630>"
      ]
     },
     "execution_count": 156,
     "metadata": {
      "tags": []
     },
     "output_type": "execute_result"
    },
    {
     "data": {
      "image/png": "[encoded data removed]",
      "text/plain": [
       "<Figure size 1728x720 with 3 Axes>"
      ]
     },
     "metadata": {
      "needs_background": "light",
      "tags": []
     },
     "output_type": "display_data"
    }
   ],
   "source": [
    "msno.bar(market.sample(1000))"
   ]
  },
  {
   "cell_type": "markdown",
   "metadata": {
    "colab_type": "text",
    "id": "qCYyb2qXeAo9"
   },
   "source": [
    "### Enconding"
   ]
  },
  {
   "cell_type": "code",
   "execution_count": 0,
   "metadata": {
    "colab": {},
    "colab_type": "code",
    "id": "-piizZnoe3rN"
   },
   "outputs": [],
   "source": []
  }
 ],
 "metadata": {
  "colab": {
   "collapsed_sections": [],
   "name": "leads-recommender.ipynb",
   "provenance": [],
   "toc_visible": true
  },
  "kernelspec": {
   "display_name": "Python 3",
   "language": "python",
   "name": "python3"
  },
  "language_info": {
   "codemirror_mode": {
    "name": "ipython",
    "version": 3
   },
   "file_extension": ".py",
   "mimetype": "text/x-python",
   "name": "python",
   "nbconvert_exporter": "python",
   "pygments_lexer": "ipython3",
   "version": "3.7.4"
  }
 },
 "nbformat": 4,
 "nbformat_minor": 1
}
