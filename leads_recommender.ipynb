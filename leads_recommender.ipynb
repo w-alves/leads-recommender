{
<<<<<<< HEAD
 "cells": [
  {
   "cell_type": "markdown",
   "metadata": {
    "colab_type": "text",
    "id": "KXTn3DH0X7xC"
   },
   "source": [
    "### Understending the problem\n",
    "\n",
    "**Objective**\n",
    "\n",
    "The purpose of this product is to provide an automated service that recommends leads to a user given their current customer list (Portfolio).\n",
    "\n",
    "**Contextualization**\n",
    "\n",
    "Some companies would like to know who are the other companies in a given market (population) that are most likely to become their next customers. That is, your solution must find in the market who are the most adherent leads given the characteristics of the customers present in the user's portfolio.\n",
    "\n",
    "In addition, your solution must be user agnostic. Any user with a list of customers who want to explore this market can extract value from the service.\n",
    "\n",
    "For the challenge, the following bases should be considered:\n",
    "\n",
    "> Market: Base with information about the companies in the market to be  considered. \n",
    "\n",
    "> Portfolio 1: Company customer ids 1\n",
    "\n",
    "> Portfolio 2: Company customer ids 2\n",
    "\n",
    "> Portfolio 3: Company customer ids 3\n",
    "\n",
    "Note: all companies (ids) in the portfolios are contained in the Market (population base).\n",
    "\n",
    "Link to download the Market, Portfolio 1, Portfolio 2 and Portfolio 3 bases respectively:"
   ]
  },
  {
   "cell_type": "markdown",
   "metadata": {
    "colab_type": "text",
    "id": "4TWN0-rqYADq"
   },
   "source": [
    "# General setup"
   ]
  },
  {
   "cell_type": "markdown",
   "metadata": {
    "colab_type": "text",
    "id": "VQTQZTF3YMTL"
   },
   "source": [
    "## Imports"
   ]
  },
  {
   "cell_type": "code",
   "execution_count": 2,
   "metadata": {
    "colab": {},
    "colab_type": "code",
    "id": "nJ1wNm4VX8Hv"
   },
   "outputs": [
    {
     "name": "stderr",
     "output_type": "stream",
     "text": [
      "C:\\Users\\PC114\\Anaconda3\\lib\\site-packages\\statsmodels\\tools\\_testing.py:19: FutureWarning: pandas.util.testing is deprecated. Use the functions in the public API at pandas.testing instead.\n",
      "  import pandas.util.testing as tm\n"
     ]
    }
   ],
   "source": [
    "#Importing\n",
    "import pandas as pd\n",
    "import numpy as np\n",
    "import matplotlib.pyplot as plt\n",
    "import seaborn as sns\n",
    "import missingno as msno\n",
    "from sklearn.preprocessing import MinMaxScaler, OneHotEncoder"
   ]
  },
  {
   "cell_type": "markdown",
   "metadata": {
    "colab_type": "text",
    "id": "bbnqgSYlYOaz"
   },
   "source": [
    "## Datasets"
   ]
  },
  {
   "cell_type": "code",
   "execution_count": 3,
   "metadata": {
    "colab": {},
    "colab_type": "code",
    "id": "mC84ZaqIYRBz"
   },
   "outputs": [],
   "source": [
    "#Reading main dataframe\n",
    "raw_market = pd.read_csv('data/estaticos_market.csv', index_col='id')"
   ]
  },
  {
   "cell_type": "code",
   "execution_count": 4,
   "metadata": {
    "colab": {
     "base_uri": "https://localhost:8080/",
     "height": 488
    },
    "colab_type": "code",
    "id": "SQ2_7If1YXPK",
    "outputId": "54160753-cef3-4591-8b8b-8385c834be6f"
   },
   "outputs": [
    {
     "data": {
      "text/html": [
       "<div>\n",
       "<style scoped>\n",
       "    .dataframe tbody tr th:only-of-type {\n",
       "        vertical-align: middle;\n",
       "    }\n",
       "\n",
       "    .dataframe tbody tr th {\n",
       "        vertical-align: top;\n",
       "    }\n",
       "\n",
       "    .dataframe thead th {\n",
       "        text-align: right;\n",
       "    }\n",
       "</style>\n",
       "<table border=\"1\" class=\"dataframe\">\n",
       "  <thead>\n",
       "    <tr style=\"text-align: right;\">\n",
       "      <th></th>\n",
       "      <th>fl_matriz</th>\n",
       "      <th>de_natureza_juridica</th>\n",
       "      <th>sg_uf</th>\n",
       "      <th>natureza_juridica_macro</th>\n",
       "      <th>de_ramo</th>\n",
       "      <th>setor</th>\n",
       "      <th>idade_empresa_anos</th>\n",
       "      <th>idade_emp_cat</th>\n",
       "      <th>fl_me</th>\n",
       "      <th>fl_sa</th>\n",
       "      <th>...</th>\n",
       "      <th>media_meses_servicos</th>\n",
       "      <th>max_meses_servicos</th>\n",
       "      <th>min_meses_servicos</th>\n",
       "      <th>qt_funcionarios</th>\n",
       "      <th>qt_funcionarios_12meses</th>\n",
       "      <th>qt_funcionarios_24meses</th>\n",
       "      <th>tx_crescimento_12meses</th>\n",
       "      <th>tx_crescimento_24meses</th>\n",
       "      <th>tx_rotatividade</th>\n",
       "      <th>qt_filiais</th>\n",
       "    </tr>\n",
       "    <tr>\n",
       "      <th>id</th>\n",
       "      <th></th>\n",
       "      <th></th>\n",
       "      <th></th>\n",
       "      <th></th>\n",
       "      <th></th>\n",
       "      <th></th>\n",
       "      <th></th>\n",
       "      <th></th>\n",
       "      <th></th>\n",
       "      <th></th>\n",
       "      <th></th>\n",
       "      <th></th>\n",
       "      <th></th>\n",
       "      <th></th>\n",
       "      <th></th>\n",
       "      <th></th>\n",
       "      <th></th>\n",
       "      <th></th>\n",
       "      <th></th>\n",
       "      <th></th>\n",
       "      <th></th>\n",
       "    </tr>\n",
       "  </thead>\n",
       "  <tbody>\n",
       "    <tr>\n",
       "      <th>a6984c3ae395090e3bee8ad63c3758b110de096d5d819583a784a113726db849</th>\n",
       "      <td>True</td>\n",
       "      <td>SOCIEDADE EMPRESARIA LIMITADA</td>\n",
       "      <td>RN</td>\n",
       "      <td>ENTIDADES EMPRESARIAIS</td>\n",
       "      <td>INDUSTRIA DA CONSTRUCAO</td>\n",
       "      <td>CONSTRUÇÃO CIVIL</td>\n",
       "      <td>14.457534</td>\n",
       "      <td>10 a 15</td>\n",
       "      <td>False</td>\n",
       "      <td>False</td>\n",
       "      <td>...</td>\n",
       "      <td>43.738462</td>\n",
       "      <td>93.266667</td>\n",
       "      <td>19.166667</td>\n",
       "      <td>26.0</td>\n",
       "      <td>26.0</td>\n",
       "      <td>27.0</td>\n",
       "      <td>0.0</td>\n",
       "      <td>-3.703704</td>\n",
       "      <td>0.0</td>\n",
       "      <td>0</td>\n",
       "    </tr>\n",
       "    <tr>\n",
       "      <th>6178f41ade1365e44bc2c46654c2c8c0eaae27dcb476c47fdef50b33f4f56f05</th>\n",
       "      <td>True</td>\n",
       "      <td>EMPRESARIO INDIVIDUAL</td>\n",
       "      <td>PI</td>\n",
       "      <td>OUTROS</td>\n",
       "      <td>SERVICOS DE ALOJAMENTO/ALIMENTACAO</td>\n",
       "      <td>SERVIÇO</td>\n",
       "      <td>1.463014</td>\n",
       "      <td>1 a 5</td>\n",
       "      <td>False</td>\n",
       "      <td>False</td>\n",
       "      <td>...</td>\n",
       "      <td>NaN</td>\n",
       "      <td>NaN</td>\n",
       "      <td>NaN</td>\n",
       "      <td>NaN</td>\n",
       "      <td>NaN</td>\n",
       "      <td>NaN</td>\n",
       "      <td>NaN</td>\n",
       "      <td>NaN</td>\n",
       "      <td>NaN</td>\n",
       "      <td>0</td>\n",
       "    </tr>\n",
       "    <tr>\n",
       "      <th>4a7e5069a397f12fdd7fd57111d6dc5d3ba558958efc02edc5147bc2a2535b08</th>\n",
       "      <td>True</td>\n",
       "      <td>EMPRESARIO INDIVIDUAL</td>\n",
       "      <td>AM</td>\n",
       "      <td>OUTROS</td>\n",
       "      <td>TRANSPORTE, ARMAZENAGEM E CORREIO</td>\n",
       "      <td>SERVIÇO</td>\n",
       "      <td>7.093151</td>\n",
       "      <td>5 a 10</td>\n",
       "      <td>False</td>\n",
       "      <td>False</td>\n",
       "      <td>...</td>\n",
       "      <td>NaN</td>\n",
       "      <td>NaN</td>\n",
       "      <td>NaN</td>\n",
       "      <td>NaN</td>\n",
       "      <td>NaN</td>\n",
       "      <td>NaN</td>\n",
       "      <td>NaN</td>\n",
       "      <td>NaN</td>\n",
       "      <td>NaN</td>\n",
       "      <td>0</td>\n",
       "    </tr>\n",
       "    <tr>\n",
       "      <th>3348900fe63216a439d2e5238c79ddd46ede454df7b9d8c24ac33eb21d4b21ef</th>\n",
       "      <td>True</td>\n",
       "      <td>EMPRESARIO INDIVIDUAL</td>\n",
       "      <td>AM</td>\n",
       "      <td>OUTROS</td>\n",
       "      <td>SERVICOS DIVERSOS</td>\n",
       "      <td>SERVIÇO</td>\n",
       "      <td>6.512329</td>\n",
       "      <td>5 a 10</td>\n",
       "      <td>False</td>\n",
       "      <td>False</td>\n",
       "      <td>...</td>\n",
       "      <td>NaN</td>\n",
       "      <td>NaN</td>\n",
       "      <td>NaN</td>\n",
       "      <td>NaN</td>\n",
       "      <td>NaN</td>\n",
       "      <td>NaN</td>\n",
       "      <td>NaN</td>\n",
       "      <td>NaN</td>\n",
       "      <td>NaN</td>\n",
       "      <td>0</td>\n",
       "    </tr>\n",
       "    <tr>\n",
       "      <th>1f9bcabc9d3173c1fe769899e4fac14b053037b953a1e4b102c769f7611ab29f</th>\n",
       "      <td>True</td>\n",
       "      <td>EMPRESARIO INDIVIDUAL</td>\n",
       "      <td>RN</td>\n",
       "      <td>OUTROS</td>\n",
       "      <td>SERVICOS PROFISSIONAIS, TECNICOS E CIENTIFICOS</td>\n",
       "      <td>SERVIÇO</td>\n",
       "      <td>3.200000</td>\n",
       "      <td>1 a 5</td>\n",
       "      <td>False</td>\n",
       "      <td>False</td>\n",
       "      <td>...</td>\n",
       "      <td>NaN</td>\n",
       "      <td>NaN</td>\n",
       "      <td>NaN</td>\n",
       "      <td>NaN</td>\n",
       "      <td>NaN</td>\n",
       "      <td>NaN</td>\n",
       "      <td>NaN</td>\n",
       "      <td>NaN</td>\n",
       "      <td>NaN</td>\n",
       "      <td>0</td>\n",
       "    </tr>\n",
       "  </tbody>\n",
       "</table>\n",
       "<p>5 rows × 180 columns</p>\n",
       "</div>"
      ],
      "text/plain": [
       "                                                    fl_matriz  \\\n",
       "id                                                              \n",
       "a6984c3ae395090e3bee8ad63c3758b110de096d5d81958...       True   \n",
       "6178f41ade1365e44bc2c46654c2c8c0eaae27dcb476c47...       True   \n",
       "4a7e5069a397f12fdd7fd57111d6dc5d3ba558958efc02e...       True   \n",
       "3348900fe63216a439d2e5238c79ddd46ede454df7b9d8c...       True   \n",
       "1f9bcabc9d3173c1fe769899e4fac14b053037b953a1e4b...       True   \n",
       "\n",
       "                                                             de_natureza_juridica  \\\n",
       "id                                                                                  \n",
       "a6984c3ae395090e3bee8ad63c3758b110de096d5d81958...  SOCIEDADE EMPRESARIA LIMITADA   \n",
       "6178f41ade1365e44bc2c46654c2c8c0eaae27dcb476c47...          EMPRESARIO INDIVIDUAL   \n",
       "4a7e5069a397f12fdd7fd57111d6dc5d3ba558958efc02e...          EMPRESARIO INDIVIDUAL   \n",
       "3348900fe63216a439d2e5238c79ddd46ede454df7b9d8c...          EMPRESARIO INDIVIDUAL   \n",
       "1f9bcabc9d3173c1fe769899e4fac14b053037b953a1e4b...          EMPRESARIO INDIVIDUAL   \n",
       "\n",
       "                                                   sg_uf  \\\n",
       "id                                                         \n",
       "a6984c3ae395090e3bee8ad63c3758b110de096d5d81958...    RN   \n",
       "6178f41ade1365e44bc2c46654c2c8c0eaae27dcb476c47...    PI   \n",
       "4a7e5069a397f12fdd7fd57111d6dc5d3ba558958efc02e...    AM   \n",
       "3348900fe63216a439d2e5238c79ddd46ede454df7b9d8c...    AM   \n",
       "1f9bcabc9d3173c1fe769899e4fac14b053037b953a1e4b...    RN   \n",
       "\n",
       "                                                   natureza_juridica_macro  \\\n",
       "id                                                                           \n",
       "a6984c3ae395090e3bee8ad63c3758b110de096d5d81958...  ENTIDADES EMPRESARIAIS   \n",
       "6178f41ade1365e44bc2c46654c2c8c0eaae27dcb476c47...                  OUTROS   \n",
       "4a7e5069a397f12fdd7fd57111d6dc5d3ba558958efc02e...                  OUTROS   \n",
       "3348900fe63216a439d2e5238c79ddd46ede454df7b9d8c...                  OUTROS   \n",
       "1f9bcabc9d3173c1fe769899e4fac14b053037b953a1e4b...                  OUTROS   \n",
       "\n",
       "                                                                                           de_ramo  \\\n",
       "id                                                                                                   \n",
       "a6984c3ae395090e3bee8ad63c3758b110de096d5d81958...                         INDUSTRIA DA CONSTRUCAO   \n",
       "6178f41ade1365e44bc2c46654c2c8c0eaae27dcb476c47...              SERVICOS DE ALOJAMENTO/ALIMENTACAO   \n",
       "4a7e5069a397f12fdd7fd57111d6dc5d3ba558958efc02e...               TRANSPORTE, ARMAZENAGEM E CORREIO   \n",
       "3348900fe63216a439d2e5238c79ddd46ede454df7b9d8c...                               SERVICOS DIVERSOS   \n",
       "1f9bcabc9d3173c1fe769899e4fac14b053037b953a1e4b...  SERVICOS PROFISSIONAIS, TECNICOS E CIENTIFICOS   \n",
       "\n",
       "                                                               setor  \\\n",
       "id                                                                     \n",
       "a6984c3ae395090e3bee8ad63c3758b110de096d5d81958...  CONSTRUÇÃO CIVIL   \n",
       "6178f41ade1365e44bc2c46654c2c8c0eaae27dcb476c47...           SERVIÇO   \n",
       "4a7e5069a397f12fdd7fd57111d6dc5d3ba558958efc02e...           SERVIÇO   \n",
       "3348900fe63216a439d2e5238c79ddd46ede454df7b9d8c...           SERVIÇO   \n",
       "1f9bcabc9d3173c1fe769899e4fac14b053037b953a1e4b...           SERVIÇO   \n",
       "\n",
       "                                                    idade_empresa_anos  \\\n",
       "id                                                                       \n",
       "a6984c3ae395090e3bee8ad63c3758b110de096d5d81958...           14.457534   \n",
       "6178f41ade1365e44bc2c46654c2c8c0eaae27dcb476c47...            1.463014   \n",
       "4a7e5069a397f12fdd7fd57111d6dc5d3ba558958efc02e...            7.093151   \n",
       "3348900fe63216a439d2e5238c79ddd46ede454df7b9d8c...            6.512329   \n",
       "1f9bcabc9d3173c1fe769899e4fac14b053037b953a1e4b...            3.200000   \n",
       "\n",
       "                                                   idade_emp_cat  fl_me  \\\n",
       "id                                                                        \n",
       "a6984c3ae395090e3bee8ad63c3758b110de096d5d81958...       10 a 15  False   \n",
       "6178f41ade1365e44bc2c46654c2c8c0eaae27dcb476c47...         1 a 5  False   \n",
       "4a7e5069a397f12fdd7fd57111d6dc5d3ba558958efc02e...        5 a 10  False   \n",
       "3348900fe63216a439d2e5238c79ddd46ede454df7b9d8c...        5 a 10  False   \n",
       "1f9bcabc9d3173c1fe769899e4fac14b053037b953a1e4b...         1 a 5  False   \n",
       "\n",
       "                                                    fl_sa  ...  \\\n",
       "id                                                         ...   \n",
       "a6984c3ae395090e3bee8ad63c3758b110de096d5d81958...  False  ...   \n",
       "6178f41ade1365e44bc2c46654c2c8c0eaae27dcb476c47...  False  ...   \n",
       "4a7e5069a397f12fdd7fd57111d6dc5d3ba558958efc02e...  False  ...   \n",
       "3348900fe63216a439d2e5238c79ddd46ede454df7b9d8c...  False  ...   \n",
       "1f9bcabc9d3173c1fe769899e4fac14b053037b953a1e4b...  False  ...   \n",
       "\n",
       "                                                    media_meses_servicos  \\\n",
       "id                                                                         \n",
       "a6984c3ae395090e3bee8ad63c3758b110de096d5d81958...             43.738462   \n",
       "6178f41ade1365e44bc2c46654c2c8c0eaae27dcb476c47...                   NaN   \n",
       "4a7e5069a397f12fdd7fd57111d6dc5d3ba558958efc02e...                   NaN   \n",
       "3348900fe63216a439d2e5238c79ddd46ede454df7b9d8c...                   NaN   \n",
       "1f9bcabc9d3173c1fe769899e4fac14b053037b953a1e4b...                   NaN   \n",
       "\n",
       "                                                    max_meses_servicos  \\\n",
       "id                                                                       \n",
       "a6984c3ae395090e3bee8ad63c3758b110de096d5d81958...           93.266667   \n",
       "6178f41ade1365e44bc2c46654c2c8c0eaae27dcb476c47...                 NaN   \n",
       "4a7e5069a397f12fdd7fd57111d6dc5d3ba558958efc02e...                 NaN   \n",
       "3348900fe63216a439d2e5238c79ddd46ede454df7b9d8c...                 NaN   \n",
       "1f9bcabc9d3173c1fe769899e4fac14b053037b953a1e4b...                 NaN   \n",
       "\n",
       "                                                    min_meses_servicos  \\\n",
       "id                                                                       \n",
       "a6984c3ae395090e3bee8ad63c3758b110de096d5d81958...           19.166667   \n",
       "6178f41ade1365e44bc2c46654c2c8c0eaae27dcb476c47...                 NaN   \n",
       "4a7e5069a397f12fdd7fd57111d6dc5d3ba558958efc02e...                 NaN   \n",
       "3348900fe63216a439d2e5238c79ddd46ede454df7b9d8c...                 NaN   \n",
       "1f9bcabc9d3173c1fe769899e4fac14b053037b953a1e4b...                 NaN   \n",
       "\n",
       "                                                   qt_funcionarios  \\\n",
       "id                                                                   \n",
       "a6984c3ae395090e3bee8ad63c3758b110de096d5d81958...            26.0   \n",
       "6178f41ade1365e44bc2c46654c2c8c0eaae27dcb476c47...             NaN   \n",
       "4a7e5069a397f12fdd7fd57111d6dc5d3ba558958efc02e...             NaN   \n",
       "3348900fe63216a439d2e5238c79ddd46ede454df7b9d8c...             NaN   \n",
       "1f9bcabc9d3173c1fe769899e4fac14b053037b953a1e4b...             NaN   \n",
       "\n",
       "                                                    qt_funcionarios_12meses  \\\n",
       "id                                                                            \n",
       "a6984c3ae395090e3bee8ad63c3758b110de096d5d81958...                     26.0   \n",
       "6178f41ade1365e44bc2c46654c2c8c0eaae27dcb476c47...                      NaN   \n",
       "4a7e5069a397f12fdd7fd57111d6dc5d3ba558958efc02e...                      NaN   \n",
       "3348900fe63216a439d2e5238c79ddd46ede454df7b9d8c...                      NaN   \n",
       "1f9bcabc9d3173c1fe769899e4fac14b053037b953a1e4b...                      NaN   \n",
       "\n",
       "                                                    qt_funcionarios_24meses  \\\n",
       "id                                                                            \n",
       "a6984c3ae395090e3bee8ad63c3758b110de096d5d81958...                     27.0   \n",
       "6178f41ade1365e44bc2c46654c2c8c0eaae27dcb476c47...                      NaN   \n",
       "4a7e5069a397f12fdd7fd57111d6dc5d3ba558958efc02e...                      NaN   \n",
       "3348900fe63216a439d2e5238c79ddd46ede454df7b9d8c...                      NaN   \n",
       "1f9bcabc9d3173c1fe769899e4fac14b053037b953a1e4b...                      NaN   \n",
       "\n",
       "                                                    tx_crescimento_12meses  \\\n",
       "id                                                                           \n",
       "a6984c3ae395090e3bee8ad63c3758b110de096d5d81958...                     0.0   \n",
       "6178f41ade1365e44bc2c46654c2c8c0eaae27dcb476c47...                     NaN   \n",
       "4a7e5069a397f12fdd7fd57111d6dc5d3ba558958efc02e...                     NaN   \n",
       "3348900fe63216a439d2e5238c79ddd46ede454df7b9d8c...                     NaN   \n",
       "1f9bcabc9d3173c1fe769899e4fac14b053037b953a1e4b...                     NaN   \n",
       "\n",
       "                                                   tx_crescimento_24meses  \\\n",
       "id                                                                          \n",
       "a6984c3ae395090e3bee8ad63c3758b110de096d5d81958...              -3.703704   \n",
       "6178f41ade1365e44bc2c46654c2c8c0eaae27dcb476c47...                    NaN   \n",
       "4a7e5069a397f12fdd7fd57111d6dc5d3ba558958efc02e...                    NaN   \n",
       "3348900fe63216a439d2e5238c79ddd46ede454df7b9d8c...                    NaN   \n",
       "1f9bcabc9d3173c1fe769899e4fac14b053037b953a1e4b...                    NaN   \n",
       "\n",
       "                                                   tx_rotatividade qt_filiais  \n",
       "id                                                                             \n",
       "a6984c3ae395090e3bee8ad63c3758b110de096d5d81958...             0.0          0  \n",
       "6178f41ade1365e44bc2c46654c2c8c0eaae27dcb476c47...             NaN          0  \n",
       "4a7e5069a397f12fdd7fd57111d6dc5d3ba558958efc02e...             NaN          0  \n",
       "3348900fe63216a439d2e5238c79ddd46ede454df7b9d8c...             NaN          0  \n",
       "1f9bcabc9d3173c1fe769899e4fac14b053037b953a1e4b...             NaN          0  \n",
       "\n",
       "[5 rows x 180 columns]"
      ]
     },
     "execution_count": 4,
     "metadata": {},
     "output_type": "execute_result"
    }
   ],
   "source": [
    "#Showing the main df\n",
    "market = raw_market.copy().drop(columns = 'Unnamed: 0')\n",
    "market.head()"
   ]
  },
  {
   "cell_type": "code",
   "execution_count": 5,
   "metadata": {
    "colab": {},
    "colab_type": "code",
    "id": "ekqzH4ivYbR-"
   },
   "outputs": [],
   "source": [
    "#Reading portfolios\n",
    "raw_portfolio1 = pd.read_csv('data/estaticos_portfolio1.csv', index_col='id').drop(columns = 'Unnamed: 0')\n",
    "raw_portfolio2 = pd.read_csv('data/estaticos_portfolio2.csv', index_col='id').drop(columns = 'Unnamed: 0')\n",
    "raw_portfolio3 = pd.read_csv('data/estaticos_portfolio3.csv', index_col='id').drop(columns = 'Unnamed: 0')"
   ]
  },
  {
   "cell_type": "markdown",
   "metadata": {
    "colab_type": "text",
    "id": "ENi6fZc-Yfxe"
   },
   "source": [
    "# Exploratory Data Analysis and Data Muning"
   ]
  },
  {
   "cell_type": "markdown",
   "metadata": {
    "colab_type": "text",
    "id": "VcW3R8kbYiU2"
   },
   "source": [
    "### Usefull functions"
   ]
  },
  {
   "cell_type": "code",
   "execution_count": 6,
   "metadata": {
    "colab": {},
    "colab_type": "code",
    "id": "AQIK-h8DYd5L"
   },
   "outputs": [],
   "source": [
    "def drop_col(df, col):\n",
    "  try:\n",
    "    df.drop(columns = col, inplace=True)\n",
    "  except:\n",
    "    print(f'The column {col} does not exist or has lready been removed.')"
   ]
  },
  {
   "cell_type": "code",
   "execution_count": 7,
   "metadata": {
    "colab": {},
    "colab_type": "code",
    "id": "W9xX7vgeYyxC"
   },
   "outputs": [],
   "source": [
    "def encode(df):\n",
    "  categorical_columns = df.select_dtypes(exclude=['int64', 'float64']).columns.tolist()\n",
    "  numerical_columns = df.select_dtypes(include=['int64', 'float64']).columns.tolist()\n",
    "\n",
    "  df_processed = pd.get_dummies(data=df, columns=categorical_columns)\n",
    "\n",
    "  scaler = MinMaxScaler()\n",
    "  scaled_data = scaler.fit_transform(df[numerical_columns])\n",
    "  df_processed[numerical_columns] = scaled_data\n",
    "\n",
    "  return df_processed"
   ]
  },
  {
   "cell_type": "markdown",
   "metadata": {
    "colab_type": "text",
    "id": "gD5OzLoZY19v"
   },
   "source": [
    "### Feature selection"
   ]
  },
  {
   "cell_type": "markdown",
   "metadata": {
    "colab_type": "text",
    "id": "5G7kvVS5ASWe"
   },
   "source": [
    "**In this section, we will analyse the behavior of the features and select wich are usefull to the model.**\n",
    "\n",
    "---\n",
    "\n"
   ]
  },
  {
   "cell_type": "markdown",
   "metadata": {
    "colab_type": "text",
    "id": "37LfKzx0NJd-"
   },
   "source": [
    "First of all, we must analyse the distribution of missing values of the main dataset."
   ]
  },
  {
   "cell_type": "code",
   "execution_count": 9,
   "metadata": {
    "colab": {
     "base_uri": "https://localhost:8080/",
     "height": 334
    },
    "colab_type": "code",
    "id": "pc4sn-iDY0Xe",
    "outputId": "940de0c3-01c4-484e-8d0c-51edfc0e5920"
   },
   "outputs": [
    {
     "data": {
      "image/png": "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\n",
      "text/plain": [
       "<Figure size 1080x360 with 1 Axes>"
      ]
     },
     "metadata": {
      "needs_background": "light"
     },
     "output_type": "display_data"
    }
   ],
   "source": [
    "fig, ax = plt.subplots(figsize=(15, 5))\n",
    "sns.lineplot(x=range(0, market.shape[1]), y=market.isnull().mean())\n",
    "ax.set(xlabel=' Column number', ylabel='Missing values (%)')\n",
    "plt.show()"
   ]
  },
  {
   "cell_type": "markdown",
   "metadata": {
    "colab_type": "text",
    "id": "6oYDGqxAmcEU"
   },
   "source": [
    "As we can see, several columns have most of their values as missing. Therefore, let's remove them, taking the 67% threshold as the minimum of non-missing data in a given variable."
   ]
  },
  {
   "cell_type": "code",
   "execution_count": 10,
   "metadata": {
    "colab": {},
    "colab_type": "code",
    "id": "BvnQDXal88Q3"
   },
   "outputs": [],
   "source": [
    "threshold = 0.70\n",
    "market =  market.loc[:, market.notnull().mean() > threshold]"
   ]
  },
  {
   "cell_type": "markdown",
   "metadata": {
    "colab_type": "text",
    "id": "WEzOvQ4smkob"
   },
   "source": [
    "---\n",
    "The recommendation we seek is independent of whether it is a parent company or not. Thus, the ```fl_matriz``` column  does not have relevance to our model, let's drop it.\n"
   ]
  },
  {
   "cell_type": "code",
   "execution_count": 11,
   "metadata": {
    "colab": {},
    "colab_type": "code",
    "id": "_idXX_I6AfB9"
   },
   "outputs": [],
   "source": [
    "drop_col(market, 'fl_matriz')"
   ]
  },
  {
   "cell_type": "markdown",
   "metadata": {
    "colab_type": "text",
    "id": "TDMtxjoJm04L"
   },
   "source": [
    "----\n",
    "Now we are going to take a look at ```natureza_juridica_macro``` and ```de_natureza_juridica```."
   ]
  },
  {
   "cell_type": "code",
   "execution_count": 12,
   "metadata": {
    "colab": {
     "base_uri": "https://localhost:8080/",
     "height": 153
    },
    "colab_type": "code",
    "id": "8mKC1eS7lPFV",
    "outputId": "a1f94021-01c6-4dcd-c0e4-72267813a2e6"
   },
   "outputs": [
    {
     "name": "stdout",
     "output_type": "stream",
     "text": [
      "OUTROS                            320211\n",
      "ENTIDADES EMPRESARIAIS             99241\n",
      "ENTIDADES SEM FINS LUCRATIVOS      37089\n",
      "ADMINISTRACAO PUBLICA               2912\n",
      "CARGO POLITICO                      1617\n",
      "PESSOAS FISICAS                     1225\n",
      "INSTITUICOES EXTRATERRITORIAIS         3\n",
      "Name: natureza_juridica_macro, dtype: int64\n"
     ]
    }
   ],
   "source": [
    "print(market['natureza_juridica_macro'].value_counts())"
   ]
  },
  {
   "cell_type": "code",
   "execution_count": 13,
   "metadata": {
    "colab": {
     "base_uri": "https://localhost:8080/",
     "height": 221
    },
    "colab_type": "code",
    "id": "zHAtFfFt6GyR",
    "outputId": "b64ef16e-e154-4c4b-bd19-5e212924a576"
   },
   "outputs": [
    {
     "name": "stdout",
     "output_type": "stream",
     "text": [
      "EMPRESARIO INDIVIDUAL                                                     295756\n",
      "SOCIEDADE EMPRESARIA LIMITADA                                              91231\n",
      "ASSOCIACAO PRIVADA                                                         29694\n",
      "EMPRESA INDIVIDUAL DE RESPONSABILIDADE LIMITADA DE NATUREZA EMPRESARIA     15183\n",
      "ORGAO DE DIRECAO LOCAL DE PARTIDO POLITICO                                  7301\n",
      "                                                                           ...  \n",
      "FUNDO PRIVADO                                                                  1\n",
      "SOCIEDADE SIMPLES EM NOME COLETIVO                                             1\n",
      "ORGAO DE DIRECAO NACIONAL DE PARTIDO POLITICO                                  1\n",
      "CONSORCIO DE EMPREGADORES                                                      1\n",
      "CONSORCIO PUBLICO DE DIREITO PRIVADO                                           1\n",
      "Name: de_natureza_juridica, Length: 67, dtype: int64\n"
     ]
    }
   ],
   "source": [
    "print(market['de_natureza_juridica'].value_counts())"
   ]
  },
  {
   "cell_type": "markdown",
   "metadata": {
    "colab_type": "text",
    "id": "4A94uzO95wp2"
   },
   "source": [
    "It is noticeable that ```de_natureza_juridica``` describe the same as ```natureza_juridica_macro```, but in more detail. That said, in order to become more general, we can drop the specificist column."
   ]
  },
  {
   "cell_type": "code",
   "execution_count": 14,
   "metadata": {
    "colab": {},
    "colab_type": "code",
    "id": "hNZSZBV15u43"
   },
   "outputs": [],
   "source": [
    "drop_col(market, 'de_natureza_juridica')"
   ]
  },
  {
   "cell_type": "markdown",
   "metadata": {
    "colab_type": "text",
    "id": "oGS4znshm_le"
   },
   "source": [
    "---\n",
    "Let's inspect now ```setor```, ```nm_divisao```, ```nm_segmento``` and ```de_ramo```."
   ]
  },
  {
   "cell_type": "code",
   "execution_count": 15,
   "metadata": {
    "colab": {
     "base_uri": "https://localhost:8080/",
     "height": 119
    },
    "colab_type": "code",
    "id": "CbBsndupl-gC",
    "outputId": "5b2f4649-b696-4ce2-c22e-c75fd13128ad"
   },
   "outputs": [
    {
     "name": "stdout",
     "output_type": "stream",
     "text": [
      "COMERCIO            211224\n",
      "SERVIÇO             189644\n",
      "INDUSTRIA            30893\n",
      "CONSTRUÇÃO CIVIL     25363\n",
      "AGROPECUARIA          3247\n",
      "Name: setor, dtype: int64\n"
     ]
    }
   ],
   "source": [
    "print(market['setor'].value_counts())"
   ]
  },
  {
   "cell_type": "code",
   "execution_count": 16,
   "metadata": {
    "colab": {
     "base_uri": "https://localhost:8080/",
     "height": 595
    },
    "colab_type": "code",
    "id": "pD7_w9ru88qy",
    "outputId": "f47ffb4b-962c-442b-cab8-dff343bbb3e2"
   },
   "outputs": [
    {
     "name": "stdout",
     "output_type": "stream",
     "text": [
      "COMERCIO VAREJISTA                                   172404\n",
      "SERVICOS DIVERSOS                                     60318\n",
      "SERVICOS DE ALOJAMENTO/ALIMENTACAO                    30180\n",
      "INDUSTRIA DA CONSTRUCAO                               25363\n",
      "COMERCIO E REPARACAO DE VEICULOS                      22356\n",
      "SERVICOS ADMINISTRATIVOS                              21326\n",
      "BENS DE CONSUMO                                       21227\n",
      "SERVICOS PROFISSIONAIS, TECNICOS E CIENTIFICOS        17371\n",
      "COMERCIO POR ATACADO                                  16464\n",
      "TRANSPORTE, ARMAZENAGEM E CORREIO                     15485\n",
      "SERVICOS DE EDUCACAO                                  11311\n",
      "SERVICOS DE SAUDE                                      9788\n",
      "CULTURA, ESPORTE E RECREACAO                           5503\n",
      "SIDERURGICA-METALURGIA                                 3700\n",
      "TELECOM                                                3626\n",
      "PRODUTOS DE AGROPECUARIA                               3247\n",
      "QUIMICA-PETROQUIMICA                                   3131\n",
      "ADMINISTRACAO PUBLICA, DEFESA E SEGURIDADE SOCIAL      2754\n",
      "ATIVIDADES IMOBILIARIAS                                2670\n",
      "PAPEL E CELULOSE                                       2179\n",
      "OUTROS                                                 1927\n",
      "INDUSTRIA DIGITAL                                      1849\n",
      "SEGUROS, PLANOS DE PREVIDENCIA E PLANOS DE SAUDE       1770\n",
      "SERVICOS FINANCEIROS                                   1517\n",
      "SERVICOS DE SANEAMENTO BASICO                          1238\n",
      "TEXTEIS                                                1048\n",
      "INDUSTRIAS EXTRATIVAS                                   896\n",
      "ELETRICIDADE E GAS                                      607\n",
      "INDUSTRIA AUTOMOTIVA                                    410\n",
      "SERVICOS SOCIAIS                                        351\n",
      "ELETROELETRONICOS                                       251\n",
      "FARMACEUTICA                                             22\n",
      "ORGANISMOS INTERNACIONAIS                                 9\n",
      "Name: de_ramo, dtype: int64\n"
     ]
    }
   ],
   "source": [
    "print(market['de_ramo'].value_counts())"
   ]
  },
  {
   "cell_type": "code",
   "execution_count": 17,
   "metadata": {
    "colab": {
     "base_uri": "https://localhost:8080/",
     "height": 221
    },
    "colab_type": "code",
    "id": "SAOBRlTAa32M",
    "outputId": "4e5c6490-bbb6-46c5-8328-10423e529758"
   },
   "outputs": [
    {
     "name": "stdout",
     "output_type": "stream",
     "text": [
      "COMERCIO VAREJISTA                                                   172404\n",
      "ATIVIDADES DE ORGANIZACOES ASSOCIATIVAS                               37984\n",
      "ALIMENTACAO                                                           27540\n",
      "COMERCIO E REPARACAO DE VEICULOS AUTOMOTORES E MOTOCICLETAS           22356\n",
      "COMERCIO POR ATACADO EXCETO VEICULOS AUTOMOTORES E MOTOCICLETAS       16464\n",
      "                                                                      ...  \n",
      "FABRICACAO DE PRODUTOS FARMOQUIMICOS E FARMACEUTICOS                     22\n",
      "DESCONTAMINACAO E OUTROS SERVICOS DE GESTAO DE RESIDUOS                  12\n",
      "ORGANISMOS INTERNACIONAIS E OUTRAS INSTITUICOES EXTRATERRITORIAIS         9\n",
      "FABRICACAO DE PRODUTOS DO FUMO                                            2\n",
      "EXTRACAO DE CARVAO MINERAL                                                1\n",
      "Name: nm_divisao, Length: 87, dtype: int64\n"
     ]
    }
   ],
   "source": [
    "print(market['nm_divisao'].value_counts())"
   ]
  },
  {
   "cell_type": "code",
   "execution_count": 18,
   "metadata": {
    "colab": {
     "base_uri": "https://localhost:8080/",
     "height": 391
    },
    "colab_type": "code",
    "id": "P6wRacc0a5gz",
    "outputId": "9d419313-ccfa-4ab8-ccd5-0a855a90e605"
   },
   "outputs": [
    {
     "name": "stdout",
     "output_type": "stream",
     "text": [
      "COMERCIO; REPARACAO DE VEICULOS AUTOMOTORES E MOTOCICLETAS           211224\n",
      "OUTRAS ATIVIDADES DE SERVICOS                                         59561\n",
      "INDUSTRIAS DE TRANSFORMACAO                                           31968\n",
      "ALOJAMENTO E ALIMENTACAO                                              30180\n",
      "CONSTRUCAO                                                            25363\n",
      "ATIVIDADES ADMINISTRATIVAS E SERVICOS COMPLEMENTARES                  21326\n",
      "ATIVIDADES PROFISSIONAIS CIENTIFICAS E TECNICAS                       17371\n",
      "TRANSPORTE ARMAZENAGEM E CORREIO                                      15485\n",
      "EDUCACAO                                                              11311\n",
      "SAUDE HUMANA E SERVICOS SOCIAIS                                       10139\n",
      "ARTES CULTURA ESPORTE E RECREACAO                                      5503\n",
      "INFORMACAO E COMUNICACAO                                               5475\n",
      "ATIVIDADES FINANCEIRAS DE SEGUROS E SERVICOS RELACIONADOS              3287\n",
      "AGRICULTURA PECUARIA PRODUCAO FLORESTAL PESCA E AQUICULTURA            3247\n",
      "ADMINISTRACAO PUBLICA DEFESA E SEGURIDADE SOCIAL                       2754\n",
      "ATIVIDADES IMOBILIARIAS                                                2670\n",
      "AGUA ESGOTO ATIVIDADES DE GESTAO DE RESIDUOS E DESCONTAMINACAO         1238\n",
      "INDUSTRIAS EXTRATIVAS                                                   896\n",
      "SERVICOS DOMESTICOS                                                     757\n",
      "ELETRICIDADE E GAS                                                      607\n",
      "ORGANISMOS INTERNACIONAIS E OUTRAS INSTITUICOES EXTRATERRITORIAIS         9\n",
      "Name: nm_segmento, dtype: int64\n"
     ]
    }
   ],
   "source": [
    "print(market['nm_segmento'].value_counts())"
   ]
  },
  {
   "cell_type": "markdown",
   "metadata": {
    "colab_type": "text",
    "id": "Xwql5CKq9AMa"
   },
   "source": [
    "As before, here we have some variables that differ in the degree of specificity. We will remain with a intermediate one, ```nm_segmento``` sounds a good choice."
   ]
  },
  {
   "cell_type": "code",
   "execution_count": 19,
   "metadata": {
    "colab": {},
    "colab_type": "code",
    "id": "1arjl44T9mbE"
   },
   "outputs": [],
   "source": [
    "drop_col(market, 'setor')\n",
    "drop_col(market, 'de_ramo')\n",
    "drop_col(market, 'nm_divisao')"
   ]
  },
  {
   "cell_type": "markdown",
   "metadata": {
    "colab_type": "text",
    "id": "ufh3-oAins3L"
   },
   "source": [
    "---\n",
    "The next ones to be analysed is ```idade_empresa_anos``` and ```idade_emp_cat```."
   ]
  },
  {
   "cell_type": "code",
   "execution_count": 20,
   "metadata": {
    "colab": {
     "base_uri": "https://localhost:8080/",
     "height": 297
    },
    "colab_type": "code",
    "id": "TF095xO8nVRx",
    "outputId": "0c160d82-0fc8-4bc1-adfe-ea515812cff0"
   },
   "outputs": [
    {
     "data": {
      "text/plain": [
       "<matplotlib.axes._subplots.AxesSubplot at 0x22c80395488>"
      ]
     },
     "execution_count": 20,
     "metadata": {},
     "output_type": "execute_result"
    },
    {
     "data": {
      "image/png": "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\n",
      "text/plain": [
       "<Figure size 432x288 with 1 Axes>"
      ]
     },
     "metadata": {
      "needs_background": "light"
     },
     "output_type": "display_data"
    }
   ],
   "source": [
    "fig, axes = plt.subplots()\n",
    "sns.distplot(market['idade_empresa_anos'])"
   ]
  },
  {
   "cell_type": "code",
   "execution_count": 21,
   "metadata": {
    "colab": {
     "base_uri": "https://localhost:8080/",
     "height": 297
    },
    "colab_type": "code",
    "id": "NWGWp63CngIK",
    "outputId": "55004482-3877-4b18-b0f0-3cda6848bb86"
   },
   "outputs": [
    {
     "data": {
      "text/plain": [
       "<matplotlib.axes._subplots.AxesSubplot at 0x22c80154d88>"
      ]
     },
     "execution_count": 21,
     "metadata": {},
     "output_type": "execute_result"
    },
    {
     "data": {
      "image/png": "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\n",
      "text/plain": [
       "<Figure size 432x288 with 1 Axes>"
      ]
     },
     "metadata": {
      "needs_background": "light"
     },
     "output_type": "display_data"
    }
   ],
   "source": [
    "sns.countplot(market['idade_emp_cat'], order=['<= 1','1 a 5', '5 a 10', '10 a 15', '15 a 20', '> 20'])"
   ]
  },
  {
   "cell_type": "markdown",
   "metadata": {
    "colab_type": "text",
    "id": "Cav-Mjup_jIM"
   },
   "source": [
    "To avoid a increase the dimensionality of our data, let's choose ```idade_empresas_anos``` to work with."
   ]
  },
  {
   "cell_type": "code",
   "execution_count": 22,
   "metadata": {
    "colab": {},
    "colab_type": "code",
    "id": "R7r8TXpoAuco"
   },
   "outputs": [],
   "source": [
    "drop_col(market, 'idade_emp_cat')"
   ]
  },
  {
   "cell_type": "markdown",
   "metadata": {
    "colab_type": "text",
    "id": "bIj7rXEdpAwM"
   },
   "source": [
    "---\n",
    "The following variables tell us, primarily about the name of the companies and, in a second level, about the size of it. Although the second information may be relevant, there are other variables in the dataset that are better for this purpose."
   ]
  },
  {
   "cell_type": "code",
   "execution_count": 23,
   "metadata": {
    "colab": {},
    "colab_type": "code",
    "id": "1QpBjhaRodzo"
   },
   "outputs": [],
   "source": [
    "drop_col(market, 'fl_me')\n",
    "drop_col(market, 'fl_sa')\n",
    "drop_col(market, 'fl_epp')\n",
    "drop_col(market, 'fl_mei')\n",
    "drop_col(market, 'fl_ltda')"
   ]
  },
  {
   "cell_type": "markdown",
   "metadata": {
    "colab_type": "text",
    "id": "0tFD_eVgZru9"
   },
   "source": [
    "----\n",
    "To our purpose, information about a possible extraordinary situation is identified by the IRS is not relevant. Thus, we will drop ```dt_situacao``` and ```fl_st_especial```."
   ]
  },
  {
   "cell_type": "code",
   "execution_count": 24,
   "metadata": {
    "colab": {},
    "colab_type": "code",
    "id": "Nb3rh756ZnWu"
   },
   "outputs": [],
   "source": [
    "drop_col(market, 'dt_situacao')\n",
    "drop_col(market, 'fl_st_especial')"
   ]
  },
  {
   "cell_type": "markdown",
   "metadata": {
    "colab_type": "text",
    "id": "tVSauyr1ecvT"
   },
   "source": [
    "The next one is about if the companies performs any activity that is taxable under ISS and, also, is not relevant. "
   ]
  },
  {
   "cell_type": "code",
   "execution_count": 25,
   "metadata": {
    "colab": {},
    "colab_type": "code",
    "id": "iRl31-9JedC5"
   },
   "outputs": [],
   "source": [
    "drop_col(market, 'fl_passivel_iss')"
   ]
  },
  {
   "cell_type": "markdown",
   "metadata": {
    "colab_type": "text",
    "id": "lDbHSXgkapva"
   },
   "source": [
    "\n",
    "In addition, ```fl_email``` and ```fl__telefone``` are not relevant because they just tell us about if there is a email or phone number registred in IRS database."
   ]
  },
  {
   "cell_type": "code",
   "execution_count": 26,
   "metadata": {
    "colab": {},
    "colab_type": "code",
    "id": "qVKeaEt3afIb"
   },
   "outputs": [],
   "source": [
    "drop_col(market, 'fl_email')\n",
    "drop_col(market, 'fl_telefone')"
   ]
  },
  {
   "cell_type": "markdown",
   "metadata": {
    "colab_type": "text",
    "id": "yE0SHVD1Bc42"
   },
   "source": [
    "---\n",
    "Now, let's take a look at ```fl_spa```, ```fl_ant```, ```fl_veiculo```, ```vl_total_veiculos_leves_grupo``` and ```vl_total_veiculos_pesados_grupo```."
   ]
  },
  {
   "cell_type": "code",
   "execution_count": 27,
   "metadata": {
    "colab": {
     "base_uri": "https://localhost:8080/",
     "height": 68
    },
    "colab_type": "code",
    "id": "0t9FthowcTjj",
    "outputId": "922ee738-5f34-4195-b76b-0a3b96b06bdf"
   },
   "outputs": [
    {
     "name": "stdout",
     "output_type": "stream",
     "text": [
      "False    460091\n",
      "True        280\n",
      "Name: fl_spa, dtype: int64\n"
     ]
    }
   ],
   "source": [
    "print(market['fl_spa'].value_counts())"
   ]
  },
  {
   "cell_type": "code",
   "execution_count": 28,
   "metadata": {
    "colab": {
     "base_uri": "https://localhost:8080/",
     "height": 68
    },
    "colab_type": "code",
    "id": "w1P71AB7cUaZ",
    "outputId": "8d409d29-3bad-4aad-fcee-4d6665b7af36"
   },
   "outputs": [
    {
     "name": "stdout",
     "output_type": "stream",
     "text": [
      "False    457095\n",
      "True       3276\n",
      "Name: fl_antt, dtype: int64\n"
     ]
    }
   ],
   "source": [
    "print(market['fl_antt'].value_counts())"
   ]
  },
  {
   "cell_type": "code",
   "execution_count": 29,
   "metadata": {
    "colab": {
     "base_uri": "https://localhost:8080/",
     "height": 68
    },
    "colab_type": "code",
    "id": "l-yb1a8IcVKR",
    "outputId": "24f4135e-eef1-4fe4-c225-585fb8f495e1"
   },
   "outputs": [
    {
     "name": "stdout",
     "output_type": "stream",
     "text": [
      "False    429687\n",
      "True      30684\n",
      "Name: fl_veiculo, dtype: int64\n"
     ]
    }
   ],
   "source": [
    "print(market['fl_veiculo'].value_counts())"
   ]
  },
  {
   "cell_type": "code",
   "execution_count": 30,
   "metadata": {
    "colab": {
     "base_uri": "https://localhost:8080/",
     "height": 221
    },
    "colab_type": "code",
    "id": "-DHNqI47d4nR",
    "outputId": "d5da8ee2-11a9-4842-a0e7-07331ec92a00"
   },
   "outputs": [
    {
     "name": "stdout",
     "output_type": "stream",
     "text": [
      "0.0       424180\n",
      "1.0        15738\n",
      "2.0         5232\n",
      "3.0         2610\n",
      "4.0         1569\n",
      "           ...  \n",
      "601.0          1\n",
      "353.0          1\n",
      "9713.0         1\n",
      "229.0          1\n",
      "218.0          1\n",
      "Name: vl_total_veiculos_leves_grupo, Length: 310, dtype: int64\n"
     ]
    }
   ],
   "source": [
    "print(market['vl_total_veiculos_leves_grupo'].value_counts())"
   ]
  },
  {
   "cell_type": "code",
   "execution_count": 31,
   "metadata": {
    "colab": {
     "base_uri": "https://localhost:8080/",
     "height": 221
    },
    "colab_type": "code",
    "id": "7cKP9Uvxd6KP",
    "outputId": "75ca45d9-97c9-44c7-84fe-85d22e445de8"
   },
   "outputs": [
    {
     "name": "stdout",
     "output_type": "stream",
     "text": [
      "0.0       441360\n",
      "1.0         6785\n",
      "2.0         2585\n",
      "3.0         1301\n",
      "4.0          827\n",
      "           ...  \n",
      "136.0          1\n",
      "681.0          1\n",
      "341.0          1\n",
      "191.0          1\n",
      "1495.0         1\n",
      "Name: vl_total_veiculos_pesados_grupo, Length: 296, dtype: int64\n"
     ]
    }
   ],
   "source": [
    "print(market['vl_total_veiculos_pesados_grupo'].value_counts())"
   ]
  },
  {
   "cell_type": "markdown",
   "metadata": {
    "colab_type": "text",
    "id": "9yLc777LcusC"
   },
   "source": [
    "We will drop all five variables because they have at least 90% of the distribution as a single value."
   ]
  },
  {
   "cell_type": "code",
   "execution_count": 32,
   "metadata": {
    "colab": {},
    "colab_type": "code",
    "id": "eFb95DTuBe5E"
   },
   "outputs": [],
   "source": [
    "drop_col(market, 'fl_spa')\n",
    "drop_col(market, 'fl_antt')\n",
    "drop_col(market, 'fl_veiculo')\n",
    "drop_col(market, 'vl_total_veiculos_leves_grupo')\n",
    "drop_col(market, 'vl_total_veiculos_pesados_grupo')"
   ]
  },
  {
   "cell_type": "markdown",
   "metadata": {
    "colab_type": "text",
    "id": "e_0vGnBKB-Xp"
   },
   "source": [
    "----\n",
    "The following variables deal with the company's financial health and the date of the last update of this item.For our purpose, they are disposable.\n"
   ]
  },
  {
   "cell_type": "code",
   "execution_count": 33,
   "metadata": {
    "colab": {},
    "colab_type": "code",
    "id": "pXTL5AmrBWQb"
   },
   "outputs": [],
   "source": [
    "drop_col(market, 'de_saude_tributaria')\n",
    "drop_col(market, 'de_saude_rescencia')\n",
    "drop_col(market, 'nu_meses_rescencia')"
   ]
  },
  {
   "cell_type": "markdown",
   "metadata": {
    "colab_type": "text",
    "id": "9ljHo0TWG7_f"
   },
   "source": [
    "---\n",
    "Let's take a look at ```nm_meso_regiao``` ,```nm_micro_regiao``` and ```sg_uf```."
   ]
  },
  {
   "cell_type": "code",
   "execution_count": 34,
   "metadata": {
    "colab": {
     "base_uri": "https://localhost:8080/",
     "height": 357
    },
    "colab_type": "code",
    "id": "NVBqdvSIct_K",
    "outputId": "9cd4c119-ba52-42a3-d28c-15af2a8655d5"
   },
   "outputs": [
    {
     "name": "stdout",
     "output_type": "stream",
     "text": [
      "CENTRO AMAZONENSE         71469\n",
      "NORTE MARANHENSE          61331\n",
      "LESTE POTIGUAR            58762\n",
      "CENTRO NORTE PIAUIENSE    42244\n",
      "OESTE MARANHENSE          26796\n",
      "OESTE POTIGUAR            20860\n",
      "LESTE MARANHENSE          17651\n",
      "VALE DO ACRE              16539\n",
      "CENTRO MARANHENSE         13755\n",
      "SUDOESTE PIAUIENSE        12180\n",
      "NORTE PIAUIENSE           11919\n",
      "CENTRAL POTIGUAR          10681\n",
      "SUDESTE PIAUIENSE         10049\n",
      "AGRESTE POTIGUAR           7845\n",
      "SUL MARANHENSE             7382\n",
      "SUL AMAZONENSE             4931\n",
      "VALE DO JURUA              3900\n",
      "SUDOESTE AMAZONENSE        3738\n",
      "NORTE AMAZONENSE           1568\n",
      "Name: nm_meso_regiao, dtype: int64\n"
     ]
    }
   ],
   "source": [
    "print(market['nm_meso_regiao'].value_counts())"
   ]
  },
  {
   "cell_type": "code",
   "execution_count": 35,
   "metadata": {
    "colab": {
     "base_uri": "https://localhost:8080/",
     "height": 221
    },
    "colab_type": "code",
    "id": "S-aRReH-csPE",
    "outputId": "37095adf-0601-4272-fff4-58f0386a1faa"
   },
   "outputs": [
    {
     "name": "stdout",
     "output_type": "stream",
     "text": [
      "MANAUS                            60008\n",
      "NATAL                             46745\n",
      "AGLOMERACAO URBANA DE SAO LUIS    45875\n",
      "TERESINA                          33887\n",
      "IMPERATRIZ                        15912\n",
      "                                  ...  \n",
      "BERTOLINIA                          854\n",
      "PIO IX                              823\n",
      "PURUS                               757\n",
      "MEDIO OESTE                         562\n",
      "JAPURA                              190\n",
      "Name: nm_micro_regiao, Length: 73, dtype: int64\n"
     ]
    }
   ],
   "source": [
    "print(market['nm_micro_regiao'].value_counts())"
   ]
  },
  {
   "cell_type": "code",
   "execution_count": 36,
   "metadata": {
    "colab": {
     "base_uri": "https://localhost:8080/",
     "height": 136
    },
    "colab_type": "code",
    "id": "GT-IdERScvVr",
    "outputId": "a75324a9-32be-4480-defa-139017e8441b"
   },
   "outputs": [
    {
     "name": "stdout",
     "output_type": "stream",
     "text": [
      "MA    127654\n",
      "RN     98837\n",
      "AM     82114\n",
      "PI     76686\n",
      "RO     56469\n",
      "AC     20538\n",
      "Name: sg_uf, dtype: int64\n"
     ]
    }
   ],
   "source": [
    "print(market['sg_uf'].value_counts())"
   ]
  },
  {
   "cell_type": "markdown",
   "metadata": {
    "colab_type": "text",
    "id": "PnpDdP3CczHD"
   },
   "source": [
    "As has already happened, here we have the case of variables that deal strictly with the same issue (location), but with different degrees of specificity. Let's stay with the most generalist, which is the ```sg_uf```."
   ]
  },
  {
   "cell_type": "code",
   "execution_count": 37,
   "metadata": {
    "colab": {},
    "colab_type": "code",
    "id": "KqTL_Yg6cznL"
   },
   "outputs": [],
   "source": [
    "drop_col(market, 'nm_meso_regiao')\n",
    "drop_col(market, 'nm_micro_regiao')"
   ]
  },
  {
   "cell_type": "markdown",
   "metadata": {
    "colab_type": "text",
    "id": "M7tcR_q-Hp5F"
   },
   "source": [
    "---\n",
    "All of the variables below inform us about the company's partners. This kind of data is irrelevant, let's drop these columns."
   ]
  },
  {
   "cell_type": "code",
   "execution_count": 38,
   "metadata": {
    "colab": {},
    "colab_type": "code",
    "id": "bKk8MajIBiuT"
   },
   "outputs": [],
   "source": [
    "drop_col(market, 'qt_socios')\n",
    "drop_col(market, 'qt_socios_pf')\n",
    "drop_col(market, 'qt_socios_pj')"
   ]
  },
  {
   "cell_type": "markdown",
   "metadata": {
    "colab_type": "text",
    "id": "U-ZHjdr0H2L4"
   },
   "source": [
    "---\n",
    "Here we have another group of variables to be analyzed: ```vl_faturamento_estimado_grupo_aux``` and  ```de_faixa_faturamento_estimado_grupo```."
   ]
  },
  {
   "cell_type": "markdown",
   "metadata": {
    "colab_type": "text",
    "id": "LRZvqteYio_2"
   },
   "source": [
    "As we want to recommend leads, data about the group in which a company belongs is not important to us. Let's drop ```vl_faturamento_estimado_grupo_aux```,  ```de_faixa_faturamento_estimado_grupo``` and ```sg_uf_matriz```."
   ]
  },
  {
   "cell_type": "code",
   "execution_count": 39,
   "metadata": {
    "colab": {},
    "colab_type": "code",
    "id": "68SQQGLEinvx"
   },
   "outputs": [],
   "source": [
    "drop_col(market, 'vl_faturamento_estimado_grupo_aux')\n",
    "drop_col(market, 'de_faixa_faturamento_estimado_grupo')\n",
    "drop_col(market, 'sg_uf_matriz')"
   ]
  },
  {
   "cell_type": "markdown",
   "metadata": {
    "colab_type": "text",
    "id": "LM5tKK4gjb4k"
   },
   "source": [
    "---\n",
    "Now, let's see ```vl_faturamento_estimado_aux``` and ```de_faixa_faturamento_estimado```."
   ]
  },
  {
   "cell_type": "code",
   "execution_count": 40,
   "metadata": {
    "colab": {
     "base_uri": "https://localhost:8080/",
     "height": 361
    },
    "colab_type": "code",
    "id": "E_Xx1VuNIBLN",
    "outputId": "b6c173f8-789d-4dbe-c4eb-2cc008ac1c06"
   },
   "outputs": [
    {
     "name": "stderr",
     "output_type": "stream",
     "text": [
      "C:\\Users\\PC114\\Anaconda3\\lib\\site-packages\\statsmodels\\nonparametric\\kde.py:447: RuntimeWarning: invalid value encountered in greater\n",
      "  X = X[np.logical_and(X > clip[0], X < clip[1])] # won't work for two columns.\n",
      "C:\\Users\\PC114\\Anaconda3\\lib\\site-packages\\statsmodels\\nonparametric\\kde.py:447: RuntimeWarning: invalid value encountered in less\n",
      "  X = X[np.logical_and(X > clip[0], X < clip[1])] # won't work for two columns.\n"
     ]
    },
    {
     "data": {
      "text/plain": [
       "<matplotlib.axes._subplots.AxesSubplot at 0x22c801ae088>"
      ]
     },
     "execution_count": 40,
     "metadata": {},
     "output_type": "execute_result"
    },
    {
     "data": {
      "image/png": "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\n",
      "text/plain": [
       "<Figure size 720x360 with 1 Axes>"
      ]
     },
     "metadata": {
      "needs_background": "light"
     },
     "output_type": "display_data"
    }
   ],
   "source": [
    "fig, axes = plt.subplots(figsize=(10, 5))\n",
    "sns.kdeplot(market['vl_faturamento_estimado_aux'], shade=True)"
   ]
  },
  {
   "cell_type": "code",
   "execution_count": 41,
   "metadata": {
    "colab": {
     "base_uri": "https://localhost:8080/",
     "height": 623
    },
    "colab_type": "code",
    "id": "igmmh2zQjTPV",
    "outputId": "38330ab9-5ca0-4229-b4c7-dfbe6f784c96"
   },
   "outputs": [
    {
     "data": {
      "text/plain": [
       "<matplotlib.axes._subplots.AxesSubplot at 0x22c801f8548>"
      ]
     },
     "execution_count": 41,
     "metadata": {},
     "output_type": "execute_result"
    },
    {
     "data": {
      "image/png": "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\n",
      "text/plain": [
       "<Figure size 720x720 with 1 Axes>"
      ]
     },
     "metadata": {
      "needs_background": "light"
     },
     "output_type": "display_data"
    }
   ],
   "source": [
    "fig, axes = plt.subplots(figsize=(10, 10))\n",
    "sns.countplot(y=market['de_faixa_faturamento_estimado'])"
   ]
  },
  {
   "cell_type": "markdown",
   "metadata": {
    "colab_type": "text",
    "id": "E6z8h_bkhuX4"
   },
   "source": [
    "The two variables previously plotted are the same thing, ```de_faixa_faturamento_estimado``` being a categorical version of ```vl_faturamento_estimado_aux```. In order not to increase the dimensionality, we will keep the numeric one."
   ]
  },
  {
   "cell_type": "code",
   "execution_count": 42,
   "metadata": {
    "colab": {},
    "colab_type": "code",
    "id": "1tnbDaDKgANx"
   },
   "outputs": [],
   "source": [
    "drop_col(market, 'de_faixa_faturamento_estimado')"
   ]
  },
  {
   "cell_type": "markdown",
   "metadata": {
    "colab_type": "text",
    "id": "YaWA_VomIbnY"
   },
   "source": [
    "---\n",
    "The ```qt_filiais``` column have a low variance, because approximately\n",
    "90% of companies have 0 subsidiaries."
   ]
  },
  {
   "cell_type": "code",
   "execution_count": 43,
   "metadata": {
    "colab": {
     "base_uri": "https://localhost:8080/",
     "height": 221
    },
    "colab_type": "code",
    "id": "tr08pJsSIWsJ",
    "outputId": "a9850365-a58e-4b20-fd52-62d4edd8079c"
   },
   "outputs": [
    {
     "name": "stdout",
     "output_type": "stream",
     "text": [
      "0      418043\n",
      "1       19561\n",
      "2        5943\n",
      "3        2884\n",
      "4        1772\n",
      "        ...  \n",
      "173         1\n",
      "148         1\n",
      "209         1\n",
      "215         1\n",
      "404         1\n",
      "Name: qt_filiais, Length: 304, dtype: int64\n"
     ]
    }
   ],
   "source": [
    "print(market['qt_filiais'].value_counts())"
   ]
  },
  {
   "cell_type": "markdown",
   "metadata": {
    "colab_type": "text",
    "id": "hCofLJCBmlvW"
   },
   "source": [
    "Thus, let's drop it."
   ]
  },
  {
   "cell_type": "code",
   "execution_count": 44,
   "metadata": {
    "colab": {},
    "colab_type": "code",
    "id": "rnieYwe_UNrW"
   },
   "outputs": [],
   "source": [
    "drop_col(market, 'qt_filiais')"
   ]
  },
  {
   "cell_type": "markdown",
   "metadata": {
    "colab_type": "text",
    "id": "j3ffAaKHphZ0"
   },
   "source": [
    "---\n",
    "The following variables are about the company's tax regime and this information is irrelevant to the problem in question."
   ]
  },
  {
   "cell_type": "code",
   "execution_count": 45,
   "metadata": {
    "colab": {},
    "colab_type": "code",
    "id": "xtr45K4Jpmrd"
   },
   "outputs": [],
   "source": [
    "drop_col(market, 'fl_optante_simei')\n",
    "drop_col(market, 'fl_optante_simples')\n",
    "drop_col(market, 'fl_simples_irregular')"
   ]
  },
  {
   "cell_type": "markdown",
   "metadata": {
    "colab_type": "text",
    "id": "I7DATk49r2Ne"
   },
   "source": [
    "---\n",
    "The probability of company being operating is irrelevant by now, so we can drop```de_nivel_atividade```."
   ]
  },
  {
   "cell_type": "code",
   "execution_count": 46,
   "metadata": {
    "colab": {},
    "colab_type": "code",
    "id": "SRA5QelbsIbN"
   },
   "outputs": [],
   "source": [
    "drop_col(market, 'de_nivel_atividade')"
   ]
  },
  {
   "cell_type": "markdown",
   "metadata": {
    "colab_type": "text",
    "id": "UT_ed_1sHwsw"
   },
   "source": [
    "--- \n",
    "**Overview of selected columns**\n",
    "\n"
   ]
  },
  {
   "cell_type": "code",
   "execution_count": 47,
   "metadata": {
    "colab": {
     "base_uri": "https://localhost:8080/",
     "height": 558
    },
    "colab_type": "code",
    "id": "xgLX5IIRcLvb",
    "outputId": "1458c733-de78-4856-cf1a-207346b005af"
   },
   "outputs": [
    {
     "data": {
      "text/plain": [
       "<matplotlib.axes._subplots.AxesSubplot at 0x22c805593c8>"
      ]
     },
     "execution_count": 47,
     "metadata": {},
     "output_type": "execute_result"
    },
    {
     "data": {
      "image/png": "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\n",
      "text/plain": [
       "<Figure size 1728x720 with 3 Axes>"
      ]
     },
     "metadata": {
      "needs_background": "light"
     },
     "output_type": "display_data"
    }
   ],
   "source": [
    "msno.bar(market)"
   ]
  },
  {
   "cell_type": "markdown",
   "metadata": {
    "colab_type": "text",
    "id": "zK6Z3DJldaGr"
   },
   "source": [
    "We have little missing values, let's check if we can drop them without considerably impact."
   ]
  },
  {
   "cell_type": "code",
   "execution_count": 48,
   "metadata": {
    "colab": {
     "base_uri": "https://localhost:8080/",
     "height": 34
    },
    "colab_type": "code",
    "id": "PE995ElEdOoX",
    "outputId": "9e88c71a-e0aa-4f99-9e2e-13dc1d23a724"
   },
   "outputs": [
    {
     "data": {
      "text/plain": [
       "0.9363224586738425"
      ]
     },
     "execution_count": 48,
     "metadata": {},
     "output_type": "execute_result"
    }
   ],
   "source": [
    "market.dropna(how='any').shape[0]/market.shape[0]"
   ]
  },
  {
   "cell_type": "markdown",
   "metadata": {
    "colab_type": "text",
    "id": "jQDgxcaC804t"
   },
   "source": [
    "Our dataset is a very large dataset and these 7% of observations with a missing value will not be missed."
   ]
  },
  {
   "cell_type": "code",
   "execution_count": 49,
   "metadata": {
    "colab": {},
    "colab_type": "code",
    "id": "ydjAOudw88MO"
   },
   "outputs": [],
   "source": [
    "market = market.dropna(how='any')"
   ]
  },
  {
   "cell_type": "code",
   "execution_count": 50,
   "metadata": {
    "colab": {
     "base_uri": "https://localhost:8080/",
     "height": 556
    },
    "colab_type": "code",
    "id": "t6oODFjid8ye",
    "outputId": "5098a0f6-0fed-45c5-c3da-1835b9189a82"
   },
   "outputs": [
    {
     "data": {
      "text/plain": [
       "<matplotlib.axes._subplots.AxesSubplot at 0x22c802aca48>"
      ]
     },
     "execution_count": 50,
     "metadata": {},
     "output_type": "execute_result"
    },
    {
     "data": {
      "image/png": "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\n",
      "text/plain": [
       "<Figure size 1728x720 with 3 Axes>"
      ]
     },
     "metadata": {
      "needs_background": "light"
     },
     "output_type": "display_data"
    }
   ],
   "source": [
    "msno.bar(market.sample(1000))"
   ]
  },
  {
   "cell_type": "markdown",
   "metadata": {
    "colab_type": "text",
    "id": "qCYyb2qXeAo9"
   },
   "source": [
    "### Enconding"
   ]
  },
  {
   "cell_type": "code",
   "execution_count": 0,
   "metadata": {
    "colab": {},
    "colab_type": "code",
    "id": "-piizZnoe3rN"
   },
   "outputs": [],
   "source": []
  }
 ],
 "metadata": {
  "colab": {
   "collapsed_sections": [],
   "name": "leads-recommender.ipynb",
   "provenance": [],
   "toc_visible": true
  },
  "kernelspec": {
   "display_name": "Python 3",
   "language": "python",
   "name": "python3"
  },
  "language_info": {
   "codemirror_mode": {
    "name": "ipython",
    "version": 3
   },
   "file_extension": ".py",
   "mimetype": "text/x-python",
   "name": "python",
   "nbconvert_exporter": "python",
   "pygments_lexer": "ipython3",
   "version": "3.7.4"
  }
 },
 "nbformat": 4,
 "nbformat_minor": 1
}
=======
  "nbformat": 4,
  "nbformat_minor": 0,
  "metadata": {
    "colab": {
      "name": "leads-recommender.ipynb",
      "provenance": [],
      "collapsed_sections": [],
      "authorship_tag": "ABX9TyOK4xDRWniLOoc/0mcuRHLs",
      "include_colab_link": true
    },
    "kernelspec": {
      "name": "python3",
      "display_name": "Python 3"
    }
  },
  "cells": [
    {
      "cell_type": "markdown",
      "metadata": {
        "id": "view-in-github",
        "colab_type": "text"
      },
      "source": [
        "<a href=\"https://colab.research.google.com/github/w-rfrsh/leads-recommender/blob/master/leads_recommender.ipynb\" target=\"_parent\"><img src=\"https://colab.research.google.com/assets/colab-badge.svg\" alt=\"Open In Colab\"/></a>"
      ]
    },
    {
      "cell_type": "markdown",
      "metadata": {
        "id": "KXTn3DH0X7xC",
        "colab_type": "text"
      },
      "source": [
        "### Understending the problem\n",
        "\n",
        "**Objective**\n",
        "\n",
        "The purpose of this product is to provide an automated service that recommends leads to a user given their current customer list (Portfolio).\n",
        "\n",
        "**Contextualization**\n",
        "\n",
        "Some companies would like to know who are the other companies in a given market (population) that are most likely to become their next customers. That is, your solution must find in the market who are the most adherent leads given the characteristics of the customers present in the user's portfolio.\n",
        "\n",
        "In addition, your solution must be user agnostic. Any user with a list of customers who want to explore this market can extract value from the service.\n",
        "\n",
        "For the challenge, the following bases should be considered:\n",
        "\n",
        "> Market: Base with information about the companies in the market to be  considered. \n",
        "\n",
        "> Portfolio 1: Company customer ids 1\n",
        "\n",
        "> Portfolio 2: Company customer ids 2\n",
        "\n",
        "> Portfolio 3: Company customer ids 3\n",
        "\n",
        "Note: all companies (ids) in the portfolios are contained in the Market (population base).\n",
        "\n",
        "Link to download the Market, Portfolio 1, Portfolio 2 and Portfolio 3 bases respectively:"
      ]
    },
    {
      "cell_type": "markdown",
      "metadata": {
        "id": "4TWN0-rqYADq",
        "colab_type": "text"
      },
      "source": [
        "# General setup"
      ]
    },
    {
      "cell_type": "markdown",
      "metadata": {
        "id": "VQTQZTF3YMTL",
        "colab_type": "text"
      },
      "source": [
        "## Imports"
      ]
    },
    {
      "cell_type": "code",
      "metadata": {
        "id": "nJ1wNm4VX8Hv",
        "colab_type": "code",
        "colab": {
          "base_uri": "https://localhost:8080/",
          "height": 71
        },
        "outputId": "7c39198d-7733-48b0-8961-79ded4a8f226"
      },
      "source": [
        "#Importing\n",
        "import pandas as pd\n",
        "import numpy as np\n",
        "import matplotlib.pyplot as plt\n",
        "import seaborn as sns"
      ],
      "execution_count": 1,
      "outputs": [
        {
          "output_type": "stream",
          "text": [
            "/usr/local/lib/python3.6/dist-packages/statsmodels/tools/_testing.py:19: FutureWarning: pandas.util.testing is deprecated. Use the functions in the public API at pandas.testing instead.\n",
            "  import pandas.util.testing as tm\n"
          ],
          "name": "stderr"
        }
      ]
    },
    {
      "cell_type": "markdown",
      "metadata": {
        "id": "bbnqgSYlYOaz",
        "colab_type": "text"
      },
      "source": [
        "## Datasets"
      ]
    },
    {
      "cell_type": "code",
      "metadata": {
        "id": "kDKlbEgdYI14",
        "colab_type": "code",
        "colab": {
          "base_uri": "https://localhost:8080/",
          "height": 122
        },
        "outputId": "dfff9f62-3ba0-4a1a-991a-98a9bde67994"
      },
      "source": [
        "#Mounting at Google Drive\n",
        "from google.colab import drive\n",
        "drive.mount('/content/gdrive')"
      ],
      "execution_count": 2,
      "outputs": [
        {
          "output_type": "stream",
          "text": [
            "Go to this URL in a browser: https://accounts.google.com/o/oauth2/auth?client_id=947318989803-6bn6qk8qdgf4n4g3pfee6491hc0brc4i.apps.googleusercontent.com&redirect_uri=urn%3aietf%3awg%3aoauth%3a2.0%3aoob&response_type=code&scope=email%20https%3a%2f%2fwww.googleapis.com%2fauth%2fdocs.test%20https%3a%2f%2fwww.googleapis.com%2fauth%2fdrive%20https%3a%2f%2fwww.googleapis.com%2fauth%2fdrive.photos.readonly%20https%3a%2f%2fwww.googleapis.com%2fauth%2fpeopleapi.readonly\n",
            "\n",
            "Enter your authorization code:\n",
            "··········\n",
            "Mounted at /content/gdrive\n"
          ],
          "name": "stdout"
        }
      ]
    },
    {
      "cell_type": "code",
      "metadata": {
        "id": "mC84ZaqIYRBz",
        "colab_type": "code",
        "colab": {}
      },
      "source": [
        "#Reading main dataframe\n",
        "raw_market = pd.read_csv('gdrive/My Drive/Leads Recommender/data/estaticos_market.csv', index_col='id')"
      ],
      "execution_count": 0,
      "outputs": []
    },
    {
      "cell_type": "code",
      "metadata": {
        "id": "SQ2_7If1YXPK",
        "colab_type": "code",
        "colab": {
          "base_uri": "https://localhost:8080/",
          "height": 488
        },
        "outputId": "38561e45-66c0-48f7-a72c-00b8bb9c0067"
      },
      "source": [
        "#Showing the main df\n",
        "market = raw_market.copy().drop(columns = 'Unnamed: 0')\n",
        "market.head()"
      ],
      "execution_count": 4,
      "outputs": [
        {
          "output_type": "execute_result",
          "data": {
            "text/html": [
              "<div>\n",
              "<style scoped>\n",
              "    .dataframe tbody tr th:only-of-type {\n",
              "        vertical-align: middle;\n",
              "    }\n",
              "\n",
              "    .dataframe tbody tr th {\n",
              "        vertical-align: top;\n",
              "    }\n",
              "\n",
              "    .dataframe thead th {\n",
              "        text-align: right;\n",
              "    }\n",
              "</style>\n",
              "<table border=\"1\" class=\"dataframe\">\n",
              "  <thead>\n",
              "    <tr style=\"text-align: right;\">\n",
              "      <th></th>\n",
              "      <th>fl_matriz</th>\n",
              "      <th>de_natureza_juridica</th>\n",
              "      <th>sg_uf</th>\n",
              "      <th>natureza_juridica_macro</th>\n",
              "      <th>de_ramo</th>\n",
              "      <th>setor</th>\n",
              "      <th>idade_empresa_anos</th>\n",
              "      <th>idade_emp_cat</th>\n",
              "      <th>fl_me</th>\n",
              "      <th>fl_sa</th>\n",
              "      <th>fl_epp</th>\n",
              "      <th>fl_mei</th>\n",
              "      <th>fl_ltda</th>\n",
              "      <th>dt_situacao</th>\n",
              "      <th>fl_st_especial</th>\n",
              "      <th>fl_email</th>\n",
              "      <th>fl_telefone</th>\n",
              "      <th>fl_rm</th>\n",
              "      <th>nm_divisao</th>\n",
              "      <th>nm_segmento</th>\n",
              "      <th>fl_spa</th>\n",
              "      <th>fl_antt</th>\n",
              "      <th>fl_veiculo</th>\n",
              "      <th>vl_total_tancagem</th>\n",
              "      <th>vl_total_veiculos_antt</th>\n",
              "      <th>vl_total_veiculos_leves</th>\n",
              "      <th>vl_total_veiculos_pesados</th>\n",
              "      <th>fl_optante_simples</th>\n",
              "      <th>qt_art</th>\n",
              "      <th>vl_total_veiculos_pesados_grupo</th>\n",
              "      <th>vl_total_veiculos_leves_grupo</th>\n",
              "      <th>vl_total_tancagem_grupo</th>\n",
              "      <th>vl_total_veiculos_antt_grupo</th>\n",
              "      <th>vl_potenc_cons_oleo_gas</th>\n",
              "      <th>fl_optante_simei</th>\n",
              "      <th>sg_uf_matriz</th>\n",
              "      <th>de_saude_tributaria</th>\n",
              "      <th>de_saude_rescencia</th>\n",
              "      <th>nu_meses_rescencia</th>\n",
              "      <th>de_nivel_atividade</th>\n",
              "      <th>...</th>\n",
              "      <th>vl_faturamento_estimado_aux</th>\n",
              "      <th>vl_faturamento_estimado_grupo_aux</th>\n",
              "      <th>qt_ex_funcionarios</th>\n",
              "      <th>qt_funcionarios_grupo</th>\n",
              "      <th>percent_func_genero_masc</th>\n",
              "      <th>percent_func_genero_fem</th>\n",
              "      <th>idade_ate_18</th>\n",
              "      <th>idade_de_19_a_23</th>\n",
              "      <th>idade_de_24_a_28</th>\n",
              "      <th>idade_de_29_a_33</th>\n",
              "      <th>idade_de_34_a_38</th>\n",
              "      <th>idade_de_39_a_43</th>\n",
              "      <th>idade_de_44_a_48</th>\n",
              "      <th>idade_de_49_a_53</th>\n",
              "      <th>idade_de_54_a_58</th>\n",
              "      <th>idade_acima_de_58</th>\n",
              "      <th>grau_instrucao_macro_analfabeto</th>\n",
              "      <th>grau_instrucao_macro_escolaridade_fundamental</th>\n",
              "      <th>grau_instrucao_macro_escolaridade_media</th>\n",
              "      <th>grau_instrucao_macro_escolaridade_superior</th>\n",
              "      <th>grau_instrucao_macro_desconhecido</th>\n",
              "      <th>total</th>\n",
              "      <th>meses_ultima_contratacaco</th>\n",
              "      <th>qt_admitidos_12meses</th>\n",
              "      <th>qt_desligados_12meses</th>\n",
              "      <th>qt_desligados</th>\n",
              "      <th>qt_admitidos</th>\n",
              "      <th>media_meses_servicos_all</th>\n",
              "      <th>max_meses_servicos_all</th>\n",
              "      <th>min_meses_servicos_all</th>\n",
              "      <th>media_meses_servicos</th>\n",
              "      <th>max_meses_servicos</th>\n",
              "      <th>min_meses_servicos</th>\n",
              "      <th>qt_funcionarios</th>\n",
              "      <th>qt_funcionarios_12meses</th>\n",
              "      <th>qt_funcionarios_24meses</th>\n",
              "      <th>tx_crescimento_12meses</th>\n",
              "      <th>tx_crescimento_24meses</th>\n",
              "      <th>tx_rotatividade</th>\n",
              "      <th>qt_filiais</th>\n",
              "    </tr>\n",
              "    <tr>\n",
              "      <th>id</th>\n",
              "      <th></th>\n",
              "      <th></th>\n",
              "      <th></th>\n",
              "      <th></th>\n",
              "      <th></th>\n",
              "      <th></th>\n",
              "      <th></th>\n",
              "      <th></th>\n",
              "      <th></th>\n",
              "      <th></th>\n",
              "      <th></th>\n",
              "      <th></th>\n",
              "      <th></th>\n",
              "      <th></th>\n",
              "      <th></th>\n",
              "      <th></th>\n",
              "      <th></th>\n",
              "      <th></th>\n",
              "      <th></th>\n",
              "      <th></th>\n",
              "      <th></th>\n",
              "      <th></th>\n",
              "      <th></th>\n",
              "      <th></th>\n",
              "      <th></th>\n",
              "      <th></th>\n",
              "      <th></th>\n",
              "      <th></th>\n",
              "      <th></th>\n",
              "      <th></th>\n",
              "      <th></th>\n",
              "      <th></th>\n",
              "      <th></th>\n",
              "      <th></th>\n",
              "      <th></th>\n",
              "      <th></th>\n",
              "      <th></th>\n",
              "      <th></th>\n",
              "      <th></th>\n",
              "      <th></th>\n",
              "      <th></th>\n",
              "      <th></th>\n",
              "      <th></th>\n",
              "      <th></th>\n",
              "      <th></th>\n",
              "      <th></th>\n",
              "      <th></th>\n",
              "      <th></th>\n",
              "      <th></th>\n",
              "      <th></th>\n",
              "      <th></th>\n",
              "      <th></th>\n",
              "      <th></th>\n",
              "      <th></th>\n",
              "      <th></th>\n",
              "      <th></th>\n",
              "      <th></th>\n",
              "      <th></th>\n",
              "      <th></th>\n",
              "      <th></th>\n",
              "      <th></th>\n",
              "      <th></th>\n",
              "      <th></th>\n",
              "      <th></th>\n",
              "      <th></th>\n",
              "      <th></th>\n",
              "      <th></th>\n",
              "      <th></th>\n",
              "      <th></th>\n",
              "      <th></th>\n",
              "      <th></th>\n",
              "      <th></th>\n",
              "      <th></th>\n",
              "      <th></th>\n",
              "      <th></th>\n",
              "      <th></th>\n",
              "      <th></th>\n",
              "      <th></th>\n",
              "      <th></th>\n",
              "      <th></th>\n",
              "      <th></th>\n",
              "    </tr>\n",
              "  </thead>\n",
              "  <tbody>\n",
              "    <tr>\n",
              "      <th>a6984c3ae395090e3bee8ad63c3758b110de096d5d819583a784a113726db849</th>\n",
              "      <td>True</td>\n",
              "      <td>SOCIEDADE EMPRESARIA LIMITADA</td>\n",
              "      <td>RN</td>\n",
              "      <td>ENTIDADES EMPRESARIAIS</td>\n",
              "      <td>INDUSTRIA DA CONSTRUCAO</td>\n",
              "      <td>CONSTRUÇÃO CIVIL</td>\n",
              "      <td>14.457534</td>\n",
              "      <td>10 a 15</td>\n",
              "      <td>False</td>\n",
              "      <td>False</td>\n",
              "      <td>False</td>\n",
              "      <td>False</td>\n",
              "      <td>False</td>\n",
              "      <td>2005-03-25</td>\n",
              "      <td>False</td>\n",
              "      <td>True</td>\n",
              "      <td>True</td>\n",
              "      <td>SIM</td>\n",
              "      <td>CONSTRUCAO DE EDIFICIOS</td>\n",
              "      <td>CONSTRUCAO</td>\n",
              "      <td>False</td>\n",
              "      <td>False</td>\n",
              "      <td>False</td>\n",
              "      <td>NaN</td>\n",
              "      <td>NaN</td>\n",
              "      <td>NaN</td>\n",
              "      <td>NaN</td>\n",
              "      <td>True</td>\n",
              "      <td>8.0</td>\n",
              "      <td>0.0</td>\n",
              "      <td>0.0</td>\n",
              "      <td>NaN</td>\n",
              "      <td>NaN</td>\n",
              "      <td>NaN</td>\n",
              "      <td>False</td>\n",
              "      <td>RN</td>\n",
              "      <td>VERDE</td>\n",
              "      <td>ACIMA DE 1 ANO</td>\n",
              "      <td>23.0</td>\n",
              "      <td>ALTA</td>\n",
              "      <td>...</td>\n",
              "      <td>3132172.8</td>\n",
              "      <td>3132172.8</td>\n",
              "      <td>119.0</td>\n",
              "      <td>26.0</td>\n",
              "      <td>100.0</td>\n",
              "      <td>0.0</td>\n",
              "      <td>NaN</td>\n",
              "      <td>1.0</td>\n",
              "      <td>4.0</td>\n",
              "      <td>6.0</td>\n",
              "      <td>5.0</td>\n",
              "      <td>3.0</td>\n",
              "      <td>4.0</td>\n",
              "      <td>2.0</td>\n",
              "      <td>NaN</td>\n",
              "      <td>1.0</td>\n",
              "      <td>NaN</td>\n",
              "      <td>1.0</td>\n",
              "      <td>25.0</td>\n",
              "      <td>NaN</td>\n",
              "      <td>NaN</td>\n",
              "      <td>26.0</td>\n",
              "      <td>19.166667</td>\n",
              "      <td>0.0</td>\n",
              "      <td>0.0</td>\n",
              "      <td>119.0</td>\n",
              "      <td>145.0</td>\n",
              "      <td>13.309195</td>\n",
              "      <td>93.266667</td>\n",
              "      <td>-0.933333</td>\n",
              "      <td>43.738462</td>\n",
              "      <td>93.266667</td>\n",
              "      <td>19.166667</td>\n",
              "      <td>26.0</td>\n",
              "      <td>26.0</td>\n",
              "      <td>27.0</td>\n",
              "      <td>0.0</td>\n",
              "      <td>-3.703704</td>\n",
              "      <td>0.0</td>\n",
              "      <td>0</td>\n",
              "    </tr>\n",
              "    <tr>\n",
              "      <th>6178f41ade1365e44bc2c46654c2c8c0eaae27dcb476c47fdef50b33f4f56f05</th>\n",
              "      <td>True</td>\n",
              "      <td>EMPRESARIO INDIVIDUAL</td>\n",
              "      <td>PI</td>\n",
              "      <td>OUTROS</td>\n",
              "      <td>SERVICOS DE ALOJAMENTO/ALIMENTACAO</td>\n",
              "      <td>SERVIÇO</td>\n",
              "      <td>1.463014</td>\n",
              "      <td>1 a 5</td>\n",
              "      <td>False</td>\n",
              "      <td>False</td>\n",
              "      <td>False</td>\n",
              "      <td>True</td>\n",
              "      <td>False</td>\n",
              "      <td>2017-05-12</td>\n",
              "      <td>False</td>\n",
              "      <td>True</td>\n",
              "      <td>True</td>\n",
              "      <td>SIM</td>\n",
              "      <td>ALIMENTACAO</td>\n",
              "      <td>ALOJAMENTO E ALIMENTACAO</td>\n",
              "      <td>False</td>\n",
              "      <td>False</td>\n",
              "      <td>False</td>\n",
              "      <td>NaN</td>\n",
              "      <td>NaN</td>\n",
              "      <td>NaN</td>\n",
              "      <td>NaN</td>\n",
              "      <td>NaN</td>\n",
              "      <td>NaN</td>\n",
              "      <td>0.0</td>\n",
              "      <td>0.0</td>\n",
              "      <td>NaN</td>\n",
              "      <td>NaN</td>\n",
              "      <td>NaN</td>\n",
              "      <td>NaN</td>\n",
              "      <td>PI</td>\n",
              "      <td>CINZA</td>\n",
              "      <td>ATE 1 ANO</td>\n",
              "      <td>9.0</td>\n",
              "      <td>BAIXA</td>\n",
              "      <td>...</td>\n",
              "      <td>210000.0</td>\n",
              "      <td>210000.0</td>\n",
              "      <td>NaN</td>\n",
              "      <td>NaN</td>\n",
              "      <td>NaN</td>\n",
              "      <td>NaN</td>\n",
              "      <td>NaN</td>\n",
              "      <td>NaN</td>\n",
              "      <td>NaN</td>\n",
              "      <td>NaN</td>\n",
              "      <td>NaN</td>\n",
              "      <td>NaN</td>\n",
              "      <td>NaN</td>\n",
              "      <td>NaN</td>\n",
              "      <td>NaN</td>\n",
              "      <td>NaN</td>\n",
              "      <td>NaN</td>\n",
              "      <td>NaN</td>\n",
              "      <td>NaN</td>\n",
              "      <td>NaN</td>\n",
              "      <td>NaN</td>\n",
              "      <td>NaN</td>\n",
              "      <td>NaN</td>\n",
              "      <td>NaN</td>\n",
              "      <td>NaN</td>\n",
              "      <td>NaN</td>\n",
              "      <td>NaN</td>\n",
              "      <td>NaN</td>\n",
              "      <td>NaN</td>\n",
              "      <td>NaN</td>\n",
              "      <td>NaN</td>\n",
              "      <td>NaN</td>\n",
              "      <td>NaN</td>\n",
              "      <td>NaN</td>\n",
              "      <td>NaN</td>\n",
              "      <td>NaN</td>\n",
              "      <td>NaN</td>\n",
              "      <td>NaN</td>\n",
              "      <td>NaN</td>\n",
              "      <td>0</td>\n",
              "    </tr>\n",
              "    <tr>\n",
              "      <th>4a7e5069a397f12fdd7fd57111d6dc5d3ba558958efc02edc5147bc2a2535b08</th>\n",
              "      <td>True</td>\n",
              "      <td>EMPRESARIO INDIVIDUAL</td>\n",
              "      <td>AM</td>\n",
              "      <td>OUTROS</td>\n",
              "      <td>TRANSPORTE, ARMAZENAGEM E CORREIO</td>\n",
              "      <td>SERVIÇO</td>\n",
              "      <td>7.093151</td>\n",
              "      <td>5 a 10</td>\n",
              "      <td>False</td>\n",
              "      <td>False</td>\n",
              "      <td>False</td>\n",
              "      <td>True</td>\n",
              "      <td>False</td>\n",
              "      <td>2011-09-26</td>\n",
              "      <td>False</td>\n",
              "      <td>False</td>\n",
              "      <td>True</td>\n",
              "      <td>SIM</td>\n",
              "      <td>TRANSPORTE TERRESTRE</td>\n",
              "      <td>TRANSPORTE ARMAZENAGEM E CORREIO</td>\n",
              "      <td>False</td>\n",
              "      <td>False</td>\n",
              "      <td>False</td>\n",
              "      <td>NaN</td>\n",
              "      <td>NaN</td>\n",
              "      <td>NaN</td>\n",
              "      <td>NaN</td>\n",
              "      <td>True</td>\n",
              "      <td>NaN</td>\n",
              "      <td>0.0</td>\n",
              "      <td>0.0</td>\n",
              "      <td>NaN</td>\n",
              "      <td>NaN</td>\n",
              "      <td>NaN</td>\n",
              "      <td>True</td>\n",
              "      <td>AM</td>\n",
              "      <td>AMARELO</td>\n",
              "      <td>ACIMA DE 1 ANO</td>\n",
              "      <td>26.0</td>\n",
              "      <td>MEDIA</td>\n",
              "      <td>...</td>\n",
              "      <td>50000.0</td>\n",
              "      <td>50000.0</td>\n",
              "      <td>NaN</td>\n",
              "      <td>NaN</td>\n",
              "      <td>NaN</td>\n",
              "      <td>NaN</td>\n",
              "      <td>NaN</td>\n",
              "      <td>NaN</td>\n",
              "      <td>NaN</td>\n",
              "      <td>NaN</td>\n",
              "      <td>NaN</td>\n",
              "      <td>NaN</td>\n",
              "      <td>NaN</td>\n",
              "      <td>NaN</td>\n",
              "      <td>NaN</td>\n",
              "      <td>NaN</td>\n",
              "      <td>NaN</td>\n",
              "      <td>NaN</td>\n",
              "      <td>NaN</td>\n",
              "      <td>NaN</td>\n",
              "      <td>NaN</td>\n",
              "      <td>NaN</td>\n",
              "      <td>NaN</td>\n",
              "      <td>NaN</td>\n",
              "      <td>NaN</td>\n",
              "      <td>NaN</td>\n",
              "      <td>NaN</td>\n",
              "      <td>NaN</td>\n",
              "      <td>NaN</td>\n",
              "      <td>NaN</td>\n",
              "      <td>NaN</td>\n",
              "      <td>NaN</td>\n",
              "      <td>NaN</td>\n",
              "      <td>NaN</td>\n",
              "      <td>NaN</td>\n",
              "      <td>NaN</td>\n",
              "      <td>NaN</td>\n",
              "      <td>NaN</td>\n",
              "      <td>NaN</td>\n",
              "      <td>0</td>\n",
              "    </tr>\n",
              "    <tr>\n",
              "      <th>3348900fe63216a439d2e5238c79ddd46ede454df7b9d8c24ac33eb21d4b21ef</th>\n",
              "      <td>True</td>\n",
              "      <td>EMPRESARIO INDIVIDUAL</td>\n",
              "      <td>AM</td>\n",
              "      <td>OUTROS</td>\n",
              "      <td>SERVICOS DIVERSOS</td>\n",
              "      <td>SERVIÇO</td>\n",
              "      <td>6.512329</td>\n",
              "      <td>5 a 10</td>\n",
              "      <td>False</td>\n",
              "      <td>False</td>\n",
              "      <td>False</td>\n",
              "      <td>False</td>\n",
              "      <td>False</td>\n",
              "      <td>2012-04-25</td>\n",
              "      <td>False</td>\n",
              "      <td>True</td>\n",
              "      <td>True</td>\n",
              "      <td>SIM</td>\n",
              "      <td>REPARACAO E MANUTENCAO DE EQUIPAMENTOS DE INFO...</td>\n",
              "      <td>OUTRAS ATIVIDADES DE SERVICOS</td>\n",
              "      <td>False</td>\n",
              "      <td>False</td>\n",
              "      <td>False</td>\n",
              "      <td>NaN</td>\n",
              "      <td>NaN</td>\n",
              "      <td>NaN</td>\n",
              "      <td>NaN</td>\n",
              "      <td>True</td>\n",
              "      <td>NaN</td>\n",
              "      <td>0.0</td>\n",
              "      <td>0.0</td>\n",
              "      <td>NaN</td>\n",
              "      <td>NaN</td>\n",
              "      <td>NaN</td>\n",
              "      <td>False</td>\n",
              "      <td>AM</td>\n",
              "      <td>AMARELO</td>\n",
              "      <td>ACIMA DE 1 ANO</td>\n",
              "      <td>26.0</td>\n",
              "      <td>MEDIA</td>\n",
              "      <td>...</td>\n",
              "      <td>210000.0</td>\n",
              "      <td>210000.0</td>\n",
              "      <td>NaN</td>\n",
              "      <td>NaN</td>\n",
              "      <td>NaN</td>\n",
              "      <td>NaN</td>\n",
              "      <td>NaN</td>\n",
              "      <td>NaN</td>\n",
              "      <td>NaN</td>\n",
              "      <td>NaN</td>\n",
              "      <td>NaN</td>\n",
              "      <td>NaN</td>\n",
              "      <td>NaN</td>\n",
              "      <td>NaN</td>\n",
              "      <td>NaN</td>\n",
              "      <td>NaN</td>\n",
              "      <td>NaN</td>\n",
              "      <td>NaN</td>\n",
              "      <td>NaN</td>\n",
              "      <td>NaN</td>\n",
              "      <td>NaN</td>\n",
              "      <td>NaN</td>\n",
              "      <td>NaN</td>\n",
              "      <td>NaN</td>\n",
              "      <td>NaN</td>\n",
              "      <td>NaN</td>\n",
              "      <td>NaN</td>\n",
              "      <td>NaN</td>\n",
              "      <td>NaN</td>\n",
              "      <td>NaN</td>\n",
              "      <td>NaN</td>\n",
              "      <td>NaN</td>\n",
              "      <td>NaN</td>\n",
              "      <td>NaN</td>\n",
              "      <td>NaN</td>\n",
              "      <td>NaN</td>\n",
              "      <td>NaN</td>\n",
              "      <td>NaN</td>\n",
              "      <td>NaN</td>\n",
              "      <td>0</td>\n",
              "    </tr>\n",
              "    <tr>\n",
              "      <th>1f9bcabc9d3173c1fe769899e4fac14b053037b953a1e4b102c769f7611ab29f</th>\n",
              "      <td>True</td>\n",
              "      <td>EMPRESARIO INDIVIDUAL</td>\n",
              "      <td>RN</td>\n",
              "      <td>OUTROS</td>\n",
              "      <td>SERVICOS PROFISSIONAIS, TECNICOS E CIENTIFICOS</td>\n",
              "      <td>SERVIÇO</td>\n",
              "      <td>3.200000</td>\n",
              "      <td>1 a 5</td>\n",
              "      <td>False</td>\n",
              "      <td>False</td>\n",
              "      <td>False</td>\n",
              "      <td>False</td>\n",
              "      <td>False</td>\n",
              "      <td>2015-08-17</td>\n",
              "      <td>False</td>\n",
              "      <td>True</td>\n",
              "      <td>True</td>\n",
              "      <td>SIM</td>\n",
              "      <td>SERVICOS DE ARQUITETURA E ENGENHARIA TESTES E ...</td>\n",
              "      <td>ATIVIDADES PROFISSIONAIS CIENTIFICAS E TECNICAS</td>\n",
              "      <td>False</td>\n",
              "      <td>False</td>\n",
              "      <td>False</td>\n",
              "      <td>NaN</td>\n",
              "      <td>NaN</td>\n",
              "      <td>NaN</td>\n",
              "      <td>NaN</td>\n",
              "      <td>True</td>\n",
              "      <td>NaN</td>\n",
              "      <td>0.0</td>\n",
              "      <td>0.0</td>\n",
              "      <td>NaN</td>\n",
              "      <td>NaN</td>\n",
              "      <td>NaN</td>\n",
              "      <td>False</td>\n",
              "      <td>RN</td>\n",
              "      <td>VERDE</td>\n",
              "      <td>ACIMA DE 1 ANO</td>\n",
              "      <td>27.0</td>\n",
              "      <td>ALTA</td>\n",
              "      <td>...</td>\n",
              "      <td>210000.0</td>\n",
              "      <td>210000.0</td>\n",
              "      <td>NaN</td>\n",
              "      <td>NaN</td>\n",
              "      <td>NaN</td>\n",
              "      <td>NaN</td>\n",
              "      <td>NaN</td>\n",
              "      <td>NaN</td>\n",
              "      <td>NaN</td>\n",
              "      <td>NaN</td>\n",
              "      <td>NaN</td>\n",
              "      <td>NaN</td>\n",
              "      <td>NaN</td>\n",
              "      <td>NaN</td>\n",
              "      <td>NaN</td>\n",
              "      <td>NaN</td>\n",
              "      <td>NaN</td>\n",
              "      <td>NaN</td>\n",
              "      <td>NaN</td>\n",
              "      <td>NaN</td>\n",
              "      <td>NaN</td>\n",
              "      <td>NaN</td>\n",
              "      <td>NaN</td>\n",
              "      <td>NaN</td>\n",
              "      <td>NaN</td>\n",
              "      <td>NaN</td>\n",
              "      <td>NaN</td>\n",
              "      <td>NaN</td>\n",
              "      <td>NaN</td>\n",
              "      <td>NaN</td>\n",
              "      <td>NaN</td>\n",
              "      <td>NaN</td>\n",
              "      <td>NaN</td>\n",
              "      <td>NaN</td>\n",
              "      <td>NaN</td>\n",
              "      <td>NaN</td>\n",
              "      <td>NaN</td>\n",
              "      <td>NaN</td>\n",
              "      <td>NaN</td>\n",
              "      <td>0</td>\n",
              "    </tr>\n",
              "  </tbody>\n",
              "</table>\n",
              "<p>5 rows × 180 columns</p>\n",
              "</div>"
            ],
            "text/plain": [
              "                                                    fl_matriz  ... qt_filiais\n",
              "id                                                             ...           \n",
              "a6984c3ae395090e3bee8ad63c3758b110de096d5d81958...       True  ...          0\n",
              "6178f41ade1365e44bc2c46654c2c8c0eaae27dcb476c47...       True  ...          0\n",
              "4a7e5069a397f12fdd7fd57111d6dc5d3ba558958efc02e...       True  ...          0\n",
              "3348900fe63216a439d2e5238c79ddd46ede454df7b9d8c...       True  ...          0\n",
              "1f9bcabc9d3173c1fe769899e4fac14b053037b953a1e4b...       True  ...          0\n",
              "\n",
              "[5 rows x 180 columns]"
            ]
          },
          "metadata": {
            "tags": []
          },
          "execution_count": 4
        }
      ]
    },
    {
      "cell_type": "code",
      "metadata": {
        "id": "ekqzH4ivYbR-",
        "colab_type": "code",
        "colab": {}
      },
      "source": [
        "#Reading portfolios\n",
        "raw_portfolio1 = pd.read_csv('gdrive/My Drive/Leads Recommender/data/estaticos_portfolio1.csv', index_col='id').drop(columns = 'Unnamed: 0')\n",
        "raw_portfolio2 = pd.read_csv('gdrive/My Drive/Leads Recommender/data/estaticos_portfolio2.csv', index_col='id').drop(columns = 'Unnamed: 0')\n",
        "raw_portfolio3 = pd.read_csv('gdrive/My Drive/Leads Recommender/data/estaticos_portfolio3.csv', index_col='id').drop(columns = 'Unnamed: 0')"
      ],
      "execution_count": 0,
      "outputs": []
    },
    {
      "cell_type": "markdown",
      "metadata": {
        "id": "ENi6fZc-Yfxe",
        "colab_type": "text"
      },
      "source": [
        "# Exploratory Data Analysis and Data Muning"
      ]
    },
    {
      "cell_type": "markdown",
      "metadata": {
        "id": "VcW3R8kbYiU2",
        "colab_type": "text"
      },
      "source": [
        "### Usefull functions"
      ]
    },
    {
      "cell_type": "code",
      "metadata": {
        "id": "AQIK-h8DYd5L",
        "colab_type": "code",
        "colab": {}
      },
      "source": [
        "def drop_col(df, col):\n",
        "  try:\n",
        "    df.drop(columns = col, inplace=True)\n",
        "  except:\n",
        "    print(f'The column {col} does not exist or has lready been removed.')"
      ],
      "execution_count": 0,
      "outputs": []
    },
    {
      "cell_type": "code",
      "metadata": {
        "id": "W9xX7vgeYyxC",
        "colab_type": "code",
        "colab": {}
      },
      "source": [
        "def encode(df):\n",
        "  categorical_columns = df.select_dtypes(exclude=['int64', 'float64']).columns.tolist()\n",
        "  numerical_columns = df.select_dtypes(include=['int64', 'float64']).columns.tolist()\n",
        "\n",
        "  df_processed = pd.get_dummies(data=df, columns=categorical_columns)\n",
        "\n",
        "  scaler = MinMaxScaler()\n",
        "  scaled_data = scaler.fit_transform(df[numerical_columns])\n",
        "  df_processed[numerical_columns] = scaled_data\n",
        "\n",
        "  return df_processed"
      ],
      "execution_count": 0,
      "outputs": []
    },
    {
      "cell_type": "markdown",
      "metadata": {
        "id": "gD5OzLoZY19v",
        "colab_type": "text"
      },
      "source": [
        "### Feature selection"
      ]
    },
    {
      "cell_type": "markdown",
      "metadata": {
        "id": "5G7kvVS5ASWe",
        "colab_type": "text"
      },
      "source": [
        "**In this section, we will analyse the behavior of the features and select wich are usefull to the model.**\n",
        "\n",
        "---\n",
        "\n"
      ]
    },
    {
      "cell_type": "markdown",
      "metadata": {
        "id": "37LfKzx0NJd-",
        "colab_type": "text"
      },
      "source": [
        "First of all, we must analyse the distribution of missing values of the main dataset."
      ]
    },
    {
      "cell_type": "code",
      "metadata": {
        "id": "pc4sn-iDY0Xe",
        "colab_type": "code",
        "colab": {
          "base_uri": "https://localhost:8080/",
          "height": 334
        },
        "outputId": "cbf21b01-fc7f-485c-8594-a3211191d5f9"
      },
      "source": [
        "fig, ax = plt.subplots(figsize=(15, 5))\n",
        "sns.lineplot(x=range(0, market.shape[1]), y=market.isnull().mean())\n",
        "ax.set(xlabel=' Column number', ylabel='Missing values (%)')\n",
        "plt.show()"
      ],
      "execution_count": 8,
      "outputs": [
        {
          "output_type": "display_data",
          "data": {
            "image/png": "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\n",
            "text/plain": [
              "<Figure size 1080x360 with 1 Axes>"
            ]
          },
          "metadata": {
            "tags": [],
            "needs_background": "light"
          }
        }
      ]
    },
    {
      "cell_type": "markdown",
      "metadata": {
        "id": "6oYDGqxAmcEU",
        "colab_type": "text"
      },
      "source": [
        "As we can see, several columns have most of their values as missing. Therefore, let's remove them, taking the 67% threshold as the minimum of non-missing data in a given variable."
      ]
    },
    {
      "cell_type": "code",
      "metadata": {
        "id": "BvnQDXal88Q3",
        "colab_type": "code",
        "colab": {}
      },
      "source": [
        "threshold = 0.70\n",
        "market =  market.loc[:, market.notnull().mean() > threshold]"
      ],
      "execution_count": 0,
      "outputs": []
    },
    {
      "cell_type": "markdown",
      "metadata": {
        "id": "WEzOvQ4smkob",
        "colab_type": "text"
      },
      "source": [
        "---\n",
        "The recommendation we seek is independent of whether it is a parent company or not. Thus, the ```fl_matriz``` column  does not have relevance to our model, let's drop it.\n"
      ]
    },
    {
      "cell_type": "code",
      "metadata": {
        "id": "_idXX_I6AfB9",
        "colab_type": "code",
        "colab": {}
      },
      "source": [
        "drop_col(market, 'fl_matriz')"
      ],
      "execution_count": 0,
      "outputs": []
    },
    {
      "cell_type": "markdown",
      "metadata": {
        "id": "TDMtxjoJm04L",
        "colab_type": "text"
      },
      "source": [
        "----\n",
        "Now we are going to take a look at ```natureza_juridica_macro``` and ```de_natureza_juridica```."
      ]
    },
    {
      "cell_type": "code",
      "metadata": {
        "id": "8mKC1eS7lPFV",
        "colab_type": "code",
        "outputId": "8ca7b0a4-67f8-4d09-e99f-0359b36275fa",
        "colab": {
          "base_uri": "https://localhost:8080/",
          "height": 153
        }
      },
      "source": [
        "print(market['natureza_juridica_macro'].value_counts())"
      ],
      "execution_count": 11,
      "outputs": [
        {
          "output_type": "stream",
          "text": [
            "OUTROS                            320211\n",
            "ENTIDADES EMPRESARIAIS             99241\n",
            "ENTIDADES SEM FINS LUCRATIVOS      37089\n",
            "ADMINISTRACAO PUBLICA               2912\n",
            "CARGO POLITICO                      1617\n",
            "PESSOAS FISICAS                     1225\n",
            "INSTITUICOES EXTRATERRITORIAIS         3\n",
            "Name: natureza_juridica_macro, dtype: int64\n"
          ],
          "name": "stdout"
        }
      ]
    },
    {
      "cell_type": "code",
      "metadata": {
        "id": "zHAtFfFt6GyR",
        "colab_type": "code",
        "outputId": "982095ba-2a72-4304-c297-c6452868ea69",
        "colab": {
          "base_uri": "https://localhost:8080/",
          "height": 221
        }
      },
      "source": [
        "print(market['de_natureza_juridica'].value_counts())"
      ],
      "execution_count": 12,
      "outputs": [
        {
          "output_type": "stream",
          "text": [
            "EMPRESARIO INDIVIDUAL                                                     295756\n",
            "SOCIEDADE EMPRESARIA LIMITADA                                              91231\n",
            "ASSOCIACAO PRIVADA                                                         29694\n",
            "EMPRESA INDIVIDUAL DE RESPONSABILIDADE LIMITADA DE NATUREZA EMPRESARIA     15183\n",
            "ORGAO DE DIRECAO LOCAL DE PARTIDO POLITICO                                  7301\n",
            "                                                                           ...  \n",
            "SOCIEDADE SIMPLES EM NOME COLETIVO                                             1\n",
            "CONSORCIO PUBLICO DE DIREITO PRIVADO                                           1\n",
            "FUNDO PRIVADO                                                                  1\n",
            "CONSORCIO DE EMPREGADORES                                                      1\n",
            "ORGAO DE DIRECAO NACIONAL DE PARTIDO POLITICO                                  1\n",
            "Name: de_natureza_juridica, Length: 67, dtype: int64\n"
          ],
          "name": "stdout"
        }
      ]
    },
    {
      "cell_type": "markdown",
      "metadata": {
        "id": "4A94uzO95wp2",
        "colab_type": "text"
      },
      "source": [
        "It is noticeable that ```de_natureza_juridica``` describe the same as ```natureza_juridica_macro```, but in more detail. That said, in order to become more general, we can drop the specificist column."
      ]
    },
    {
      "cell_type": "code",
      "metadata": {
        "id": "hNZSZBV15u43",
        "colab_type": "code",
        "colab": {}
      },
      "source": [
        "drop_col(market, 'de_natureza_juridica')"
      ],
      "execution_count": 0,
      "outputs": []
    },
    {
      "cell_type": "markdown",
      "metadata": {
        "id": "oGS4znshm_le",
        "colab_type": "text"
      },
      "source": [
        "---\n",
        "Let's inspect now ```setor```, ```nm_divisao```, ```nm_segmento``` and ```de_ramo```."
      ]
    },
    {
      "cell_type": "code",
      "metadata": {
        "id": "CbBsndupl-gC",
        "colab_type": "code",
        "outputId": "c18bf371-38dd-47d0-c6c6-c74a6bfee715",
        "colab": {
          "base_uri": "https://localhost:8080/",
          "height": 119
        }
      },
      "source": [
        "print(market['setor'].value_counts())"
      ],
      "execution_count": 14,
      "outputs": [
        {
          "output_type": "stream",
          "text": [
            "COMERCIO            211224\n",
            "SERVIÇO             189644\n",
            "INDUSTRIA            30893\n",
            "CONSTRUÇÃO CIVIL     25363\n",
            "AGROPECUARIA          3247\n",
            "Name: setor, dtype: int64\n"
          ],
          "name": "stdout"
        }
      ]
    },
    {
      "cell_type": "code",
      "metadata": {
        "id": "pD7_w9ru88qy",
        "colab_type": "code",
        "outputId": "694800d7-f704-4f82-a2e1-0a9bb63d9603",
        "colab": {
          "base_uri": "https://localhost:8080/",
          "height": 595
        }
      },
      "source": [
        "print(market['de_ramo'].value_counts())"
      ],
      "execution_count": 15,
      "outputs": [
        {
          "output_type": "stream",
          "text": [
            "COMERCIO VAREJISTA                                   172404\n",
            "SERVICOS DIVERSOS                                     60318\n",
            "SERVICOS DE ALOJAMENTO/ALIMENTACAO                    30180\n",
            "INDUSTRIA DA CONSTRUCAO                               25363\n",
            "COMERCIO E REPARACAO DE VEICULOS                      22356\n",
            "SERVICOS ADMINISTRATIVOS                              21326\n",
            "BENS DE CONSUMO                                       21227\n",
            "SERVICOS PROFISSIONAIS, TECNICOS E CIENTIFICOS        17371\n",
            "COMERCIO POR ATACADO                                  16464\n",
            "TRANSPORTE, ARMAZENAGEM E CORREIO                     15485\n",
            "SERVICOS DE EDUCACAO                                  11311\n",
            "SERVICOS DE SAUDE                                      9788\n",
            "CULTURA, ESPORTE E RECREACAO                           5503\n",
            "SIDERURGICA-METALURGIA                                 3700\n",
            "TELECOM                                                3626\n",
            "PRODUTOS DE AGROPECUARIA                               3247\n",
            "QUIMICA-PETROQUIMICA                                   3131\n",
            "ADMINISTRACAO PUBLICA, DEFESA E SEGURIDADE SOCIAL      2754\n",
            "ATIVIDADES IMOBILIARIAS                                2670\n",
            "PAPEL E CELULOSE                                       2179\n",
            "OUTROS                                                 1927\n",
            "INDUSTRIA DIGITAL                                      1849\n",
            "SEGUROS, PLANOS DE PREVIDENCIA E PLANOS DE SAUDE       1770\n",
            "SERVICOS FINANCEIROS                                   1517\n",
            "SERVICOS DE SANEAMENTO BASICO                          1238\n",
            "TEXTEIS                                                1048\n",
            "INDUSTRIAS EXTRATIVAS                                   896\n",
            "ELETRICIDADE E GAS                                      607\n",
            "INDUSTRIA AUTOMOTIVA                                    410\n",
            "SERVICOS SOCIAIS                                        351\n",
            "ELETROELETRONICOS                                       251\n",
            "FARMACEUTICA                                             22\n",
            "ORGANISMOS INTERNACIONAIS                                 9\n",
            "Name: de_ramo, dtype: int64\n"
          ],
          "name": "stdout"
        }
      ]
    },
    {
      "cell_type": "code",
      "metadata": {
        "id": "SAOBRlTAa32M",
        "colab_type": "code",
        "outputId": "af68c2c0-3c78-4630-8bbd-22f0fb7175a9",
        "colab": {
          "base_uri": "https://localhost:8080/",
          "height": 221
        }
      },
      "source": [
        "print(market['nm_divisao'].value_counts())"
      ],
      "execution_count": 16,
      "outputs": [
        {
          "output_type": "stream",
          "text": [
            "COMERCIO VAREJISTA                                                   172404\n",
            "ATIVIDADES DE ORGANIZACOES ASSOCIATIVAS                               37984\n",
            "ALIMENTACAO                                                           27540\n",
            "COMERCIO E REPARACAO DE VEICULOS AUTOMOTORES E MOTOCICLETAS           22356\n",
            "COMERCIO POR ATACADO EXCETO VEICULOS AUTOMOTORES E MOTOCICLETAS       16464\n",
            "                                                                      ...  \n",
            "FABRICACAO DE PRODUTOS FARMOQUIMICOS E FARMACEUTICOS                     22\n",
            "DESCONTAMINACAO E OUTROS SERVICOS DE GESTAO DE RESIDUOS                  12\n",
            "ORGANISMOS INTERNACIONAIS E OUTRAS INSTITUICOES EXTRATERRITORIAIS         9\n",
            "FABRICACAO DE PRODUTOS DO FUMO                                            2\n",
            "EXTRACAO DE CARVAO MINERAL                                                1\n",
            "Name: nm_divisao, Length: 87, dtype: int64\n"
          ],
          "name": "stdout"
        }
      ]
    },
    {
      "cell_type": "code",
      "metadata": {
        "id": "P6wRacc0a5gz",
        "colab_type": "code",
        "outputId": "6a6fd413-8bac-4d6b-8e38-b8af76a0cf52",
        "colab": {
          "base_uri": "https://localhost:8080/",
          "height": 391
        }
      },
      "source": [
        "print(market['nm_segmento'].value_counts())"
      ],
      "execution_count": 17,
      "outputs": [
        {
          "output_type": "stream",
          "text": [
            "COMERCIO; REPARACAO DE VEICULOS AUTOMOTORES E MOTOCICLETAS           211224\n",
            "OUTRAS ATIVIDADES DE SERVICOS                                         59561\n",
            "INDUSTRIAS DE TRANSFORMACAO                                           31968\n",
            "ALOJAMENTO E ALIMENTACAO                                              30180\n",
            "CONSTRUCAO                                                            25363\n",
            "ATIVIDADES ADMINISTRATIVAS E SERVICOS COMPLEMENTARES                  21326\n",
            "ATIVIDADES PROFISSIONAIS CIENTIFICAS E TECNICAS                       17371\n",
            "TRANSPORTE ARMAZENAGEM E CORREIO                                      15485\n",
            "EDUCACAO                                                              11311\n",
            "SAUDE HUMANA E SERVICOS SOCIAIS                                       10139\n",
            "ARTES CULTURA ESPORTE E RECREACAO                                      5503\n",
            "INFORMACAO E COMUNICACAO                                               5475\n",
            "ATIVIDADES FINANCEIRAS DE SEGUROS E SERVICOS RELACIONADOS              3287\n",
            "AGRICULTURA PECUARIA PRODUCAO FLORESTAL PESCA E AQUICULTURA            3247\n",
            "ADMINISTRACAO PUBLICA DEFESA E SEGURIDADE SOCIAL                       2754\n",
            "ATIVIDADES IMOBILIARIAS                                                2670\n",
            "AGUA ESGOTO ATIVIDADES DE GESTAO DE RESIDUOS E DESCONTAMINACAO         1238\n",
            "INDUSTRIAS EXTRATIVAS                                                   896\n",
            "SERVICOS DOMESTICOS                                                     757\n",
            "ELETRICIDADE E GAS                                                      607\n",
            "ORGANISMOS INTERNACIONAIS E OUTRAS INSTITUICOES EXTRATERRITORIAIS         9\n",
            "Name: nm_segmento, dtype: int64\n"
          ],
          "name": "stdout"
        }
      ]
    },
    {
      "cell_type": "markdown",
      "metadata": {
        "id": "Xwql5CKq9AMa",
        "colab_type": "text"
      },
      "source": [
        "As before, here we have some variables that differ in the degree of specificity. We will remain with a intermediate one, ```nm_segmento``` sounds a good choice."
      ]
    },
    {
      "cell_type": "code",
      "metadata": {
        "id": "1arjl44T9mbE",
        "colab_type": "code",
        "colab": {
          "base_uri": "https://localhost:8080/",
          "height": 68
        },
        "outputId": "1e07482a-3697-4b5a-e49c-48c27ab6c73a"
      },
      "source": [
        "drop_col(market, 'setor')\n",
        "drop_col(market, 'de_ramo')\n",
        "drop_col(market, 'nm_divisao')"
      ],
      "execution_count": 19,
      "outputs": [
        {
          "output_type": "stream",
          "text": [
            "The column setor does not exist or has lready been removed.\n",
            "The column de_ramo does not exist or has lready been removed.\n",
            "The column nm_divisao does not exist or has lready been removed.\n"
          ],
          "name": "stdout"
        }
      ]
    },
    {
      "cell_type": "markdown",
      "metadata": {
        "id": "ufh3-oAins3L",
        "colab_type": "text"
      },
      "source": [
        "---\n",
        "The next ones to be analysed is ```idade_empresa_anos``` and ```idade_emp_cat```."
      ]
    },
    {
      "cell_type": "code",
      "metadata": {
        "id": "TF095xO8nVRx",
        "colab_type": "code",
        "outputId": "85d86b10-25fc-464a-fac9-cc27fe905829",
        "colab": {
          "base_uri": "https://localhost:8080/",
          "height": 297
        }
      },
      "source": [
        "fig, axes = plt.subplots()\n",
        "sns.distplot(market['idade_empresa_anos'])"
      ],
      "execution_count": 20,
      "outputs": [
        {
          "output_type": "execute_result",
          "data": {
            "text/plain": [
              "<matplotlib.axes._subplots.AxesSubplot at 0x7fa68e255048>"
            ]
          },
          "metadata": {
            "tags": []
          },
          "execution_count": 20
        },
        {
          "output_type": "display_data",
          "data": {
            "image/png": "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\n",
            "text/plain": [
              "<Figure size 432x288 with 1 Axes>"
            ]
          },
          "metadata": {
            "tags": [],
            "needs_background": "light"
          }
        }
      ]
    },
    {
      "cell_type": "code",
      "metadata": {
        "id": "NWGWp63CngIK",
        "colab_type": "code",
        "outputId": "149ace0b-8a4b-4341-a94f-b276dd366d86",
        "colab": {
          "base_uri": "https://localhost:8080/",
          "height": 297
        }
      },
      "source": [
        "sns.countplot(market['idade_emp_cat'], order=['<= 1','1 a 5', '5 a 10', '10 a 15', '15 a 20', '> 20'])"
      ],
      "execution_count": 21,
      "outputs": [
        {
          "output_type": "execute_result",
          "data": {
            "text/plain": [
              "<matplotlib.axes._subplots.AxesSubplot at 0x7fa68dcf2d68>"
            ]
          },
          "metadata": {
            "tags": []
          },
          "execution_count": 21
        },
        {
          "output_type": "display_data",
          "data": {
            "image/png": "iVBORw0KGgoAAAANSUhEUgAAAZcAAAEHCAYAAABiAAtOAAAABHNCSVQICAgIfAhkiAAAAAlwSFlzAAALEgAACxIB0t1+/AAAADh0RVh0U29mdHdhcmUAbWF0cGxvdGxpYiB2ZXJzaW9uMy4yLjEsIGh0dHA6Ly9tYXRwbG90bGliLm9yZy+j8jraAAAchklEQVR4nO3dfZhddXnu8e9tYhBUSAJjikl0okZtwBdghFSsL2BD8KjBNipUTcSU2CPY6mVVkKvGgrR40EONKD1RYhLKRaAoJbWhIQaUozWQ4TUkgBlBITmBDCSASIEGn/PHegYWkz0ze2bW3juZ3J/r2tes9azfWuu3ZpK5Z73s31ZEYGZmVqUXtLoDZmY28jhczMyscg4XMzOrnMPFzMwq53AxM7PKjW51B3YXBx10ULS3t7e6G2Zme5SbbrrpoYho6113uKT29nY6Oztb3Q0zsz2KpN/UqvuymJmZVc7hYmZmlXO4mJlZ5RoWLpIWS9om6Y4ayz4nKSQdlPOStFBSl6TbJR1eajtX0qZ8zS3Vj5C0PtdZKElZHy9pdbZfLWlco47RzMxqa+SZyxJgZu+ipMnADOC+Uvl4YGq+5gMXZtvxwALgKOBIYEEpLC4ETimt17Ov04E1ETEVWJPzZmbWRA0Ll4i4HtheY9H5wBeA8oiZs4BlUVgLjJV0MHAcsDoitkfEDmA1MDOX7R8Ra6MYeXMZcEJpW0tzemmpbmZmTdLUey6SZgFbIuK2XosmAveX5jdnrb/65hp1gAkRsTWnHwAmVNN7MzOrV9Pe5yJpP+BLFJfEmiIiQlKfnykgaT7FZThe8YpXNKtbZmYjXjPPXF4NTAFuk/RrYBJws6Q/ALYAk0ttJ2Wtv/qkGnWAB/OyGfl1W18diohFEdERER1tbbu8wdTMzIaoaWcuEbEeeFnPfAZMR0Q8JGkFcJqk5RQ37x+NiK2SVgF/X7qJPwM4IyK2S3pM0nTgBmAO8K1sswKYC5ybX69qwuHtke476w2t7sKgveLL61vdBTOrQyMfRb4U+AXwOkmbJc3rp/lK4B6gC/gu8CmAiNgOnA2sy9dZWSPbfC/X+RVwddbPBf5E0ibg3TlvZmZN1LAzl4g4aYDl7aXpAE7to91iYHGNeidwaI36w8Cxg+yumZlVyO/QNzOzyjlczMyscg4XMzOrnMPFzMwq53AxM7PKOVzMzKxyDhczM6ucw8XMzCrncDEzs8o5XMzMrHIOFzMzq5zDxczMKudwMTOzyjlczMyscg4XMzOrnMPFzMwq53AxM7PKOVzMzKxyDhczM6ucw8XMzCrncDEzs8o1LFwkLZa0TdIdpdp5ku6SdLukKyWNLS07Q1KXpLslHVeqz8xal6TTS/Upkm7I+mWSxmR9n5zvyuXtjTpGMzOrrZFnLkuAmb1qq4FDI+KNwC+BMwAkTQNOBA7Jdb4jaZSkUcC3geOBacBJ2Rbga8D5EfEaYAcwL+vzgB1ZPz/bmZlZEzUsXCLiemB7r9o1EbEzZ9cCk3J6FrA8Ip6KiHuBLuDIfHVFxD0R8TSwHJglScAxwBW5/lLghNK2lub0FcCx2d7MzJqklfdcPgFcndMTgftLyzZnra/6gcAjpaDqqT9vW7n80WxvZmZN0pJwkXQmsBO4pBX7L/VjvqROSZ3d3d2t7IqZ2YjS9HCR9HHgvcBHIiKyvAWYXGo2KWt91R8Gxkoa3av+vG3l8gOy/S4iYlFEdERER1tb2zCPzMzMejQ1XCTNBL4AvD8inigtWgGcmE96TQGmAjcC64Cp+WTYGIqb/isylK4DZuf6c4GrStuam9OzgWtLIWZmZk0weuAmQyPpUuCdwEGSNgMLKJ4O2wdYnffY10bEX0bEBkmXAxspLpedGhHP5HZOA1YBo4DFEbEhd/FFYLmkrwK3ABdl/SLgYkldFA8UnNioYzQzs9oaFi4RcVKN8kU1aj3tzwHOqVFfCaysUb+H4mmy3vUngQ8OqrNmZlaphoWLWasd/a2jW92FQfv5p3/e6i6YVcLDv5iZWeUcLmZmVjmHi5mZVc7hYmZmlXO4mJlZ5RwuZmZWOYeLmZlVzuFiZmaVc7iYmVnlHC5mZlY5h4uZmVXO4WJmZpVzuJiZWeUcLmZmVjmHi5mZVc7hYmZmlXO4mJlZ5RwuZmZWOYeLmZlVzuFiZmaVa1i4SFosaZukO0q18ZJWS9qUX8dlXZIWSuqSdLukw0vrzM32myTNLdWPkLQ+11koSf3tw8zMmqeRZy5LgJm9aqcDayJiKrAm5wGOB6bmaz5wIRRBASwAjgKOBBaUwuJC4JTSejMH2IeZmTVJw8IlIq4HtvcqzwKW5vRS4IRSfVkU1gJjJR0MHAesjojtEbEDWA3MzGX7R8TaiAhgWa9t1dqHmZk1SbPvuUyIiK05/QAwIacnAveX2m3OWn/1zTXq/e1jF5LmS+qU1Nnd3T2EwzEzs1padkM/zziilfuIiEUR0RERHW1tbY3sipnZXqXZ4fJgXtIiv27L+hZgcqndpKz1V59Uo97fPszMrEmaHS4rgJ4nvuYCV5Xqc/KpsenAo3lpaxUwQ9K4vJE/A1iVyx6TND2fEpvTa1u19mFmZk0yulEblnQp8E7gIEmbKZ76Ohe4XNI84DfAh7L5SuA9QBfwBHAyQERsl3Q2sC7bnRURPQ8JfIriibR9gavzRT/7MDOzJmlYuETESX0sOrZG2wBO7WM7i4HFNeqdwKE16g/X2oeZmTWP36FvZmaVc7iYmVnlHC5mZlY5h4uZmVXO4WJmZpVzuJiZWeUcLmZmVjmHi5mZVc7hYmZmlXO4mJlZ5RwuZmZWOYeLmZlVzuFiZmaVc7iYmVnlHC5mZlY5h4uZmVXO4WJmZpVzuJiZWeUcLmZmVjmHi5mZVc7hYmZmlWtJuEj6rKQNku6QdKmkF0maIukGSV2SLpM0Jtvuk/Nduby9tJ0zsn63pONK9ZlZ65J0evOP0Mxs79b0cJE0EfgroCMiDgVGAScCXwPOj4jXADuAebnKPGBH1s/PdkialusdAswEviNplKRRwLeB44FpwEnZ1szMmqRVl8VGA/tKGg3sB2wFjgGuyOVLgRNyelbOk8uPlaSsL4+IpyLiXqALODJfXRFxT0Q8DSzPtmZm1iR1hYukNfXU6hERW4CvA/dRhMqjwE3AIxGxM5ttBibm9ETg/lx3Z7Y/sFzvtU5f9VrHNV9Sp6TO7u7uoRyOmZnV0G+45L2Q8cBBksZJGp+vdvr4hT0QSeMoziSmAC8HXkxxWavpImJRRHREREdbW1srumBmNiKNHmD5J4HPUITATYCy/hhwwRD3+W7g3ojoBpD0Q+BoYKyk0Xl2MgnYku23AJOBzXkZ7QDg4VK9R3mdvupmZtYE/Z65RMQ3I2IK8DcR8aqImJKvN0XEUMPlPmC6pP3y3smxwEbgOmB2tpkLXJXTK3KeXH5tRETWT8ynyaYAU4EbgXXA1Hz6bAzFTf8VQ+yrmZkNwUBnLgBExLckvRVoL68TEcsGu8OIuEHSFcDNwE7gFmAR8O/AcklfzdpFucpFwMWSuoDtFGFBRGyQdDlFMO0ETo2IZwAknQasongSbXFEbBhsP83MbOjqChdJFwOvBm4FnslyAIMOF4CIWAAs6FW+h+JJr95tnwQ+2Md2zgHOqVFfCawcSt/MzGz46goXoAOYlpejzMzM+lVvuNwB/AHFo8NmZjZM53x09sCNdiNn/vMVAzcqqTdcDgI2SroReKqnGBHvH9TezMxsr1BvuHylkZ0wM7ORpd6nxX7a6I6YmdnIUe/TYr+leDoMYAzwQuB3EbF/ozpmZmZ7rnrPXF7aM10aNHJ6ozplZmZ7tkGPihyFfwWOG7CxmZntleq9LPanpdkXULzv5cmG9MjMzPZ49T4t9r7S9E7g1/gzUszMrA/13nM5udEdMTOzkaPeDwubJOlKSdvy9QNJkxrdOTMz2zPVe0P/+xTD1r88X/+WNTMzs13UGy5tEfH9iNiZryWAP7rRzMxqqjdcHpb0UUmj8vVRik+DNDMz20W94fIJ4EPAAxQjI88GPt6gPpmZ2R6u3keRzwLmRsQOAEnjga9ThI6Zmdnz1Hvm8saeYAGIiO3AYY3pkpmZ7enqDZcXSBrXM5NnLvWe9ZiZ2V6m3oD4BvALSf+S8x+kxmfXm5mZQf3v0F8mqRM4Jkt/GhEbG9ctMzPbk9U9KnJEbIyIC/I1rGCRNFbSFZLuknSnpD+SNF7Sakmb8uu4bCtJCyV1Sbpd0uGl7czN9pskzS3Vj5C0PtdZmB8TYGZmTTLoIfcr8k3gPyLi9cCbgDuB04E1ETEVWJPzAMcDU/M1H7gQnr3vswA4CjgSWFC6L3QhcEppvZlNOCYzM0tNDxdJBwBvBy4CiIinI+IRilGWl2azpcAJOT0LWJafI7MWGCvpYIrPk1kdEdvzSbbVwMxctn9ErI2IAJaVtmVmZk3QijOXKUA38H1Jt0j6nqQXAxMiYmu2eQCYkNMTgftL62/OWn/1zTXqu5A0X1KnpM7u7u5hHpaZmfVoRbiMBg4HLoyIw4Df8dwlMKD4tEsgGt2RiFgUER0R0dHW5qHSzMyq0opw2Qxsjogbcv4KirB5MC9pkV+35fItwOTS+pOy1l99Uo26mZk1SdPDJSIeAO6X9LosHQtspBjSv+eJr7nAVTm9ApiTT41NBx7Ny2ergBmSxuWN/BnAqlz2mKTp+ZTYnNK2zMysCVr1LvtPA5dIGgPcA5xMEXSXS5oH/IZioEyAlcB7gC7giWxLRGyXdDawLtudlcPSAHwKWALsC1ydLzMza5KWhEtE3Ap01Fh0bI22AZzax3YWA4tr1DuBQ4fZTTMzG6JWvc/FzMxGMIeLmZlVzuFiZmaVc7iYmVnlHC5mZlY5h4uZmVXO4WJmZpVzuJiZWeUcLmZmVjmHi5mZVa5VY4uZ2TD99O3vaHUXBu0d1/+01V2wJvGZi5mZVc7hYmZmlXO4mJlZ5XzPZQBHfH5Zq7swKDedN6fVXTAz85mLmZlVz+FiZmaVc7iYmVnlHC5mZlY5h4uZmVXO4WJmZpVrWbhIGiXpFkk/yvkpkm6Q1CXpMkljsr5Pznfl8vbSNs7I+t2SjivVZ2atS9LpzT42M7O9XSvPXP4auLM0/zXg/Ih4DbADmJf1ecCOrJ+f7ZA0DTgROASYCXwnA2sU8G3geGAacFK2NTOzJmlJuEiaBPwP4Hs5L+AY4IpsshQ4Iadn5Ty5/NhsPwtYHhFPRcS9QBdwZL66IuKeiHgaWJ5tzcysSVp15vKPwBeA3+f8gcAjEbEz5zcDE3N6InA/QC5/NNs/W++1Tl/1XUiaL6lTUmd3d/dwj8nMzFLTw0XSe4FtEXFTs/fdW0QsioiOiOhoa2trdXfMzEaMVowtdjTwfknvAV4E7A98ExgraXSenUwCtmT7LcBkYLOk0cABwMOleo/yOn3VzcysCZp+5hIRZ0TEpIhop7ghf21EfAS4DpidzeYCV+X0ipwnl18bEZH1E/NpsinAVOBGYB0wNZ8+G5P7WNGEQzMzs7Q7jYr8RWC5pK8CtwAXZf0i4GJJXcB2irAgIjZIuhzYCOwETo2IZwAknQasAkYBiyNiQ1OPxMxsL9fScImInwA/yel7KJ706t3mSeCDfax/DnBOjfpKYGWFXTUzs0HYnc5czMyedcHn/q3VXRiU077xvlZ3Ybfi4V/MzKxyDhczM6ucw8XMzCrncDEzs8o5XMzMrHIOFzMzq5zDxczMKudwMTOzyjlczMyscg4XMzOrnMPFzMwq53AxM7PKOVzMzKxyDhczM6ucw8XMzCrncDEzs8o5XMzMrHIOFzMzq5zDxczMKudwMTOzyjU9XCRNlnSdpI2SNkj666yPl7Ra0qb8Oi7rkrRQUpek2yUdXtrW3Gy/SdLcUv0ISetznYWS1OzjNDPbm7XizGUn8LmImAZMB06VNA04HVgTEVOBNTkPcDwwNV/zgQuhCCNgAXAUcCSwoCeQss0ppfVmNuG4zMwsNT1cImJrRNyc078F7gQmArOApdlsKXBCTs8ClkVhLTBW0sHAccDqiNgeETuA1cDMXLZ/RKyNiACWlbZlZmZN0NJ7LpLagcOAG4AJEbE1Fz0ATMjpicD9pdU2Z62/+uYa9Vr7ny+pU1Jnd3f3sI7FzMye07JwkfQS4AfAZyLisfKyPOOIRvchIhZFREdEdLS1tTV6d2Zme42WhIukF1IEyyUR8cMsP5iXtMiv27K+BZhcWn1S1vqrT6pRNzOzJmnF02ICLgLujIj/XVq0Auh54msucFWpPiefGpsOPJqXz1YBMySNyxv5M4BVuewxSdNzX3NK2zIzsyYY3YJ9Hg18DFgv6dasfQk4F7hc0jzgN8CHctlK4D1AF/AEcDJARGyXdDawLtudFRHbc/pTwBJgX+DqfJmZWZM0PVwi4mdAX+87ObZG+wBO7WNbi4HFNeqdwKHD6KaZmQ2D36FvZmaVc7iYmVnlHC5mZlY5h4uZmVXO4WJmZpVzuJiZWeUcLmZmVjmHi5mZVc7hYmZmlXO4mJlZ5RwuZmZWOYeLmZlVzuFiZmaVc7iYmVnlHC5mZlY5h4uZmVXO4WJmZpVzuJiZWeUcLmZmVjmHi5mZVc7hYmZmlRux4SJppqS7JXVJOr3V/TEz25uMyHCRNAr4NnA8MA04SdK01vbKzGzvMSLDBTgS6IqIeyLiaWA5MKvFfTIz22soIlrdh8pJmg3MjIi/yPmPAUdFxGm92s0H5ufs64C7m9jNg4CHmri/ZhvJxzeSjw18fHu6Zh/fKyOirXdxdBM7sNuJiEXAolbsW1JnRHS0Yt/NMJKPbyQfG/j49nS7y/GN1MtiW4DJpflJWTMzsyYYqeGyDpgqaYqkMcCJwIoW98nMbK8xIi+LRcROSacBq4BRwOKI2NDibvXWkstxTTSSj28kHxv4+PZ0u8Xxjcgb+mZm1loj9bKYmZm1kMPFzMwq53DZDUk6UNJ1kh6XdEGr+wMgabGkbZLuGOZ22iX9l6Rb8/VPVfVxCH35taT12Y/OYWynz5+XpCNyH12SFkrS8HveZz9q/owkjZe0WtKm/DquAfv4iqQtpZ/re4a6j1btW9J+kv5d0l2SNkg6t7RsH0mX5c/xBkntwzuaxpF0Xh7D7ZKulDS2tOyMPIa7JR3XyH44XBpI0hhJLx7Cqk8Cfwv8TcVdGo4lwMyKtvWriHhzvv6yom0O1buyH8N5X0B/P68LgVOAqfmq6ntYy5I+tn86sCYipgJrcr7qfQCcX/q5rhzGPlq5769HxOuBw4CjJR2f9XnAjoh4DXA+8LVh7GPQBvkHwWrg0Ih4I/BL4IzcxjSKJ2cPofg+fieHymoIh0sDSPpDSd+geMf/awe7fkT8LiJ+RvFLa7cQEdcD2/trI+l9+VfdLZJ+LGlCk7rXMPUcU18/L0kHA/tHxNoonpxZBpzQqL728zOaBSzN6aW1+pBnlP9X0s35eusg99Fww9m3pJdIWpPHtl7SLsNBRcQTEXFdTj8N3EzxHjl4/vfwCuDYRp6F1tAp6RJJxwy034i4JiJ25uxann8MyyPiqYi4F+iiGCqrIRwuFZH0YkknS/oZ8F1gI/DGiLgll59fOm0vv0bSiM0/A6ZHxGEU47l9oY92U/KX9U8l/XHzureLAK6RdJOKoYBqqfeYapkIbC7Nb85as02IiK05/QBQK/S3AX8SEYcDHwYWDmE/p+WlmMXDufQ2RAPt+0ngA3l87wK+0d8v6byU9D6KMz0ofm73Q/FWB+BR4MAqD2AArwUuBU4DNkr6kqSX17HeJ4Crc/rZY0gN/fc4It/n0iJbgduBv4iIu3ovjIjPNr9LTTcJuCz/Yh8D3FujzVbgFRHxsKQjgH+VdEhEPNbMjqa3RcQWSS8DVku6K/86LqvnmPYYERGSar3/4IXABZLeDDzD4M+4LwTOpgjss4FvUPxia4Z69i3g7yW9Hfg9xS/VCRRh+/yG0miKX+QLI+KeBva7bhHxDPAj4EeS2oB/AO6T9NaIuLHWOpLOBHYClzSvp8/xmUt1ZlMMMfNDSV+W9Mrywr3kzOVbwAUR8Qbgk8CLejfIU/KHc/om4FcM4dJhFSJiS37dBlxJ7UsEAx5TP7bw3CUJaN0wRA9mOPZcqttWo81ngQeBNwEdFEFat4h4MCKeiYjfU5y5N+xyyxD3/RGgDTgiIt5Mcax9/SwXAZsi4h9LtWeHlMrwOQB4uKJDqIukAyR9kmK0kakUAXp7H20/DrwX+Eg892bGpg6L5XCpSF7n/DDwxxSnzFflNfr2XP7Z0g3H8uvcfja7pzmA5/6xzq3VQFJbz01ESa+i+E/S9L8O8zLmS3umgRlArSfhBjymvuSlqMckTc9LMHOAq4be6yFbwXN9n9tHHw4AtuYv6I9RjGxRt57wSh+g9veyIerc9wHAtoj4b0nvAl5Zow2SvpptP9NrUfl7OBu4tvRLu+Ek/TPFPaApwJyIeEdELIuIXe7LSppJcfn2/RHxRGnRCuDEfPJtCsX/vZpnPZWICL8a9KL4C2ryENf9NcXNy8cpro1Oa/GxXEpxSeu/sz/zarSZRREUNwHnAT+p0ebPgA3ArRT/Wd7XouN5FXBbvjYAZ/bRbsBj6u/nRXEWcAfFGdoF5KgYzfwZUdwbWANsAn4MjK+x7lSKv4Jvo3gS6vFB7uNiYH1uYwVwcBOPb8B9UwxD/4ts933gTqC9V5tJFJfW7sx/n7dSXOaG4iznXyhugt8IvKrJ/17fD4yus20Xxb2VnmP4p9KyM/Pf4t3A8Y3ss4d/MTOzyvmymJmZVc7hYmZmlXO4mJlZ5RwuZmZWOYeLmZlVzuFiZmaVc7iY9SLpP/uoL5E0exDbadcwP6JgdyPphBxd16xfDhezXiKi5ojABhQjKjtcbEAOF7NeJD2eXyXpgvxgpR8DLyu1+bKkdZLukLSoZ4RdFR8Odpuk24BTS+1HqfgQp3U5eu8nB+jD50tt/y5r7So+BGqJpF/mEOzvlvRzFR8EdmS2+4qkiyX9IuunDLCvL6oYhv425QdkSTol93+bpB+o+CCtt1K8U/y8HBfv1UP5/treweFi1rcPAK+j+Et9DlA+o7kgIt4SEYcC+1IMEgjF0CKfjog39drWPODRiHgL8BbglBzfaReSZlAMx3Ik8GbgiBzNF+A1FKP+vj5ffw68jeKDyr5U2swbgWOAPwK+3Nfw7Co+DGsWcFT2+X/loh/m8b2JYjiUeRHxnxTDq3w+inHxflVrm2bgcDHrz9uBS6MYcff/AdeWlr1LxYeIraf4JX5IfgbI2Hhu2P6LS+1nAHMk3QrcQDHe19Q+9jsjX7dQjL/2+lLbeyNifRQDTG6g+ITJoBgzq720jasi4r8i4iHgOvoepfjdwPcjBziMiJ4P4zpUxYeHracYUfiQPtY3q8mf52I2SJJeBHwH6IiI+yV9hYGH4hfFGc2qenYB/ENE/J9e+20HniqVfl+a/z3P///ce9DAwQ4iuAQ4ISJuy+Hb3znI9W0v5zMXs75dD3w475ccTPEJhvBckDwk6SUUQ7ATEY8Aj0h6Wy7/SGlbq4D/KemFAJJem0P917IK+ERuG0kT8wPNBmOWpBdJOpAiGNb10W41cLKk/XJf47P+UmBr9rd8HL/NZWb98pmLWd+upLjktRG4j2LIdiLiEUnfpRhK/wGe/4v7ZGCxik97vKZU/x7FZaub8+Z/NzU+yz63f42kPwR+kc8JPA58lOITIut1O8XlsIOAs/OyXq19/YeKT5/slPQ0sJLi3s3fUly+686vPYGyHPiupL8CZvu+i/XFQ+6bjTB5me7xiPh6q/tiey9fFjMzs8r5zMWsRSS9gec/UQbwVEQctSfvywwcLmZm1gC+LGZmZpVzuJiZWeUcLmZmVjmHi5mZVe7/A778xx+dd0bYAAAAAElFTkSuQmCC\n",
            "text/plain": [
              "<Figure size 432x288 with 1 Axes>"
            ]
          },
          "metadata": {
            "tags": [],
            "needs_background": "light"
          }
        }
      ]
    },
    {
      "cell_type": "markdown",
      "metadata": {
        "id": "Cav-Mjup_jIM",
        "colab_type": "text"
      },
      "source": [
        "To avoid a increase the dimensionality of our data, let's choose ```idade_empresas_anos``` to work with."
      ]
    },
    {
      "cell_type": "code",
      "metadata": {
        "id": "R7r8TXpoAuco",
        "colab_type": "code",
        "colab": {}
      },
      "source": [
        "drop_col(market, 'idade_emp_cat')"
      ],
      "execution_count": 0,
      "outputs": []
    },
    {
      "cell_type": "markdown",
      "metadata": {
        "id": "bIj7rXEdpAwM",
        "colab_type": "text"
      },
      "source": [
        "---\n",
        "The following variables tell us, primarily about the name of the companies and, in a second level, about the size of it. Although the second information may be relevant, there are other variables in the dataset that are better for this purpose."
      ]
    },
    {
      "cell_type": "code",
      "metadata": {
        "id": "1QpBjhaRodzo",
        "colab_type": "code",
        "colab": {}
      },
      "source": [
        "drop_col(market, 'fl_me')\n",
        "drop_col(market, 'fl_sa')\n",
        "drop_col(market, 'fl_epp')\n",
        "drop_col(market, 'fl_mei')\n",
        "drop_col(market, 'fl_ltda')"
      ],
      "execution_count": 0,
      "outputs": []
    },
    {
      "cell_type": "markdown",
      "metadata": {
        "id": "0tFD_eVgZru9",
        "colab_type": "text"
      },
      "source": [
        "----\n",
        "To our purpose, information about a possible extraordinary situation is identified by the IRS is not relevant. Thus, we will drop ```dt_situacao``` and ```fl_st_especial```."
      ]
    },
    {
      "cell_type": "code",
      "metadata": {
        "id": "Nb3rh756ZnWu",
        "colab_type": "code",
        "colab": {}
      },
      "source": [
        "drop_col(market, 'dt_situacao')\n",
        "drop_col(market, 'fl_st_especial')"
      ],
      "execution_count": 0,
      "outputs": []
    },
    {
      "cell_type": "markdown",
      "metadata": {
        "id": "tVSauyr1ecvT",
        "colab_type": "text"
      },
      "source": [
        "The next one is about if the companies performs any activity that is taxable under ISS and, also, is not relevant. "
      ]
    },
    {
      "cell_type": "code",
      "metadata": {
        "id": "iRl31-9JedC5",
        "colab_type": "code",
        "colab": {}
      },
      "source": [
        "drop_col(market, 'fl_passivel_iss')"
      ],
      "execution_count": 0,
      "outputs": []
    },
    {
      "cell_type": "markdown",
      "metadata": {
        "id": "lDbHSXgkapva",
        "colab_type": "text"
      },
      "source": [
        "\n",
        "In addition, ```fl_email``` and ```fl__telefone``` are not relevant because they just tell us about if there is a email or phone number registred in IRS database."
      ]
    },
    {
      "cell_type": "code",
      "metadata": {
        "id": "qVKeaEt3afIb",
        "colab_type": "code",
        "colab": {}
      },
      "source": [
        "drop_col(market, 'fl_email')\n",
        "drop_col(market, 'fl_telefone')"
      ],
      "execution_count": 0,
      "outputs": []
    },
    {
      "cell_type": "markdown",
      "metadata": {
        "id": "yE0SHVD1Bc42",
        "colab_type": "text"
      },
      "source": [
        "---\n",
        "Now, let's take a look at ```fl_spa```, ```fl_ant```, ```fl_veiculo```, ```vl_total_veiculos_leves_grupo``` and ```vl_total_veiculos_pesados_grupo```."
      ]
    },
    {
      "cell_type": "code",
      "metadata": {
        "id": "0t9FthowcTjj",
        "colab_type": "code",
        "outputId": "04e21c07-13e8-46e0-a3eb-b8e822faeaa0",
        "colab": {
          "base_uri": "https://localhost:8080/",
          "height": 68
        }
      },
      "source": [
        "print(market['fl_spa'].value_counts())"
      ],
      "execution_count": 27,
      "outputs": [
        {
          "output_type": "stream",
          "text": [
            "False    460091\n",
            "True        280\n",
            "Name: fl_spa, dtype: int64\n"
          ],
          "name": "stdout"
        }
      ]
    },
    {
      "cell_type": "code",
      "metadata": {
        "id": "w1P71AB7cUaZ",
        "colab_type": "code",
        "outputId": "bb83040b-dddd-463a-f71f-e985ddba5220",
        "colab": {
          "base_uri": "https://localhost:8080/",
          "height": 68
        }
      },
      "source": [
        "print(market['fl_antt'].value_counts())"
      ],
      "execution_count": 28,
      "outputs": [
        {
          "output_type": "stream",
          "text": [
            "False    457095\n",
            "True       3276\n",
            "Name: fl_antt, dtype: int64\n"
          ],
          "name": "stdout"
        }
      ]
    },
    {
      "cell_type": "code",
      "metadata": {
        "id": "l-yb1a8IcVKR",
        "colab_type": "code",
        "outputId": "7bddd4d4-93d5-4c06-e9d7-5e10428c748f",
        "colab": {
          "base_uri": "https://localhost:8080/",
          "height": 68
        }
      },
      "source": [
        "print(market['fl_veiculo'].value_counts())"
      ],
      "execution_count": 29,
      "outputs": [
        {
          "output_type": "stream",
          "text": [
            "False    429687\n",
            "True      30684\n",
            "Name: fl_veiculo, dtype: int64\n"
          ],
          "name": "stdout"
        }
      ]
    },
    {
      "cell_type": "code",
      "metadata": {
        "id": "-DHNqI47d4nR",
        "colab_type": "code",
        "outputId": "e5efbc26-8d15-4993-d188-cfd425b7195b",
        "colab": {
          "base_uri": "https://localhost:8080/",
          "height": 221
        }
      },
      "source": [
        "print(market['vl_total_veiculos_leves_grupo'].value_counts())"
      ],
      "execution_count": 30,
      "outputs": [
        {
          "output_type": "stream",
          "text": [
            "0.0       424180\n",
            "1.0        15738\n",
            "2.0         5232\n",
            "3.0         2610\n",
            "4.0         1569\n",
            "           ...  \n",
            "601.0          1\n",
            "353.0          1\n",
            "9713.0         1\n",
            "229.0          1\n",
            "218.0          1\n",
            "Name: vl_total_veiculos_leves_grupo, Length: 310, dtype: int64\n"
          ],
          "name": "stdout"
        }
      ]
    },
    {
      "cell_type": "code",
      "metadata": {
        "id": "7cKP9Uvxd6KP",
        "colab_type": "code",
        "outputId": "4559815c-c356-4a21-a1ef-07dee0459601",
        "colab": {
          "base_uri": "https://localhost:8080/",
          "height": 221
        }
      },
      "source": [
        "print(market['vl_total_veiculos_pesados_grupo'].value_counts())"
      ],
      "execution_count": 31,
      "outputs": [
        {
          "output_type": "stream",
          "text": [
            "0.0       441360\n",
            "1.0         6785\n",
            "2.0         2585\n",
            "3.0         1301\n",
            "4.0          827\n",
            "           ...  \n",
            "136.0          1\n",
            "681.0          1\n",
            "341.0          1\n",
            "191.0          1\n",
            "1495.0         1\n",
            "Name: vl_total_veiculos_pesados_grupo, Length: 296, dtype: int64\n"
          ],
          "name": "stdout"
        }
      ]
    },
    {
      "cell_type": "markdown",
      "metadata": {
        "id": "9yLc777LcusC",
        "colab_type": "text"
      },
      "source": [
        "We will drop all five variables because they have at least 90% of the distribution as a single value."
      ]
    },
    {
      "cell_type": "code",
      "metadata": {
        "id": "eFb95DTuBe5E",
        "colab_type": "code",
        "colab": {}
      },
      "source": [
        "drop_col(market, 'fl_spa')\n",
        "drop_col(market, 'fl_antt')\n",
        "drop_col(market, 'fl_veiculo')\n",
        "drop_col(market, 'vl_total_veiculos_leves_grupo')\n",
        "drop_col(market, 'vl_total_veiculos_pesados_grupo')"
      ],
      "execution_count": 0,
      "outputs": []
    },
    {
      "cell_type": "markdown",
      "metadata": {
        "id": "e_0vGnBKB-Xp",
        "colab_type": "text"
      },
      "source": [
        "----\n",
        "The following variables deal with the company's financial health and the date of the last update of this item.For our purpose, they are disposable.\n"
      ]
    },
    {
      "cell_type": "code",
      "metadata": {
        "id": "pXTL5AmrBWQb",
        "colab_type": "code",
        "colab": {}
      },
      "source": [
        "drop_col(market, 'de_saude_tributaria')\n",
        "drop_col(market, 'de_saude_rescencia')\n",
        "drop_col(market, 'nu_meses_rescencia')"
      ],
      "execution_count": 0,
      "outputs": []
    },
    {
      "cell_type": "markdown",
      "metadata": {
        "id": "9ljHo0TWG7_f",
        "colab_type": "text"
      },
      "source": [
        "---\n",
        "Let's take a look at ```nm_meso_regiao``` ,```nm_micro_regiao``` and ```sg_uf```."
      ]
    },
    {
      "cell_type": "code",
      "metadata": {
        "id": "NVBqdvSIct_K",
        "colab_type": "code",
        "outputId": "e88c648f-12a8-4b4f-eacd-3c256f3cfe08",
        "colab": {
          "base_uri": "https://localhost:8080/",
          "height": 357
        }
      },
      "source": [
        "print(market['nm_meso_regiao'].value_counts())"
      ],
      "execution_count": 34,
      "outputs": [
        {
          "output_type": "stream",
          "text": [
            "CENTRO AMAZONENSE         71469\n",
            "NORTE MARANHENSE          61331\n",
            "LESTE POTIGUAR            58762\n",
            "CENTRO NORTE PIAUIENSE    42244\n",
            "OESTE MARANHENSE          26796\n",
            "OESTE POTIGUAR            20860\n",
            "LESTE MARANHENSE          17651\n",
            "VALE DO ACRE              16539\n",
            "CENTRO MARANHENSE         13755\n",
            "SUDOESTE PIAUIENSE        12180\n",
            "NORTE PIAUIENSE           11919\n",
            "CENTRAL POTIGUAR          10681\n",
            "SUDESTE PIAUIENSE         10049\n",
            "AGRESTE POTIGUAR           7845\n",
            "SUL MARANHENSE             7382\n",
            "SUL AMAZONENSE             4931\n",
            "VALE DO JURUA              3900\n",
            "SUDOESTE AMAZONENSE        3738\n",
            "NORTE AMAZONENSE           1568\n",
            "Name: nm_meso_regiao, dtype: int64\n"
          ],
          "name": "stdout"
        }
      ]
    },
    {
      "cell_type": "code",
      "metadata": {
        "id": "S-aRReH-csPE",
        "colab_type": "code",
        "outputId": "e12768d6-c57f-4808-e931-095cd5725612",
        "colab": {
          "base_uri": "https://localhost:8080/",
          "height": 221
        }
      },
      "source": [
        "print(market['nm_micro_regiao'].value_counts())"
      ],
      "execution_count": 35,
      "outputs": [
        {
          "output_type": "stream",
          "text": [
            "MANAUS                            60008\n",
            "NATAL                             46745\n",
            "AGLOMERACAO URBANA DE SAO LUIS    45875\n",
            "TERESINA                          33887\n",
            "IMPERATRIZ                        15912\n",
            "                                  ...  \n",
            "BERTOLINIA                          854\n",
            "PIO IX                              823\n",
            "PURUS                               757\n",
            "MEDIO OESTE                         562\n",
            "JAPURA                              190\n",
            "Name: nm_micro_regiao, Length: 73, dtype: int64\n"
          ],
          "name": "stdout"
        }
      ]
    },
    {
      "cell_type": "code",
      "metadata": {
        "id": "GT-IdERScvVr",
        "colab_type": "code",
        "outputId": "e1416861-c16d-4c8a-eca2-3cc04167b79f",
        "colab": {
          "base_uri": "https://localhost:8080/",
          "height": 136
        }
      },
      "source": [
        "print(market['sg_uf'].value_counts())"
      ],
      "execution_count": 36,
      "outputs": [
        {
          "output_type": "stream",
          "text": [
            "MA    127654\n",
            "RN     98837\n",
            "AM     82114\n",
            "PI     76686\n",
            "RO     56469\n",
            "AC     20538\n",
            "Name: sg_uf, dtype: int64\n"
          ],
          "name": "stdout"
        }
      ]
    },
    {
      "cell_type": "markdown",
      "metadata": {
        "id": "PnpDdP3CczHD",
        "colab_type": "text"
      },
      "source": [
        "As has already happened, here we have the case of variables that deal strictly with the same issue (location), but with different degrees of specificity. Let's stay with the most generalist, which is the ```sg_uf```."
      ]
    },
    {
      "cell_type": "code",
      "metadata": {
        "id": "KqTL_Yg6cznL",
        "colab_type": "code",
        "colab": {}
      },
      "source": [
        "drop_col(market, 'nm_meso_regiao')\n",
        "drop_col(market, 'nm_micro_regiao')"
      ],
      "execution_count": 0,
      "outputs": []
    },
    {
      "cell_type": "markdown",
      "metadata": {
        "id": "M7tcR_q-Hp5F",
        "colab_type": "text"
      },
      "source": [
        "---\n",
        "All of the variables below inform us about the company's partners. This kind of data is irrelevant, let's drop these columns."
      ]
    },
    {
      "cell_type": "code",
      "metadata": {
        "id": "bKk8MajIBiuT",
        "colab_type": "code",
        "colab": {}
      },
      "source": [
        "drop_col(market, 'qt_socios')\n",
        "drop_col(market, 'qt_socios_pf')\n",
        "drop_col(market, 'qt_socios_pj')"
      ],
      "execution_count": 0,
      "outputs": []
    },
    {
      "cell_type": "markdown",
      "metadata": {
        "id": "U-ZHjdr0H2L4",
        "colab_type": "text"
      },
      "source": [
        "---\n",
        "Here we have another group of variables to be analyzed: ```vl_faturamento_estimado_grupo_aux``` and  ```de_faixa_faturamento_estimado_grupo```."
      ]
    },
    {
      "cell_type": "markdown",
      "metadata": {
        "id": "LRZvqteYio_2",
        "colab_type": "text"
      },
      "source": [
        "As we want to recommend leads, data about the group in which a company belongs is not important to us. Let's drop ```vl_faturamento_estimado_grupo_aux```,  ```de_faixa_faturamento_estimado_grupo``` and ```sg_uf_matriz```."
      ]
    },
    {
      "cell_type": "code",
      "metadata": {
        "id": "68SQQGLEinvx",
        "colab_type": "code",
        "colab": {}
      },
      "source": [
        "drop_col(market, 'vl_faturamento_estimado_grupo_aux')\n",
        "drop_col(market, 'de_faixa_faturamento_estimado_grupo')\n",
        "drop_col(market, 'sg_uf_matriz')"
      ],
      "execution_count": 0,
      "outputs": []
    },
    {
      "cell_type": "markdown",
      "metadata": {
        "id": "LM5tKK4gjb4k",
        "colab_type": "text"
      },
      "source": [
        "---\n",
        "Now, let's see ```vl_faturamento_estimado_aux``` and ```de_faixa_faturamento_estimado```."
      ]
    },
    {
      "cell_type": "code",
      "metadata": {
        "id": "E_Xx1VuNIBLN",
        "colab_type": "code",
        "outputId": "15a8d27b-c307-4eb3-9b7d-34cc9eb73f50",
        "colab": {
          "base_uri": "https://localhost:8080/",
          "height": 361
        }
      },
      "source": [
        "fig, axes = plt.subplots(figsize=(10, 5))\n",
        "sns.kdeplot(market['vl_faturamento_estimado_aux'], shade=True)"
      ],
      "execution_count": 40,
      "outputs": [
        {
          "output_type": "execute_result",
          "data": {
            "text/plain": [
              "<matplotlib.axes._subplots.AxesSubplot at 0x7fa68dc5d7f0>"
            ]
          },
          "metadata": {
            "tags": []
          },
          "execution_count": 40
        },
        {
          "output_type": "display_data",
          "data": {
            "image/png": "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\n",
            "text/plain": [
              "<Figure size 720x360 with 1 Axes>"
            ]
          },
          "metadata": {
            "tags": [],
            "needs_background": "light"
          }
        }
      ]
    },
    {
      "cell_type": "code",
      "metadata": {
        "id": "igmmh2zQjTPV",
        "colab_type": "code",
        "outputId": "6bfc3afb-7cef-4915-8588-052cc3af10ad",
        "colab": {
          "base_uri": "https://localhost:8080/",
          "height": 623
        }
      },
      "source": [
        "fig, axes = plt.subplots(figsize=(10, 10))\n",
        "sns.countplot(y=market['de_faixa_faturamento_estimado'])"
      ],
      "execution_count": 41,
      "outputs": [
        {
          "output_type": "execute_result",
          "data": {
            "text/plain": [
              "<matplotlib.axes._subplots.AxesSubplot at 0x7fa68dbbd0f0>"
            ]
          },
          "metadata": {
            "tags": []
          },
          "execution_count": 41
        },
        {
          "output_type": "display_data",
          "data": {
            "image/png": "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\n",
            "text/plain": [
              "<Figure size 720x720 with 1 Axes>"
            ]
          },
          "metadata": {
            "tags": [],
            "needs_background": "light"
          }
        }
      ]
    },
    {
      "cell_type": "markdown",
      "metadata": {
        "id": "E6z8h_bkhuX4",
        "colab_type": "text"
      },
      "source": [
        "The two variables previously plotted are the same thing, ```de_faixa_faturamento_estimado``` being a categorical version of ```vl_faturamento_estimado_aux```. In order not to increase the dimensionality, we will keep the numeric one."
      ]
    },
    {
      "cell_type": "code",
      "metadata": {
        "id": "1tnbDaDKgANx",
        "colab_type": "code",
        "colab": {}
      },
      "source": [
        "drop_col(market, 'de_faixa_faturamento_estimado')"
      ],
      "execution_count": 0,
      "outputs": []
    },
    {
      "cell_type": "markdown",
      "metadata": {
        "id": "YaWA_VomIbnY",
        "colab_type": "text"
      },
      "source": [
        "---\n",
        "The ```qt_filiais``` column have a low variance, because approximately\n",
        "90% of companies have 0 subsidiaries."
      ]
    },
    {
      "cell_type": "code",
      "metadata": {
        "id": "tr08pJsSIWsJ",
        "colab_type": "code",
        "outputId": "9e8152af-6c86-4be2-eb11-800a0d5049cd",
        "colab": {
          "base_uri": "https://localhost:8080/",
          "height": 221
        }
      },
      "source": [
        "print(market['qt_filiais'].value_counts())"
      ],
      "execution_count": 43,
      "outputs": [
        {
          "output_type": "stream",
          "text": [
            "0      418043\n",
            "1       19561\n",
            "2        5943\n",
            "3        2884\n",
            "4        1772\n",
            "        ...  \n",
            "173         1\n",
            "148         1\n",
            "209         1\n",
            "215         1\n",
            "404         1\n",
            "Name: qt_filiais, Length: 304, dtype: int64\n"
          ],
          "name": "stdout"
        }
      ]
    },
    {
      "cell_type": "markdown",
      "metadata": {
        "id": "hCofLJCBmlvW",
        "colab_type": "text"
      },
      "source": [
        "Thus, let's drop it."
      ]
    },
    {
      "cell_type": "code",
      "metadata": {
        "id": "rnieYwe_UNrW",
        "colab_type": "code",
        "colab": {}
      },
      "source": [
        "drop_col(market, 'qt_filiais')"
      ],
      "execution_count": 0,
      "outputs": []
    },
    {
      "cell_type": "markdown",
      "metadata": {
        "id": "j3ffAaKHphZ0",
        "colab_type": "text"
      },
      "source": [
        "---\n",
        "The following variables are about the company's tax regime and this information is irrelevant to the problem in question."
      ]
    },
    {
      "cell_type": "code",
      "metadata": {
        "id": "xtr45K4Jpmrd",
        "colab_type": "code",
        "colab": {}
      },
      "source": [
        "drop_col(market, 'fl_optante_simei')\n",
        "drop_col(market, 'fl_optante_simples')\n",
        "drop_col(market, 'fl_simples_irregular')"
      ],
      "execution_count": 0,
      "outputs": []
    },
    {
      "cell_type": "markdown",
      "metadata": {
        "id": "I7DATk49r2Ne",
        "colab_type": "text"
      },
      "source": [
        "---\n",
        "The probability of company being operating is irrelevant by now, so we can drop```de_nivel_atividade```."
      ]
    },
    {
      "cell_type": "code",
      "metadata": {
        "id": "SRA5QelbsIbN",
        "colab_type": "code",
        "colab": {}
      },
      "source": [
        "drop_col(market, 'de_nivel_atividade')"
      ],
      "execution_count": 0,
      "outputs": []
    }
  ]
}
>>>>>>> d2f4b3493057ca50556976748bc5f5ce4fe180d3
