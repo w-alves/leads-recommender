{
  "nbformat": 4,
  "nbformat_minor": 0,
  "metadata": {
    "colab": {
      "name": "leads-recommender.ipynb",
      "provenance": [],
      "collapsed_sections": [],
      "authorship_tag": "ABX9TyOK4xDRWniLOoc/0mcuRHLs",
      "include_colab_link": true
    },
    "kernelspec": {
      "name": "python3",
      "display_name": "Python 3"
    }
  },
  "cells": [
    {
      "cell_type": "markdown",
      "metadata": {
        "id": "view-in-github",
        "colab_type": "text"
      },
      "source": [
        "<a href=\"https://colab.research.google.com/github/w-rfrsh/leads-recommender/blob/master/leads_recommender.ipynb\" target=\"_parent\"><img src=\"https://colab.research.google.com/assets/colab-badge.svg\" alt=\"Open In Colab\"/></a>"
      ]
    },
    {
      "cell_type": "markdown",
      "metadata": {
        "id": "KXTn3DH0X7xC",
        "colab_type": "text"
      },
      "source": [
        "### Understending the problem\n",
        "\n",
        "**Objective**\n",
        "\n",
        "The purpose of this product is to provide an automated service that recommends leads to a user given their current customer list (Portfolio).\n",
        "\n",
        "**Contextualization**\n",
        "\n",
        "Some companies would like to know who are the other companies in a given market (population) that are most likely to become their next customers. That is, your solution must find in the market who are the most adherent leads given the characteristics of the customers present in the user's portfolio.\n",
        "\n",
        "In addition, your solution must be user agnostic. Any user with a list of customers who want to explore this market can extract value from the service.\n",
        "\n",
        "For the challenge, the following bases should be considered:\n",
        "\n",
        "> Market: Base with information about the companies in the market to be  considered. \n",
        "\n",
        "> Portfolio 1: Company customer ids 1\n",
        "\n",
        "> Portfolio 2: Company customer ids 2\n",
        "\n",
        "> Portfolio 3: Company customer ids 3\n",
        "\n",
        "Note: all companies (ids) in the portfolios are contained in the Market (population base).\n",
        "\n",
        "Link to download the Market, Portfolio 1, Portfolio 2 and Portfolio 3 bases respectively:"
      ]
    },
    {
      "cell_type": "markdown",
      "metadata": {
        "id": "4TWN0-rqYADq",
        "colab_type": "text"
      },
      "source": [
        "# General setup"
      ]
    },
    {
      "cell_type": "markdown",
      "metadata": {
        "id": "VQTQZTF3YMTL",
        "colab_type": "text"
      },
      "source": [
        "## Imports"
      ]
    },
    {
      "cell_type": "code",
      "metadata": {
        "id": "nJ1wNm4VX8Hv",
        "colab_type": "code",
        "colab": {
          "base_uri": "https://localhost:8080/",
          "height": 71
        },
        "outputId": "7c39198d-7733-48b0-8961-79ded4a8f226"
      },
      "source": [
        "#Importing\n",
        "import pandas as pd\n",
        "import numpy as np\n",
        "import matplotlib.pyplot as plt\n",
        "import seaborn as sns"
      ],
      "execution_count": 1,
      "outputs": [
        {
          "output_type": "stream",
          "text": [
            "/usr/local/lib/python3.6/dist-packages/statsmodels/tools/_testing.py:19: FutureWarning: pandas.util.testing is deprecated. Use the functions in the public API at pandas.testing instead.\n",
            "  import pandas.util.testing as tm\n"
          ],
          "name": "stderr"
        }
      ]
    },
    {
      "cell_type": "markdown",
      "metadata": {
        "id": "bbnqgSYlYOaz",
        "colab_type": "text"
      },
      "source": [
        "## Datasets"
      ]
    },
    {
      "cell_type": "code",
      "metadata": {
        "id": "kDKlbEgdYI14",
        "colab_type": "code",
        "colab": {
          "base_uri": "https://localhost:8080/",
          "height": 122
        },
        "outputId": "dfff9f62-3ba0-4a1a-991a-98a9bde67994"
      },
      "source": [
        "#Mounting at Google Drive\n",
        "from google.colab import drive\n",
        "drive.mount('/content/gdrive')"
      ],
      "execution_count": 2,
      "outputs": [
        {
          "output_type": "stream",
          "text": [
            "Go to this URL in a browser: https://accounts.google.com/o/oauth2/auth?client_id=947318989803-6bn6qk8qdgf4n4g3pfee6491hc0brc4i.apps.googleusercontent.com&redirect_uri=urn%3aietf%3awg%3aoauth%3a2.0%3aoob&response_type=code&scope=email%20https%3a%2f%2fwww.googleapis.com%2fauth%2fdocs.test%20https%3a%2f%2fwww.googleapis.com%2fauth%2fdrive%20https%3a%2f%2fwww.googleapis.com%2fauth%2fdrive.photos.readonly%20https%3a%2f%2fwww.googleapis.com%2fauth%2fpeopleapi.readonly\n",
            "\n",
            "Enter your authorization code:\n",
            "··········\n",
            "Mounted at /content/gdrive\n"
          ],
          "name": "stdout"
        }
      ]
    },
    {
      "cell_type": "code",
      "metadata": {
        "id": "mC84ZaqIYRBz",
        "colab_type": "code",
        "colab": {}
      },
      "source": [
        "#Reading main dataframe\n",
        "raw_market = pd.read_csv('gdrive/My Drive/Leads Recommender/data/estaticos_market.csv', index_col='id')"
      ],
      "execution_count": 0,
      "outputs": []
    },
    {
      "cell_type": "code",
      "metadata": {
        "id": "SQ2_7If1YXPK",
        "colab_type": "code",
        "colab": {
          "base_uri": "https://localhost:8080/",
          "height": 488
        },
        "outputId": "38561e45-66c0-48f7-a72c-00b8bb9c0067"
      },
      "source": [
        "#Showing the main df\n",
        "market = raw_market.copy().drop(columns = 'Unnamed: 0')\n",
        "market.head()"
      ],
      "execution_count": 4,
      "outputs": [
        {
          "output_type": "execute_result",
          "data": {
            "text/html": [
              "<div>\n",
              "<style scoped>\n",
              "    .dataframe tbody tr th:only-of-type {\n",
              "        vertical-align: middle;\n",
              "    }\n",
              "\n",
              "    .dataframe tbody tr th {\n",
              "        vertical-align: top;\n",
              "    }\n",
              "\n",
              "    .dataframe thead th {\n",
              "        text-align: right;\n",
              "    }\n",
              "</style>\n",
              "<table border=\"1\" class=\"dataframe\">\n",
              "  <thead>\n",
              "    <tr style=\"text-align: right;\">\n",
              "      <th></th>\n",
              "      <th>fl_matriz</th>\n",
              "      <th>de_natureza_juridica</th>\n",
              "      <th>sg_uf</th>\n",
              "      <th>natureza_juridica_macro</th>\n",
              "      <th>de_ramo</th>\n",
              "      <th>setor</th>\n",
              "      <th>idade_empresa_anos</th>\n",
              "      <th>idade_emp_cat</th>\n",
              "      <th>fl_me</th>\n",
              "      <th>fl_sa</th>\n",
              "      <th>fl_epp</th>\n",
              "      <th>fl_mei</th>\n",
              "      <th>fl_ltda</th>\n",
              "      <th>dt_situacao</th>\n",
              "      <th>fl_st_especial</th>\n",
              "      <th>fl_email</th>\n",
              "      <th>fl_telefone</th>\n",
              "      <th>fl_rm</th>\n",
              "      <th>nm_divisao</th>\n",
              "      <th>nm_segmento</th>\n",
              "      <th>fl_spa</th>\n",
              "      <th>fl_antt</th>\n",
              "      <th>fl_veiculo</th>\n",
              "      <th>vl_total_tancagem</th>\n",
              "      <th>vl_total_veiculos_antt</th>\n",
              "      <th>vl_total_veiculos_leves</th>\n",
              "      <th>vl_total_veiculos_pesados</th>\n",
              "      <th>fl_optante_simples</th>\n",
              "      <th>qt_art</th>\n",
              "      <th>vl_total_veiculos_pesados_grupo</th>\n",
              "      <th>vl_total_veiculos_leves_grupo</th>\n",
              "      <th>vl_total_tancagem_grupo</th>\n",
              "      <th>vl_total_veiculos_antt_grupo</th>\n",
              "      <th>vl_potenc_cons_oleo_gas</th>\n",
              "      <th>fl_optante_simei</th>\n",
              "      <th>sg_uf_matriz</th>\n",
              "      <th>de_saude_tributaria</th>\n",
              "      <th>de_saude_rescencia</th>\n",
              "      <th>nu_meses_rescencia</th>\n",
              "      <th>de_nivel_atividade</th>\n",
              "      <th>...</th>\n",
              "      <th>vl_faturamento_estimado_aux</th>\n",
              "      <th>vl_faturamento_estimado_grupo_aux</th>\n",
              "      <th>qt_ex_funcionarios</th>\n",
              "      <th>qt_funcionarios_grupo</th>\n",
              "      <th>percent_func_genero_masc</th>\n",
              "      <th>percent_func_genero_fem</th>\n",
              "      <th>idade_ate_18</th>\n",
              "      <th>idade_de_19_a_23</th>\n",
              "      <th>idade_de_24_a_28</th>\n",
              "      <th>idade_de_29_a_33</th>\n",
              "      <th>idade_de_34_a_38</th>\n",
              "      <th>idade_de_39_a_43</th>\n",
              "      <th>idade_de_44_a_48</th>\n",
              "      <th>idade_de_49_a_53</th>\n",
              "      <th>idade_de_54_a_58</th>\n",
              "      <th>idade_acima_de_58</th>\n",
              "      <th>grau_instrucao_macro_analfabeto</th>\n",
              "      <th>grau_instrucao_macro_escolaridade_fundamental</th>\n",
              "      <th>grau_instrucao_macro_escolaridade_media</th>\n",
              "      <th>grau_instrucao_macro_escolaridade_superior</th>\n",
              "      <th>grau_instrucao_macro_desconhecido</th>\n",
              "      <th>total</th>\n",
              "      <th>meses_ultima_contratacaco</th>\n",
              "      <th>qt_admitidos_12meses</th>\n",
              "      <th>qt_desligados_12meses</th>\n",
              "      <th>qt_desligados</th>\n",
              "      <th>qt_admitidos</th>\n",
              "      <th>media_meses_servicos_all</th>\n",
              "      <th>max_meses_servicos_all</th>\n",
              "      <th>min_meses_servicos_all</th>\n",
              "      <th>media_meses_servicos</th>\n",
              "      <th>max_meses_servicos</th>\n",
              "      <th>min_meses_servicos</th>\n",
              "      <th>qt_funcionarios</th>\n",
              "      <th>qt_funcionarios_12meses</th>\n",
              "      <th>qt_funcionarios_24meses</th>\n",
              "      <th>tx_crescimento_12meses</th>\n",
              "      <th>tx_crescimento_24meses</th>\n",
              "      <th>tx_rotatividade</th>\n",
              "      <th>qt_filiais</th>\n",
              "    </tr>\n",
              "    <tr>\n",
              "      <th>id</th>\n",
              "      <th></th>\n",
              "      <th></th>\n",
              "      <th></th>\n",
              "      <th></th>\n",
              "      <th></th>\n",
              "      <th></th>\n",
              "      <th></th>\n",
              "      <th></th>\n",
              "      <th></th>\n",
              "      <th></th>\n",
              "      <th></th>\n",
              "      <th></th>\n",
              "      <th></th>\n",
              "      <th></th>\n",
              "      <th></th>\n",
              "      <th></th>\n",
              "      <th></th>\n",
              "      <th></th>\n",
              "      <th></th>\n",
              "      <th></th>\n",
              "      <th></th>\n",
              "      <th></th>\n",
              "      <th></th>\n",
              "      <th></th>\n",
              "      <th></th>\n",
              "      <th></th>\n",
              "      <th></th>\n",
              "      <th></th>\n",
              "      <th></th>\n",
              "      <th></th>\n",
              "      <th></th>\n",
              "      <th></th>\n",
              "      <th></th>\n",
              "      <th></th>\n",
              "      <th></th>\n",
              "      <th></th>\n",
              "      <th></th>\n",
              "      <th></th>\n",
              "      <th></th>\n",
              "      <th></th>\n",
              "      <th></th>\n",
              "      <th></th>\n",
              "      <th></th>\n",
              "      <th></th>\n",
              "      <th></th>\n",
              "      <th></th>\n",
              "      <th></th>\n",
              "      <th></th>\n",
              "      <th></th>\n",
              "      <th></th>\n",
              "      <th></th>\n",
              "      <th></th>\n",
              "      <th></th>\n",
              "      <th></th>\n",
              "      <th></th>\n",
              "      <th></th>\n",
              "      <th></th>\n",
              "      <th></th>\n",
              "      <th></th>\n",
              "      <th></th>\n",
              "      <th></th>\n",
              "      <th></th>\n",
              "      <th></th>\n",
              "      <th></th>\n",
              "      <th></th>\n",
              "      <th></th>\n",
              "      <th></th>\n",
              "      <th></th>\n",
              "      <th></th>\n",
              "      <th></th>\n",
              "      <th></th>\n",
              "      <th></th>\n",
              "      <th></th>\n",
              "      <th></th>\n",
              "      <th></th>\n",
              "      <th></th>\n",
              "      <th></th>\n",
              "      <th></th>\n",
              "      <th></th>\n",
              "      <th></th>\n",
              "      <th></th>\n",
              "    </tr>\n",
              "  </thead>\n",
              "  <tbody>\n",
              "    <tr>\n",
              "      <th>a6984c3ae395090e3bee8ad63c3758b110de096d5d819583a784a113726db849</th>\n",
              "      <td>True</td>\n",
              "      <td>SOCIEDADE EMPRESARIA LIMITADA</td>\n",
              "      <td>RN</td>\n",
              "      <td>ENTIDADES EMPRESARIAIS</td>\n",
              "      <td>INDUSTRIA DA CONSTRUCAO</td>\n",
              "      <td>CONSTRUÇÃO CIVIL</td>\n",
              "      <td>14.457534</td>\n",
              "      <td>10 a 15</td>\n",
              "      <td>False</td>\n",
              "      <td>False</td>\n",
              "      <td>False</td>\n",
              "      <td>False</td>\n",
              "      <td>False</td>\n",
              "      <td>2005-03-25</td>\n",
              "      <td>False</td>\n",
              "      <td>True</td>\n",
              "      <td>True</td>\n",
              "      <td>SIM</td>\n",
              "      <td>CONSTRUCAO DE EDIFICIOS</td>\n",
              "      <td>CONSTRUCAO</td>\n",
              "      <td>False</td>\n",
              "      <td>False</td>\n",
              "      <td>False</td>\n",
              "      <td>NaN</td>\n",
              "      <td>NaN</td>\n",
              "      <td>NaN</td>\n",
              "      <td>NaN</td>\n",
              "      <td>True</td>\n",
              "      <td>8.0</td>\n",
              "      <td>0.0</td>\n",
              "      <td>0.0</td>\n",
              "      <td>NaN</td>\n",
              "      <td>NaN</td>\n",
              "      <td>NaN</td>\n",
              "      <td>False</td>\n",
              "      <td>RN</td>\n",
              "      <td>VERDE</td>\n",
              "      <td>ACIMA DE 1 ANO</td>\n",
              "      <td>23.0</td>\n",
              "      <td>ALTA</td>\n",
              "      <td>...</td>\n",
              "      <td>3132172.8</td>\n",
              "      <td>3132172.8</td>\n",
              "      <td>119.0</td>\n",
              "      <td>26.0</td>\n",
              "      <td>100.0</td>\n",
              "      <td>0.0</td>\n",
              "      <td>NaN</td>\n",
              "      <td>1.0</td>\n",
              "      <td>4.0</td>\n",
              "      <td>6.0</td>\n",
              "      <td>5.0</td>\n",
              "      <td>3.0</td>\n",
              "      <td>4.0</td>\n",
              "      <td>2.0</td>\n",
              "      <td>NaN</td>\n",
              "      <td>1.0</td>\n",
              "      <td>NaN</td>\n",
              "      <td>1.0</td>\n",
              "      <td>25.0</td>\n",
              "      <td>NaN</td>\n",
              "      <td>NaN</td>\n",
              "      <td>26.0</td>\n",
              "      <td>19.166667</td>\n",
              "      <td>0.0</td>\n",
              "      <td>0.0</td>\n",
              "      <td>119.0</td>\n",
              "      <td>145.0</td>\n",
              "      <td>13.309195</td>\n",
              "      <td>93.266667</td>\n",
              "      <td>-0.933333</td>\n",
              "      <td>43.738462</td>\n",
              "      <td>93.266667</td>\n",
              "      <td>19.166667</td>\n",
              "      <td>26.0</td>\n",
              "      <td>26.0</td>\n",
              "      <td>27.0</td>\n",
              "      <td>0.0</td>\n",
              "      <td>-3.703704</td>\n",
              "      <td>0.0</td>\n",
              "      <td>0</td>\n",
              "    </tr>\n",
              "    <tr>\n",
              "      <th>6178f41ade1365e44bc2c46654c2c8c0eaae27dcb476c47fdef50b33f4f56f05</th>\n",
              "      <td>True</td>\n",
              "      <td>EMPRESARIO INDIVIDUAL</td>\n",
              "      <td>PI</td>\n",
              "      <td>OUTROS</td>\n",
              "      <td>SERVICOS DE ALOJAMENTO/ALIMENTACAO</td>\n",
              "      <td>SERVIÇO</td>\n",
              "      <td>1.463014</td>\n",
              "      <td>1 a 5</td>\n",
              "      <td>False</td>\n",
              "      <td>False</td>\n",
              "      <td>False</td>\n",
              "      <td>True</td>\n",
              "      <td>False</td>\n",
              "      <td>2017-05-12</td>\n",
              "      <td>False</td>\n",
              "      <td>True</td>\n",
              "      <td>True</td>\n",
              "      <td>SIM</td>\n",
              "      <td>ALIMENTACAO</td>\n",
              "      <td>ALOJAMENTO E ALIMENTACAO</td>\n",
              "      <td>False</td>\n",
              "      <td>False</td>\n",
              "      <td>False</td>\n",
              "      <td>NaN</td>\n",
              "      <td>NaN</td>\n",
              "      <td>NaN</td>\n",
              "      <td>NaN</td>\n",
              "      <td>NaN</td>\n",
              "      <td>NaN</td>\n",
              "      <td>0.0</td>\n",
              "      <td>0.0</td>\n",
              "      <td>NaN</td>\n",
              "      <td>NaN</td>\n",
              "      <td>NaN</td>\n",
              "      <td>NaN</td>\n",
              "      <td>PI</td>\n",
              "      <td>CINZA</td>\n",
              "      <td>ATE 1 ANO</td>\n",
              "      <td>9.0</td>\n",
              "      <td>BAIXA</td>\n",
              "      <td>...</td>\n",
              "      <td>210000.0</td>\n",
              "      <td>210000.0</td>\n",
              "      <td>NaN</td>\n",
              "      <td>NaN</td>\n",
              "      <td>NaN</td>\n",
              "      <td>NaN</td>\n",
              "      <td>NaN</td>\n",
              "      <td>NaN</td>\n",
              "      <td>NaN</td>\n",
              "      <td>NaN</td>\n",
              "      <td>NaN</td>\n",
              "      <td>NaN</td>\n",
              "      <td>NaN</td>\n",
              "      <td>NaN</td>\n",
              "      <td>NaN</td>\n",
              "      <td>NaN</td>\n",
              "      <td>NaN</td>\n",
              "      <td>NaN</td>\n",
              "      <td>NaN</td>\n",
              "      <td>NaN</td>\n",
              "      <td>NaN</td>\n",
              "      <td>NaN</td>\n",
              "      <td>NaN</td>\n",
              "      <td>NaN</td>\n",
              "      <td>NaN</td>\n",
              "      <td>NaN</td>\n",
              "      <td>NaN</td>\n",
              "      <td>NaN</td>\n",
              "      <td>NaN</td>\n",
              "      <td>NaN</td>\n",
              "      <td>NaN</td>\n",
              "      <td>NaN</td>\n",
              "      <td>NaN</td>\n",
              "      <td>NaN</td>\n",
              "      <td>NaN</td>\n",
              "      <td>NaN</td>\n",
              "      <td>NaN</td>\n",
              "      <td>NaN</td>\n",
              "      <td>NaN</td>\n",
              "      <td>0</td>\n",
              "    </tr>\n",
              "    <tr>\n",
              "      <th>4a7e5069a397f12fdd7fd57111d6dc5d3ba558958efc02edc5147bc2a2535b08</th>\n",
              "      <td>True</td>\n",
              "      <td>EMPRESARIO INDIVIDUAL</td>\n",
              "      <td>AM</td>\n",
              "      <td>OUTROS</td>\n",
              "      <td>TRANSPORTE, ARMAZENAGEM E CORREIO</td>\n",
              "      <td>SERVIÇO</td>\n",
              "      <td>7.093151</td>\n",
              "      <td>5 a 10</td>\n",
              "      <td>False</td>\n",
              "      <td>False</td>\n",
              "      <td>False</td>\n",
              "      <td>True</td>\n",
              "      <td>False</td>\n",
              "      <td>2011-09-26</td>\n",
              "      <td>False</td>\n",
              "      <td>False</td>\n",
              "      <td>True</td>\n",
              "      <td>SIM</td>\n",
              "      <td>TRANSPORTE TERRESTRE</td>\n",
              "      <td>TRANSPORTE ARMAZENAGEM E CORREIO</td>\n",
              "      <td>False</td>\n",
              "      <td>False</td>\n",
              "      <td>False</td>\n",
              "      <td>NaN</td>\n",
              "      <td>NaN</td>\n",
              "      <td>NaN</td>\n",
              "      <td>NaN</td>\n",
              "      <td>True</td>\n",
              "      <td>NaN</td>\n",
              "      <td>0.0</td>\n",
              "      <td>0.0</td>\n",
              "      <td>NaN</td>\n",
              "      <td>NaN</td>\n",
              "      <td>NaN</td>\n",
              "      <td>True</td>\n",
              "      <td>AM</td>\n",
              "      <td>AMARELO</td>\n",
              "      <td>ACIMA DE 1 ANO</td>\n",
              "      <td>26.0</td>\n",
              "      <td>MEDIA</td>\n",
              "      <td>...</td>\n",
              "      <td>50000.0</td>\n",
              "      <td>50000.0</td>\n",
              "      <td>NaN</td>\n",
              "      <td>NaN</td>\n",
              "      <td>NaN</td>\n",
              "      <td>NaN</td>\n",
              "      <td>NaN</td>\n",
              "      <td>NaN</td>\n",
              "      <td>NaN</td>\n",
              "      <td>NaN</td>\n",
              "      <td>NaN</td>\n",
              "      <td>NaN</td>\n",
              "      <td>NaN</td>\n",
              "      <td>NaN</td>\n",
              "      <td>NaN</td>\n",
              "      <td>NaN</td>\n",
              "      <td>NaN</td>\n",
              "      <td>NaN</td>\n",
              "      <td>NaN</td>\n",
              "      <td>NaN</td>\n",
              "      <td>NaN</td>\n",
              "      <td>NaN</td>\n",
              "      <td>NaN</td>\n",
              "      <td>NaN</td>\n",
              "      <td>NaN</td>\n",
              "      <td>NaN</td>\n",
              "      <td>NaN</td>\n",
              "      <td>NaN</td>\n",
              "      <td>NaN</td>\n",
              "      <td>NaN</td>\n",
              "      <td>NaN</td>\n",
              "      <td>NaN</td>\n",
              "      <td>NaN</td>\n",
              "      <td>NaN</td>\n",
              "      <td>NaN</td>\n",
              "      <td>NaN</td>\n",
              "      <td>NaN</td>\n",
              "      <td>NaN</td>\n",
              "      <td>NaN</td>\n",
              "      <td>0</td>\n",
              "    </tr>\n",
              "    <tr>\n",
              "      <th>3348900fe63216a439d2e5238c79ddd46ede454df7b9d8c24ac33eb21d4b21ef</th>\n",
              "      <td>True</td>\n",
              "      <td>EMPRESARIO INDIVIDUAL</td>\n",
              "      <td>AM</td>\n",
              "      <td>OUTROS</td>\n",
              "      <td>SERVICOS DIVERSOS</td>\n",
              "      <td>SERVIÇO</td>\n",
              "      <td>6.512329</td>\n",
              "      <td>5 a 10</td>\n",
              "      <td>False</td>\n",
              "      <td>False</td>\n",
              "      <td>False</td>\n",
              "      <td>False</td>\n",
              "      <td>False</td>\n",
              "      <td>2012-04-25</td>\n",
              "      <td>False</td>\n",
              "      <td>True</td>\n",
              "      <td>True</td>\n",
              "      <td>SIM</td>\n",
              "      <td>REPARACAO E MANUTENCAO DE EQUIPAMENTOS DE INFO...</td>\n",
              "      <td>OUTRAS ATIVIDADES DE SERVICOS</td>\n",
              "      <td>False</td>\n",
              "      <td>False</td>\n",
              "      <td>False</td>\n",
              "      <td>NaN</td>\n",
              "      <td>NaN</td>\n",
              "      <td>NaN</td>\n",
              "      <td>NaN</td>\n",
              "      <td>True</td>\n",
              "      <td>NaN</td>\n",
              "      <td>0.0</td>\n",
              "      <td>0.0</td>\n",
              "      <td>NaN</td>\n",
              "      <td>NaN</td>\n",
              "      <td>NaN</td>\n",
              "      <td>False</td>\n",
              "      <td>AM</td>\n",
              "      <td>AMARELO</td>\n",
              "      <td>ACIMA DE 1 ANO</td>\n",
              "      <td>26.0</td>\n",
              "      <td>MEDIA</td>\n",
              "      <td>...</td>\n",
              "      <td>210000.0</td>\n",
              "      <td>210000.0</td>\n",
              "      <td>NaN</td>\n",
              "      <td>NaN</td>\n",
              "      <td>NaN</td>\n",
              "      <td>NaN</td>\n",
              "      <td>NaN</td>\n",
              "      <td>NaN</td>\n",
              "      <td>NaN</td>\n",
              "      <td>NaN</td>\n",
              "      <td>NaN</td>\n",
              "      <td>NaN</td>\n",
              "      <td>NaN</td>\n",
              "      <td>NaN</td>\n",
              "      <td>NaN</td>\n",
              "      <td>NaN</td>\n",
              "      <td>NaN</td>\n",
              "      <td>NaN</td>\n",
              "      <td>NaN</td>\n",
              "      <td>NaN</td>\n",
              "      <td>NaN</td>\n",
              "      <td>NaN</td>\n",
              "      <td>NaN</td>\n",
              "      <td>NaN</td>\n",
              "      <td>NaN</td>\n",
              "      <td>NaN</td>\n",
              "      <td>NaN</td>\n",
              "      <td>NaN</td>\n",
              "      <td>NaN</td>\n",
              "      <td>NaN</td>\n",
              "      <td>NaN</td>\n",
              "      <td>NaN</td>\n",
              "      <td>NaN</td>\n",
              "      <td>NaN</td>\n",
              "      <td>NaN</td>\n",
              "      <td>NaN</td>\n",
              "      <td>NaN</td>\n",
              "      <td>NaN</td>\n",
              "      <td>NaN</td>\n",
              "      <td>0</td>\n",
              "    </tr>\n",
              "    <tr>\n",
              "      <th>1f9bcabc9d3173c1fe769899e4fac14b053037b953a1e4b102c769f7611ab29f</th>\n",
              "      <td>True</td>\n",
              "      <td>EMPRESARIO INDIVIDUAL</td>\n",
              "      <td>RN</td>\n",
              "      <td>OUTROS</td>\n",
              "      <td>SERVICOS PROFISSIONAIS, TECNICOS E CIENTIFICOS</td>\n",
              "      <td>SERVIÇO</td>\n",
              "      <td>3.200000</td>\n",
              "      <td>1 a 5</td>\n",
              "      <td>False</td>\n",
              "      <td>False</td>\n",
              "      <td>False</td>\n",
              "      <td>False</td>\n",
              "      <td>False</td>\n",
              "      <td>2015-08-17</td>\n",
              "      <td>False</td>\n",
              "      <td>True</td>\n",
              "      <td>True</td>\n",
              "      <td>SIM</td>\n",
              "      <td>SERVICOS DE ARQUITETURA E ENGENHARIA TESTES E ...</td>\n",
              "      <td>ATIVIDADES PROFISSIONAIS CIENTIFICAS E TECNICAS</td>\n",
              "      <td>False</td>\n",
              "      <td>False</td>\n",
              "      <td>False</td>\n",
              "      <td>NaN</td>\n",
              "      <td>NaN</td>\n",
              "      <td>NaN</td>\n",
              "      <td>NaN</td>\n",
              "      <td>True</td>\n",
              "      <td>NaN</td>\n",
              "      <td>0.0</td>\n",
              "      <td>0.0</td>\n",
              "      <td>NaN</td>\n",
              "      <td>NaN</td>\n",
              "      <td>NaN</td>\n",
              "      <td>False</td>\n",
              "      <td>RN</td>\n",
              "      <td>VERDE</td>\n",
              "      <td>ACIMA DE 1 ANO</td>\n",
              "      <td>27.0</td>\n",
              "      <td>ALTA</td>\n",
              "      <td>...</td>\n",
              "      <td>210000.0</td>\n",
              "      <td>210000.0</td>\n",
              "      <td>NaN</td>\n",
              "      <td>NaN</td>\n",
              "      <td>NaN</td>\n",
              "      <td>NaN</td>\n",
              "      <td>NaN</td>\n",
              "      <td>NaN</td>\n",
              "      <td>NaN</td>\n",
              "      <td>NaN</td>\n",
              "      <td>NaN</td>\n",
              "      <td>NaN</td>\n",
              "      <td>NaN</td>\n",
              "      <td>NaN</td>\n",
              "      <td>NaN</td>\n",
              "      <td>NaN</td>\n",
              "      <td>NaN</td>\n",
              "      <td>NaN</td>\n",
              "      <td>NaN</td>\n",
              "      <td>NaN</td>\n",
              "      <td>NaN</td>\n",
              "      <td>NaN</td>\n",
              "      <td>NaN</td>\n",
              "      <td>NaN</td>\n",
              "      <td>NaN</td>\n",
              "      <td>NaN</td>\n",
              "      <td>NaN</td>\n",
              "      <td>NaN</td>\n",
              "      <td>NaN</td>\n",
              "      <td>NaN</td>\n",
              "      <td>NaN</td>\n",
              "      <td>NaN</td>\n",
              "      <td>NaN</td>\n",
              "      <td>NaN</td>\n",
              "      <td>NaN</td>\n",
              "      <td>NaN</td>\n",
              "      <td>NaN</td>\n",
              "      <td>NaN</td>\n",
              "      <td>NaN</td>\n",
              "      <td>0</td>\n",
              "    </tr>\n",
              "  </tbody>\n",
              "</table>\n",
              "<p>5 rows × 180 columns</p>\n",
              "</div>"
            ],
            "text/plain": [
              "                                                    fl_matriz  ... qt_filiais\n",
              "id                                                             ...           \n",
              "a6984c3ae395090e3bee8ad63c3758b110de096d5d81958...       True  ...          0\n",
              "6178f41ade1365e44bc2c46654c2c8c0eaae27dcb476c47...       True  ...          0\n",
              "4a7e5069a397f12fdd7fd57111d6dc5d3ba558958efc02e...       True  ...          0\n",
              "3348900fe63216a439d2e5238c79ddd46ede454df7b9d8c...       True  ...          0\n",
              "1f9bcabc9d3173c1fe769899e4fac14b053037b953a1e4b...       True  ...          0\n",
              "\n",
              "[5 rows x 180 columns]"
            ]
          },
          "metadata": {
            "tags": []
          },
          "execution_count": 4
        }
      ]
    },
    {
      "cell_type": "code",
      "metadata": {
        "id": "ekqzH4ivYbR-",
        "colab_type": "code",
        "colab": {}
      },
      "source": [
        "#Reading portfolios\n",
        "raw_portfolio1 = pd.read_csv('gdrive/My Drive/Leads Recommender/data/estaticos_portfolio1.csv', index_col='id').drop(columns = 'Unnamed: 0')\n",
        "raw_portfolio2 = pd.read_csv('gdrive/My Drive/Leads Recommender/data/estaticos_portfolio2.csv', index_col='id').drop(columns = 'Unnamed: 0')\n",
        "raw_portfolio3 = pd.read_csv('gdrive/My Drive/Leads Recommender/data/estaticos_portfolio3.csv', index_col='id').drop(columns = 'Unnamed: 0')"
      ],
      "execution_count": 0,
      "outputs": []
    },
    {
      "cell_type": "markdown",
      "metadata": {
        "id": "ENi6fZc-Yfxe",
        "colab_type": "text"
      },
      "source": [
        "# Exploratory Data Analysis and Data Muning"
      ]
    },
    {
      "cell_type": "markdown",
      "metadata": {
        "id": "VcW3R8kbYiU2",
        "colab_type": "text"
      },
      "source": [
        "### Usefull functions"
      ]
    },
    {
      "cell_type": "code",
      "metadata": {
        "id": "AQIK-h8DYd5L",
        "colab_type": "code",
        "colab": {}
      },
      "source": [
        "def drop_col(df, col):\n",
        "  try:\n",
        "    df.drop(columns = col, inplace=True)\n",
        "  except:\n",
        "    print(f'The column {col} does not exist or has lready been removed.')"
      ],
      "execution_count": 0,
      "outputs": []
    },
    {
      "cell_type": "code",
      "metadata": {
        "id": "W9xX7vgeYyxC",
        "colab_type": "code",
        "colab": {}
      },
      "source": [
        "def encode(df):\n",
        "  categorical_columns = df.select_dtypes(exclude=['int64', 'float64']).columns.tolist()\n",
        "  numerical_columns = df.select_dtypes(include=['int64', 'float64']).columns.tolist()\n",
        "\n",
        "  df_processed = pd.get_dummies(data=df, columns=categorical_columns)\n",
        "\n",
        "  scaler = MinMaxScaler()\n",
        "  scaled_data = scaler.fit_transform(df[numerical_columns])\n",
        "  df_processed[numerical_columns] = scaled_data\n",
        "\n",
        "  return df_processed"
      ],
      "execution_count": 0,
      "outputs": []
    },
    {
      "cell_type": "markdown",
      "metadata": {
        "id": "gD5OzLoZY19v",
        "colab_type": "text"
      },
      "source": [
        "### Feature selection"
      ]
    },
    {
      "cell_type": "markdown",
      "metadata": {
        "id": "5G7kvVS5ASWe",
        "colab_type": "text"
      },
      "source": [
        "**In this section, we will analyse the behavior of the features and select wich are usefull to the model.**\n",
        "\n",
        "---\n",
        "\n"
      ]
    },
    {
      "cell_type": "markdown",
      "metadata": {
        "id": "37LfKzx0NJd-",
        "colab_type": "text"
      },
      "source": [
        "First of all, we must analyse the distribution of missing values of the main dataset."
      ]
    },
    {
      "cell_type": "code",
      "metadata": {
        "id": "pc4sn-iDY0Xe",
        "colab_type": "code",
        "colab": {
          "base_uri": "https://localhost:8080/",
          "height": 334
        },
        "outputId": "cbf21b01-fc7f-485c-8594-a3211191d5f9"
      },
      "source": [
        "fig, ax = plt.subplots(figsize=(15, 5))\n",
        "sns.lineplot(x=range(0, market.shape[1]), y=market.isnull().mean())\n",
        "ax.set(xlabel=' Column number', ylabel='Missing values (%)')\n",
        "plt.show()"
      ],
      "execution_count": 8,
      "outputs": [
        {
          "output_type": "display_data",
          "data": {
            "image/png": "[encoded data removed]",
            "text/plain": [
              "<Figure size 1080x360 with 1 Axes>"
            ]
          },
          "metadata": {
            "tags": [],
            "needs_background": "light"
          }
        }
      ]
    },
    {
      "cell_type": "markdown",
      "metadata": {
        "id": "6oYDGqxAmcEU",
        "colab_type": "text"
      },
      "source": [
        "As we can see, several columns have most of their values as missing. Therefore, let's remove them, taking the 67% threshold as the minimum of non-missing data in a given variable."
      ]
    },
    {
      "cell_type": "code",
      "metadata": {
        "id": "BvnQDXal88Q3",
        "colab_type": "code",
        "colab": {}
      },
      "source": [
        "threshold = 0.70\n",
        "market =  market.loc[:, market.notnull().mean() > threshold]"
      ],
      "execution_count": 0,
      "outputs": []
    },
    {
      "cell_type": "markdown",
      "metadata": {
        "id": "WEzOvQ4smkob",
        "colab_type": "text"
      },
      "source": [
        "---\n",
        "The recommendation we seek is independent of whether it is a parent company or not. Thus, the ```fl_matriz``` column  does not have relevance to our model, let's drop it.\n"
      ]
    },
    {
      "cell_type": "code",
      "metadata": {
        "id": "_idXX_I6AfB9",
        "colab_type": "code",
        "colab": {}
      },
      "source": [
        "drop_col(market, 'fl_matriz')"
      ],
      "execution_count": 0,
      "outputs": []
    },
    {
      "cell_type": "markdown",
      "metadata": {
        "id": "TDMtxjoJm04L",
        "colab_type": "text"
      },
      "source": [
        "----\n",
        "Now we are going to take a look at ```natureza_juridica_macro``` and ```de_natureza_juridica```."
      ]
    },
    {
      "cell_type": "code",
      "metadata": {
        "id": "8mKC1eS7lPFV",
        "colab_type": "code",
        "outputId": "8ca7b0a4-67f8-4d09-e99f-0359b36275fa",
        "colab": {
          "base_uri": "https://localhost:8080/",
          "height": 153
        }
      },
      "source": [
        "print(market['natureza_juridica_macro'].value_counts())"
      ],
      "execution_count": 11,
      "outputs": [
        {
          "output_type": "stream",
          "text": [
            "OUTROS                            320211\n",
            "ENTIDADES EMPRESARIAIS             99241\n",
            "ENTIDADES SEM FINS LUCRATIVOS      37089\n",
            "ADMINISTRACAO PUBLICA               2912\n",
            "CARGO POLITICO                      1617\n",
            "PESSOAS FISICAS                     1225\n",
            "INSTITUICOES EXTRATERRITORIAIS         3\n",
            "Name: natureza_juridica_macro, dtype: int64\n"
          ],
          "name": "stdout"
        }
      ]
    },
    {
      "cell_type": "code",
      "metadata": {
        "id": "zHAtFfFt6GyR",
        "colab_type": "code",
        "outputId": "982095ba-2a72-4304-c297-c6452868ea69",
        "colab": {
          "base_uri": "https://localhost:8080/",
          "height": 221
        }
      },
      "source": [
        "print(market['de_natureza_juridica'].value_counts())"
      ],
      "execution_count": 12,
      "outputs": [
        {
          "output_type": "stream",
          "text": [
            "EMPRESARIO INDIVIDUAL                                                     295756\n",
            "SOCIEDADE EMPRESARIA LIMITADA                                              91231\n",
            "ASSOCIACAO PRIVADA                                                         29694\n",
            "EMPRESA INDIVIDUAL DE RESPONSABILIDADE LIMITADA DE NATUREZA EMPRESARIA     15183\n",
            "ORGAO DE DIRECAO LOCAL DE PARTIDO POLITICO                                  7301\n",
            "                                                                           ...  \n",
            "SOCIEDADE SIMPLES EM NOME COLETIVO                                             1\n",
            "CONSORCIO PUBLICO DE DIREITO PRIVADO                                           1\n",
            "FUNDO PRIVADO                                                                  1\n",
            "CONSORCIO DE EMPREGADORES                                                      1\n",
            "ORGAO DE DIRECAO NACIONAL DE PARTIDO POLITICO                                  1\n",
            "Name: de_natureza_juridica, Length: 67, dtype: int64\n"
          ],
          "name": "stdout"
        }
      ]
    },
    {
      "cell_type": "markdown",
      "metadata": {
        "id": "4A94uzO95wp2",
        "colab_type": "text"
      },
      "source": [
        "It is noticeable that ```de_natureza_juridica``` describe the same as ```natureza_juridica_macro```, but in more detail. That said, in order to become more general, we can drop the specificist column."
      ]
    },
    {
      "cell_type": "code",
      "metadata": {
        "id": "hNZSZBV15u43",
        "colab_type": "code",
        "colab": {}
      },
      "source": [
        "drop_col(market, 'de_natureza_juridica')"
      ],
      "execution_count": 0,
      "outputs": []
    },
    {
      "cell_type": "markdown",
      "metadata": {
        "id": "oGS4znshm_le",
        "colab_type": "text"
      },
      "source": [
        "---\n",
        "Let's inspect now ```setor```, ```nm_divisao```, ```nm_segmento``` and ```de_ramo```."
      ]
    },
    {
      "cell_type": "code",
      "metadata": {
        "id": "CbBsndupl-gC",
        "colab_type": "code",
        "outputId": "c18bf371-38dd-47d0-c6c6-c74a6bfee715",
        "colab": {
          "base_uri": "https://localhost:8080/",
          "height": 119
        }
      },
      "source": [
        "print(market['setor'].value_counts())"
      ],
      "execution_count": 14,
      "outputs": [
        {
          "output_type": "stream",
          "text": [
            "COMERCIO            211224\n",
            "SERVIÇO             189644\n",
            "INDUSTRIA            30893\n",
            "CONSTRUÇÃO CIVIL     25363\n",
            "AGROPECUARIA          3247\n",
            "Name: setor, dtype: int64\n"
          ],
          "name": "stdout"
        }
      ]
    },
    {
      "cell_type": "code",
      "metadata": {
        "id": "pD7_w9ru88qy",
        "colab_type": "code",
        "outputId": "694800d7-f704-4f82-a2e1-0a9bb63d9603",
        "colab": {
          "base_uri": "https://localhost:8080/",
          "height": 595
        }
      },
      "source": [
        "print(market['de_ramo'].value_counts())"
      ],
      "execution_count": 15,
      "outputs": [
        {
          "output_type": "stream",
          "text": [
            "COMERCIO VAREJISTA                                   172404\n",
            "SERVICOS DIVERSOS                                     60318\n",
            "SERVICOS DE ALOJAMENTO/ALIMENTACAO                    30180\n",
            "INDUSTRIA DA CONSTRUCAO                               25363\n",
            "COMERCIO E REPARACAO DE VEICULOS                      22356\n",
            "SERVICOS ADMINISTRATIVOS                              21326\n",
            "BENS DE CONSUMO                                       21227\n",
            "SERVICOS PROFISSIONAIS, TECNICOS E CIENTIFICOS        17371\n",
            "COMERCIO POR ATACADO                                  16464\n",
            "TRANSPORTE, ARMAZENAGEM E CORREIO                     15485\n",
            "SERVICOS DE EDUCACAO                                  11311\n",
            "SERVICOS DE SAUDE                                      9788\n",
            "CULTURA, ESPORTE E RECREACAO                           5503\n",
            "SIDERURGICA-METALURGIA                                 3700\n",
            "TELECOM                                                3626\n",
            "PRODUTOS DE AGROPECUARIA                               3247\n",
            "QUIMICA-PETROQUIMICA                                   3131\n",
            "ADMINISTRACAO PUBLICA, DEFESA E SEGURIDADE SOCIAL      2754\n",
            "ATIVIDADES IMOBILIARIAS                                2670\n",
            "PAPEL E CELULOSE                                       2179\n",
            "OUTROS                                                 1927\n",
            "INDUSTRIA DIGITAL                                      1849\n",
            "SEGUROS, PLANOS DE PREVIDENCIA E PLANOS DE SAUDE       1770\n",
            "SERVICOS FINANCEIROS                                   1517\n",
            "SERVICOS DE SANEAMENTO BASICO                          1238\n",
            "TEXTEIS                                                1048\n",
            "INDUSTRIAS EXTRATIVAS                                   896\n",
            "ELETRICIDADE E GAS                                      607\n",
            "INDUSTRIA AUTOMOTIVA                                    410\n",
            "SERVICOS SOCIAIS                                        351\n",
            "ELETROELETRONICOS                                       251\n",
            "FARMACEUTICA                                             22\n",
            "ORGANISMOS INTERNACIONAIS                                 9\n",
            "Name: de_ramo, dtype: int64\n"
          ],
          "name": "stdout"
        }
      ]
    },
    {
      "cell_type": "code",
      "metadata": {
        "id": "SAOBRlTAa32M",
        "colab_type": "code",
        "outputId": "af68c2c0-3c78-4630-8bbd-22f0fb7175a9",
        "colab": {
          "base_uri": "https://localhost:8080/",
          "height": 221
        }
      },
      "source": [
        "print(market['nm_divisao'].value_counts())"
      ],
      "execution_count": 16,
      "outputs": [
        {
          "output_type": "stream",
          "text": [
            "COMERCIO VAREJISTA                                                   172404\n",
            "ATIVIDADES DE ORGANIZACOES ASSOCIATIVAS                               37984\n",
            "ALIMENTACAO                                                           27540\n",
            "COMERCIO E REPARACAO DE VEICULOS AUTOMOTORES E MOTOCICLETAS           22356\n",
            "COMERCIO POR ATACADO EXCETO VEICULOS AUTOMOTORES E MOTOCICLETAS       16464\n",
            "                                                                      ...  \n",
            "FABRICACAO DE PRODUTOS FARMOQUIMICOS E FARMACEUTICOS                     22\n",
            "DESCONTAMINACAO E OUTROS SERVICOS DE GESTAO DE RESIDUOS                  12\n",
            "ORGANISMOS INTERNACIONAIS E OUTRAS INSTITUICOES EXTRATERRITORIAIS         9\n",
            "FABRICACAO DE PRODUTOS DO FUMO                                            2\n",
            "EXTRACAO DE CARVAO MINERAL                                                1\n",
            "Name: nm_divisao, Length: 87, dtype: int64\n"
          ],
          "name": "stdout"
        }
      ]
    },
    {
      "cell_type": "code",
      "metadata": {
        "id": "P6wRacc0a5gz",
        "colab_type": "code",
        "outputId": "6a6fd413-8bac-4d6b-8e38-b8af76a0cf52",
        "colab": {
          "base_uri": "https://localhost:8080/",
          "height": 391
        }
      },
      "source": [
        "print(market['nm_segmento'].value_counts())"
      ],
      "execution_count": 17,
      "outputs": [
        {
          "output_type": "stream",
          "text": [
            "COMERCIO; REPARACAO DE VEICULOS AUTOMOTORES E MOTOCICLETAS           211224\n",
            "OUTRAS ATIVIDADES DE SERVICOS                                         59561\n",
            "INDUSTRIAS DE TRANSFORMACAO                                           31968\n",
            "ALOJAMENTO E ALIMENTACAO                                              30180\n",
            "CONSTRUCAO                                                            25363\n",
            "ATIVIDADES ADMINISTRATIVAS E SERVICOS COMPLEMENTARES                  21326\n",
            "ATIVIDADES PROFISSIONAIS CIENTIFICAS E TECNICAS                       17371\n",
            "TRANSPORTE ARMAZENAGEM E CORREIO                                      15485\n",
            "EDUCACAO                                                              11311\n",
            "SAUDE HUMANA E SERVICOS SOCIAIS                                       10139\n",
            "ARTES CULTURA ESPORTE E RECREACAO                                      5503\n",
            "INFORMACAO E COMUNICACAO                                               5475\n",
            "ATIVIDADES FINANCEIRAS DE SEGUROS E SERVICOS RELACIONADOS              3287\n",
            "AGRICULTURA PECUARIA PRODUCAO FLORESTAL PESCA E AQUICULTURA            3247\n",
            "ADMINISTRACAO PUBLICA DEFESA E SEGURIDADE SOCIAL                       2754\n",
            "ATIVIDADES IMOBILIARIAS                                                2670\n",
            "AGUA ESGOTO ATIVIDADES DE GESTAO DE RESIDUOS E DESCONTAMINACAO         1238\n",
            "INDUSTRIAS EXTRATIVAS                                                   896\n",
            "SERVICOS DOMESTICOS                                                     757\n",
            "ELETRICIDADE E GAS                                                      607\n",
            "ORGANISMOS INTERNACIONAIS E OUTRAS INSTITUICOES EXTRATERRITORIAIS         9\n",
            "Name: nm_segmento, dtype: int64\n"
          ],
          "name": "stdout"
        }
      ]
    },
    {
      "cell_type": "markdown",
      "metadata": {
        "id": "Xwql5CKq9AMa",
        "colab_type": "text"
      },
      "source": [
        "As before, here we have some variables that differ in the degree of specificity. We will remain with a intermediate one, ```nm_segmento``` sounds a good choice."
      ]
    },
    {
      "cell_type": "code",
      "metadata": {
        "id": "1arjl44T9mbE",
        "colab_type": "code",
        "colab": {
          "base_uri": "https://localhost:8080/",
          "height": 68
        },
        "outputId": "1e07482a-3697-4b5a-e49c-48c27ab6c73a"
      },
      "source": [
        "drop_col(market, 'setor')\n",
        "drop_col(market, 'de_ramo')\n",
        "drop_col(market, 'nm_divisao')"
      ],
      "execution_count": 19,
      "outputs": [
        {
          "output_type": "stream",
          "text": [
            "The column setor does not exist or has lready been removed.\n",
            "The column de_ramo does not exist or has lready been removed.\n",
            "The column nm_divisao does not exist or has lready been removed.\n"
          ],
          "name": "stdout"
        }
      ]
    },
    {
      "cell_type": "markdown",
      "metadata": {
        "id": "ufh3-oAins3L",
        "colab_type": "text"
      },
      "source": [
        "---\n",
        "The next ones to be analysed is ```idade_empresa_anos``` and ```idade_emp_cat```."
      ]
    },
    {
      "cell_type": "code",
      "metadata": {
        "id": "TF095xO8nVRx",
        "colab_type": "code",
        "outputId": "85d86b10-25fc-464a-fac9-cc27fe905829",
        "colab": {
          "base_uri": "https://localhost:8080/",
          "height": 297
        }
      },
      "source": [
        "fig, axes = plt.subplots()\n",
        "sns.distplot(market['idade_empresa_anos'])"
      ],
      "execution_count": 20,
      "outputs": [
        {
          "output_type": "execute_result",
          "data": {
            "text/plain": [
              "<matplotlib.axes._subplots.AxesSubplot at 0x7fa68e255048>"
            ]
          },
          "metadata": {
            "tags": []
          },
          "execution_count": 20
        },
        {
          "output_type": "display_data",
          "data": {
            "image/png": "[encoded data removed]",
            "text/plain": [
              "<Figure size 432x288 with 1 Axes>"
            ]
          },
          "metadata": {
            "tags": [],
            "needs_background": "light"
          }
        }
      ]
    },
    {
      "cell_type": "code",
      "metadata": {
        "id": "NWGWp63CngIK",
        "colab_type": "code",
        "outputId": "149ace0b-8a4b-4341-a94f-b276dd366d86",
        "colab": {
          "base_uri": "https://localhost:8080/",
          "height": 297
        }
      },
      "source": [
        "sns.countplot(market['idade_emp_cat'], order=['<= 1','1 a 5', '5 a 10', '10 a 15', '15 a 20', '> 20'])"
      ],
      "execution_count": 21,
      "outputs": [
        {
          "output_type": "execute_result",
          "data": {
            "text/plain": [
              "<matplotlib.axes._subplots.AxesSubplot at 0x7fa68dcf2d68>"
            ]
          },
          "metadata": {
            "tags": []
          },
          "execution_count": 21
        },
        {
          "output_type": "display_data",
          "data": {
            "image/png": "[encoded data removed]",
            "text/plain": [
              "<Figure size 432x288 with 1 Axes>"
            ]
          },
          "metadata": {
            "tags": [],
            "needs_background": "light"
          }
        }
      ]
    },
    {
      "cell_type": "markdown",
      "metadata": {
        "id": "Cav-Mjup_jIM",
        "colab_type": "text"
      },
      "source": [
        "To avoid a increase the dimensionality of our data, let's choose ```idade_empresas_anos``` to work with."
      ]
    },
    {
      "cell_type": "code",
      "metadata": {
        "id": "R7r8TXpoAuco",
        "colab_type": "code",
        "colab": {}
      },
      "source": [
        "drop_col(market, 'idade_emp_cat')"
      ],
      "execution_count": 0,
      "outputs": []
    },
    {
      "cell_type": "markdown",
      "metadata": {
        "id": "bIj7rXEdpAwM",
        "colab_type": "text"
      },
      "source": [
        "---\n",
        "The following variables tell us, primarily about the name of the companies and, in a second level, about the size of it. Although the second information may be relevant, there are other variables in the dataset that are better for this purpose."
      ]
    },
    {
      "cell_type": "code",
      "metadata": {
        "id": "1QpBjhaRodzo",
        "colab_type": "code",
        "colab": {}
      },
      "source": [
        "drop_col(market, 'fl_me')\n",
        "drop_col(market, 'fl_sa')\n",
        "drop_col(market, 'fl_epp')\n",
        "drop_col(market, 'fl_mei')\n",
        "drop_col(market, 'fl_ltda')"
      ],
      "execution_count": 0,
      "outputs": []
    },
    {
      "cell_type": "markdown",
      "metadata": {
        "id": "0tFD_eVgZru9",
        "colab_type": "text"
      },
      "source": [
        "----\n",
        "To our purpose, information about a possible extraordinary situation is identified by the IRS is not relevant. Thus, we will drop ```dt_situacao``` and ```fl_st_especial```."
      ]
    },
    {
      "cell_type": "code",
      "metadata": {
        "id": "Nb3rh756ZnWu",
        "colab_type": "code",
        "colab": {}
      },
      "source": [
        "drop_col(market, 'dt_situacao')\n",
        "drop_col(market, 'fl_st_especial')"
      ],
      "execution_count": 0,
      "outputs": []
    },
    {
      "cell_type": "markdown",
      "metadata": {
        "id": "tVSauyr1ecvT",
        "colab_type": "text"
      },
      "source": [
        "The next one is about if the companies performs any activity that is taxable under ISS and, also, is not relevant. "
      ]
    },
    {
      "cell_type": "code",
      "metadata": {
        "id": "iRl31-9JedC5",
        "colab_type": "code",
        "colab": {}
      },
      "source": [
        "drop_col(market, 'fl_passivel_iss')"
      ],
      "execution_count": 0,
      "outputs": []
    },
    {
      "cell_type": "markdown",
      "metadata": {
        "id": "lDbHSXgkapva",
        "colab_type": "text"
      },
      "source": [
        "\n",
        "In addition, ```fl_email``` and ```fl__telefone``` are not relevant because they just tell us about if there is a email or phone number registred in IRS database."
      ]
    },
    {
      "cell_type": "code",
      "metadata": {
        "id": "qVKeaEt3afIb",
        "colab_type": "code",
        "colab": {}
      },
      "source": [
        "drop_col(market, 'fl_email')\n",
        "drop_col(market, 'fl_telefone')"
      ],
      "execution_count": 0,
      "outputs": []
    },
    {
      "cell_type": "markdown",
      "metadata": {
        "id": "yE0SHVD1Bc42",
        "colab_type": "text"
      },
      "source": [
        "---\n",
        "Now, let's take a look at ```fl_spa```, ```fl_ant```, ```fl_veiculo```, ```vl_total_veiculos_leves_grupo``` and ```vl_total_veiculos_pesados_grupo```."
      ]
    },
    {
      "cell_type": "code",
      "metadata": {
        "id": "0t9FthowcTjj",
        "colab_type": "code",
        "outputId": "04e21c07-13e8-46e0-a3eb-b8e822faeaa0",
        "colab": {
          "base_uri": "https://localhost:8080/",
          "height": 68
        }
      },
      "source": [
        "print(market['fl_spa'].value_counts())"
      ],
      "execution_count": 27,
      "outputs": [
        {
          "output_type": "stream",
          "text": [
            "False    460091\n",
            "True        280\n",
            "Name: fl_spa, dtype: int64\n"
          ],
          "name": "stdout"
        }
      ]
    },
    {
      "cell_type": "code",
      "metadata": {
        "id": "w1P71AB7cUaZ",
        "colab_type": "code",
        "outputId": "bb83040b-dddd-463a-f71f-e985ddba5220",
        "colab": {
          "base_uri": "https://localhost:8080/",
          "height": 68
        }
      },
      "source": [
        "print(market['fl_antt'].value_counts())"
      ],
      "execution_count": 28,
      "outputs": [
        {
          "output_type": "stream",
          "text": [
            "False    457095\n",
            "True       3276\n",
            "Name: fl_antt, dtype: int64\n"
          ],
          "name": "stdout"
        }
      ]
    },
    {
      "cell_type": "code",
      "metadata": {
        "id": "l-yb1a8IcVKR",
        "colab_type": "code",
        "outputId": "7bddd4d4-93d5-4c06-e9d7-5e10428c748f",
        "colab": {
          "base_uri": "https://localhost:8080/",
          "height": 68
        }
      },
      "source": [
        "print(market['fl_veiculo'].value_counts())"
      ],
      "execution_count": 29,
      "outputs": [
        {
          "output_type": "stream",
          "text": [
            "False    429687\n",
            "True      30684\n",
            "Name: fl_veiculo, dtype: int64\n"
          ],
          "name": "stdout"
        }
      ]
    },
    {
      "cell_type": "code",
      "metadata": {
        "id": "-DHNqI47d4nR",
        "colab_type": "code",
        "outputId": "e5efbc26-8d15-4993-d188-cfd425b7195b",
        "colab": {
          "base_uri": "https://localhost:8080/",
          "height": 221
        }
      },
      "source": [
        "print(market['vl_total_veiculos_leves_grupo'].value_counts())"
      ],
      "execution_count": 30,
      "outputs": [
        {
          "output_type": "stream",
          "text": [
            "0.0       424180\n",
            "1.0        15738\n",
            "2.0         5232\n",
            "3.0         2610\n",
            "4.0         1569\n",
            "           ...  \n",
            "601.0          1\n",
            "353.0          1\n",
            "9713.0         1\n",
            "229.0          1\n",
            "218.0          1\n",
            "Name: vl_total_veiculos_leves_grupo, Length: 310, dtype: int64\n"
          ],
          "name": "stdout"
        }
      ]
    },
    {
      "cell_type": "code",
      "metadata": {
        "id": "7cKP9Uvxd6KP",
        "colab_type": "code",
        "outputId": "4559815c-c356-4a21-a1ef-07dee0459601",
        "colab": {
          "base_uri": "https://localhost:8080/",
          "height": 221
        }
      },
      "source": [
        "print(market['vl_total_veiculos_pesados_grupo'].value_counts())"
      ],
      "execution_count": 31,
      "outputs": [
        {
          "output_type": "stream",
          "text": [
            "0.0       441360\n",
            "1.0         6785\n",
            "2.0         2585\n",
            "3.0         1301\n",
            "4.0          827\n",
            "           ...  \n",
            "136.0          1\n",
            "681.0          1\n",
            "341.0          1\n",
            "191.0          1\n",
            "1495.0         1\n",
            "Name: vl_total_veiculos_pesados_grupo, Length: 296, dtype: int64\n"
          ],
          "name": "stdout"
        }
      ]
    },
    {
      "cell_type": "markdown",
      "metadata": {
        "id": "9yLc777LcusC",
        "colab_type": "text"
      },
      "source": [
        "We will drop all five variables because they have at least 90% of the distribution as a single value."
      ]
    },
    {
      "cell_type": "code",
      "metadata": {
        "id": "eFb95DTuBe5E",
        "colab_type": "code",
        "colab": {}
      },
      "source": [
        "drop_col(market, 'fl_spa')\n",
        "drop_col(market, 'fl_antt')\n",
        "drop_col(market, 'fl_veiculo')\n",
        "drop_col(market, 'vl_total_veiculos_leves_grupo')\n",
        "drop_col(market, 'vl_total_veiculos_pesados_grupo')"
      ],
      "execution_count": 0,
      "outputs": []
    },
    {
      "cell_type": "markdown",
      "metadata": {
        "id": "e_0vGnBKB-Xp",
        "colab_type": "text"
      },
      "source": [
        "----\n",
        "The following variables deal with the company's financial health and the date of the last update of this item.For our purpose, they are disposable.\n"
      ]
    },
    {
      "cell_type": "code",
      "metadata": {
        "id": "pXTL5AmrBWQb",
        "colab_type": "code",
        "colab": {}
      },
      "source": [
        "drop_col(market, 'de_saude_tributaria')\n",
        "drop_col(market, 'de_saude_rescencia')\n",
        "drop_col(market, 'nu_meses_rescencia')"
      ],
      "execution_count": 0,
      "outputs": []
    },
    {
      "cell_type": "markdown",
      "metadata": {
        "id": "9ljHo0TWG7_f",
        "colab_type": "text"
      },
      "source": [
        "---\n",
        "Let's take a look at ```nm_meso_regiao``` ,```nm_micro_regiao``` and ```sg_uf```."
      ]
    },
    {
      "cell_type": "code",
      "metadata": {
        "id": "NVBqdvSIct_K",
        "colab_type": "code",
        "outputId": "e88c648f-12a8-4b4f-eacd-3c256f3cfe08",
        "colab": {
          "base_uri": "https://localhost:8080/",
          "height": 357
        }
      },
      "source": [
        "print(market['nm_meso_regiao'].value_counts())"
      ],
      "execution_count": 34,
      "outputs": [
        {
          "output_type": "stream",
          "text": [
            "CENTRO AMAZONENSE         71469\n",
            "NORTE MARANHENSE          61331\n",
            "LESTE POTIGUAR            58762\n",
            "CENTRO NORTE PIAUIENSE    42244\n",
            "OESTE MARANHENSE          26796\n",
            "OESTE POTIGUAR            20860\n",
            "LESTE MARANHENSE          17651\n",
            "VALE DO ACRE              16539\n",
            "CENTRO MARANHENSE         13755\n",
            "SUDOESTE PIAUIENSE        12180\n",
            "NORTE PIAUIENSE           11919\n",
            "CENTRAL POTIGUAR          10681\n",
            "SUDESTE PIAUIENSE         10049\n",
            "AGRESTE POTIGUAR           7845\n",
            "SUL MARANHENSE             7382\n",
            "SUL AMAZONENSE             4931\n",
            "VALE DO JURUA              3900\n",
            "SUDOESTE AMAZONENSE        3738\n",
            "NORTE AMAZONENSE           1568\n",
            "Name: nm_meso_regiao, dtype: int64\n"
          ],
          "name": "stdout"
        }
      ]
    },
    {
      "cell_type": "code",
      "metadata": {
        "id": "S-aRReH-csPE",
        "colab_type": "code",
        "outputId": "e12768d6-c57f-4808-e931-095cd5725612",
        "colab": {
          "base_uri": "https://localhost:8080/",
          "height": 221
        }
      },
      "source": [
        "print(market['nm_micro_regiao'].value_counts())"
      ],
      "execution_count": 35,
      "outputs": [
        {
          "output_type": "stream",
          "text": [
            "MANAUS                            60008\n",
            "NATAL                             46745\n",
            "AGLOMERACAO URBANA DE SAO LUIS    45875\n",
            "TERESINA                          33887\n",
            "IMPERATRIZ                        15912\n",
            "                                  ...  \n",
            "BERTOLINIA                          854\n",
            "PIO IX                              823\n",
            "PURUS                               757\n",
            "MEDIO OESTE                         562\n",
            "JAPURA                              190\n",
            "Name: nm_micro_regiao, Length: 73, dtype: int64\n"
          ],
          "name": "stdout"
        }
      ]
    },
    {
      "cell_type": "code",
      "metadata": {
        "id": "GT-IdERScvVr",
        "colab_type": "code",
        "outputId": "e1416861-c16d-4c8a-eca2-3cc04167b79f",
        "colab": {
          "base_uri": "https://localhost:8080/",
          "height": 136
        }
      },
      "source": [
        "print(market['sg_uf'].value_counts())"
      ],
      "execution_count": 36,
      "outputs": [
        {
          "output_type": "stream",
          "text": [
            "MA    127654\n",
            "RN     98837\n",
            "AM     82114\n",
            "PI     76686\n",
            "RO     56469\n",
            "AC     20538\n",
            "Name: sg_uf, dtype: int64\n"
          ],
          "name": "stdout"
        }
      ]
    },
    {
      "cell_type": "markdown",
      "metadata": {
        "id": "PnpDdP3CczHD",
        "colab_type": "text"
      },
      "source": [
        "As has already happened, here we have the case of variables that deal strictly with the same issue (location), but with different degrees of specificity. Let's stay with the most generalist, which is the ```sg_uf```."
      ]
    },
    {
      "cell_type": "code",
      "metadata": {
        "id": "KqTL_Yg6cznL",
        "colab_type": "code",
        "colab": {}
      },
      "source": [
        "drop_col(market, 'nm_meso_regiao')\n",
        "drop_col(market, 'nm_micro_regiao')"
      ],
      "execution_count": 0,
      "outputs": []
    },
    {
      "cell_type": "markdown",
      "metadata": {
        "id": "M7tcR_q-Hp5F",
        "colab_type": "text"
      },
      "source": [
        "---\n",
        "All of the variables below inform us about the company's partners. This kind of data is irrelevant, let's drop these columns."
      ]
    },
    {
      "cell_type": "code",
      "metadata": {
        "id": "bKk8MajIBiuT",
        "colab_type": "code",
        "colab": {}
      },
      "source": [
        "drop_col(market, 'qt_socios')\n",
        "drop_col(market, 'qt_socios_pf')\n",
        "drop_col(market, 'qt_socios_pj')"
      ],
      "execution_count": 0,
      "outputs": []
    },
    {
      "cell_type": "markdown",
      "metadata": {
        "id": "U-ZHjdr0H2L4",
        "colab_type": "text"
      },
      "source": [
        "---\n",
        "Here we have another group of variables to be analyzed: ```vl_faturamento_estimado_grupo_aux``` and  ```de_faixa_faturamento_estimado_grupo```."
      ]
    },
    {
      "cell_type": "markdown",
      "metadata": {
        "id": "LRZvqteYio_2",
        "colab_type": "text"
      },
      "source": [
        "As we want to recommend leads, data about the group in which a company belongs is not important to us. Let's drop ```vl_faturamento_estimado_grupo_aux```,  ```de_faixa_faturamento_estimado_grupo``` and ```sg_uf_matriz```."
      ]
    },
    {
      "cell_type": "code",
      "metadata": {
        "id": "68SQQGLEinvx",
        "colab_type": "code",
        "colab": {}
      },
      "source": [
        "drop_col(market, 'vl_faturamento_estimado_grupo_aux')\n",
        "drop_col(market, 'de_faixa_faturamento_estimado_grupo')\n",
        "drop_col(market, 'sg_uf_matriz')"
      ],
      "execution_count": 0,
      "outputs": []
    },
    {
      "cell_type": "markdown",
      "metadata": {
        "id": "LM5tKK4gjb4k",
        "colab_type": "text"
      },
      "source": [
        "---\n",
        "Now, let's see ```vl_faturamento_estimado_aux``` and ```de_faixa_faturamento_estimado```."
      ]
    },
    {
      "cell_type": "code",
      "metadata": {
        "id": "E_Xx1VuNIBLN",
        "colab_type": "code",
        "outputId": "15a8d27b-c307-4eb3-9b7d-34cc9eb73f50",
        "colab": {
          "base_uri": "https://localhost:8080/",
          "height": 361
        }
      },
      "source": [
        "fig, axes = plt.subplots(figsize=(10, 5))\n",
        "sns.kdeplot(market['vl_faturamento_estimado_aux'], shade=True)"
      ],
      "execution_count": 40,
      "outputs": [
        {
          "output_type": "execute_result",
          "data": {
            "text/plain": [
              "<matplotlib.axes._subplots.AxesSubplot at 0x7fa68dc5d7f0>"
            ]
          },
          "metadata": {
            "tags": []
          },
          "execution_count": 40
        },
        {
          "output_type": "display_data",
          "data": {
            "image/png": "[encoded data removed]",
            "text/plain": [
              "<Figure size 720x360 with 1 Axes>"
            ]
          },
          "metadata": {
            "tags": [],
            "needs_background": "light"
          }
        }
      ]
    },
    {
      "cell_type": "code",
      "metadata": {
        "id": "igmmh2zQjTPV",
        "colab_type": "code",
        "outputId": "6bfc3afb-7cef-4915-8588-052cc3af10ad",
        "colab": {
          "base_uri": "https://localhost:8080/",
          "height": 623
        }
      },
      "source": [
        "fig, axes = plt.subplots(figsize=(10, 10))\n",
        "sns.countplot(y=market['de_faixa_faturamento_estimado'])"
      ],
      "execution_count": 41,
      "outputs": [
        {
          "output_type": "execute_result",
          "data": {
            "text/plain": [
              "<matplotlib.axes._subplots.AxesSubplot at 0x7fa68dbbd0f0>"
            ]
          },
          "metadata": {
            "tags": []
          },
          "execution_count": 41
        },
        {
          "output_type": "display_data",
          "data": {
            "image/png": "[encoded data removed]",
            "text/plain": [
              "<Figure size 720x720 with 1 Axes>"
            ]
          },
          "metadata": {
            "tags": [],
            "needs_background": "light"
          }
        }
      ]
    },
    {
      "cell_type": "markdown",
      "metadata": {
        "id": "E6z8h_bkhuX4",
        "colab_type": "text"
      },
      "source": [
        "The two variables previously plotted are the same thing, ```de_faixa_faturamento_estimado``` being a categorical version of ```vl_faturamento_estimado_aux```. In order not to increase the dimensionality, we will keep the numeric one."
      ]
    },
    {
      "cell_type": "code",
      "metadata": {
        "id": "1tnbDaDKgANx",
        "colab_type": "code",
        "colab": {}
      },
      "source": [
        "drop_col(market, 'de_faixa_faturamento_estimado')"
      ],
      "execution_count": 0,
      "outputs": []
    },
    {
      "cell_type": "markdown",
      "metadata": {
        "id": "YaWA_VomIbnY",
        "colab_type": "text"
      },
      "source": [
        "---\n",
        "The ```qt_filiais``` column have a low variance, because approximately\n",
        "90% of companies have 0 subsidiaries."
      ]
    },
    {
      "cell_type": "code",
      "metadata": {
        "id": "tr08pJsSIWsJ",
        "colab_type": "code",
        "outputId": "9e8152af-6c86-4be2-eb11-800a0d5049cd",
        "colab": {
          "base_uri": "https://localhost:8080/",
          "height": 221
        }
      },
      "source": [
        "print(market['qt_filiais'].value_counts())"
      ],
      "execution_count": 43,
      "outputs": [
        {
          "output_type": "stream",
          "text": [
            "0      418043\n",
            "1       19561\n",
            "2        5943\n",
            "3        2884\n",
            "4        1772\n",
            "        ...  \n",
            "173         1\n",
            "148         1\n",
            "209         1\n",
            "215         1\n",
            "404         1\n",
            "Name: qt_filiais, Length: 304, dtype: int64\n"
          ],
          "name": "stdout"
        }
      ]
    },
    {
      "cell_type": "markdown",
      "metadata": {
        "id": "hCofLJCBmlvW",
        "colab_type": "text"
      },
      "source": [
        "Thus, let's drop it."
      ]
    },
    {
      "cell_type": "code",
      "metadata": {
        "id": "rnieYwe_UNrW",
        "colab_type": "code",
        "colab": {}
      },
      "source": [
        "drop_col(market, 'qt_filiais')"
      ],
      "execution_count": 0,
      "outputs": []
    },
    {
      "cell_type": "markdown",
      "metadata": {
        "id": "j3ffAaKHphZ0",
        "colab_type": "text"
      },
      "source": [
        "---\n",
        "The following variables are about the company's tax regime and this information is irrelevant to the problem in question."
      ]
    },
    {
      "cell_type": "code",
      "metadata": {
        "id": "xtr45K4Jpmrd",
        "colab_type": "code",
        "colab": {}
      },
      "source": [
        "drop_col(market, 'fl_optante_simei')\n",
        "drop_col(market, 'fl_optante_simples')\n",
        "drop_col(market, 'fl_simples_irregular')"
      ],
      "execution_count": 0,
      "outputs": []
    },
    {
      "cell_type": "markdown",
      "metadata": {
        "id": "I7DATk49r2Ne",
        "colab_type": "text"
      },
      "source": [
        "---\n",
        "The probability of company being operating is irrelevant by now, so we can drop```de_nivel_atividade```."
      ]
    },
    {
      "cell_type": "code",
      "metadata": {
        "id": "SRA5QelbsIbN",
        "colab_type": "code",
        "colab": {}
      },
      "source": [
        "drop_col(market, 'de_nivel_atividade')"
      ],
      "execution_count": 0,
      "outputs": []
    }
  ]
}